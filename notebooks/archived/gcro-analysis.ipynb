{
 "cells": [
  {
   "cell_type": "markdown",
   "source": [
    "# My Notebook\n",
    "This is a Jupyter Notebook for in progress work that I am doing that I have not extracted into the right places yet or made permanent in my repo."
   ],
   "metadata": {
    "collapsed": false
   }
  },
  {
   "cell_type": "code",
   "source": [
    "# Imports\n",
    "import pandas as pd\n",
    "import matplotlib.pyplot as plt"
   ],
   "metadata": {
    "collapsed": false,
    "ExecuteTime": {
     "end_time": "2025-03-26T21:20:54.909170Z",
     "start_time": "2025-03-26T21:20:53.388275Z"
    }
   },
   "outputs": [],
   "execution_count": 1
  },
  {
   "cell_type": "markdown",
   "source": [
    "## Analysing GCRO Data"
   ],
   "metadata": {
    "collapsed": false
   }
  },
  {
   "cell_type": "code",
   "source": [
    "# CONSTANTS\n",
    "\n",
    "# Data file paths\n",
    "GCRO_2021 = '../../data/surveys/gcro-2021.dta'\n",
    "GCRO_2018 = '../../data/surveys/gcro-2018.dta'\n",
    "GCRO_2016 = '../../data/surveys/gcro-2016.dta'\n",
    "df_gcro_2021 = pd.read_stata(GCRO_2021, convert_categoricals=False)\n",
    "df_gcro_2018 = pd.read_stata(GCRO_2018, convert_categoricals=False)\n",
    "df_gcro_2016 = pd.read_stata(GCRO_2016, convert_categoricals=False)\n",
    "df_gcro_2021.head()\n"
   ],
   "metadata": {
    "collapsed": false,
    "ExecuteTime": {
     "end_time": "2025-03-26T21:21:31.868693Z",
     "start_time": "2025-03-26T21:21:30.868841Z"
    }
   },
   "outputs": [
    {
     "data": {
      "text/plain": [
       "                              unique_id interview_date  Date_month  \\\n",
       "0  0002c645-1eda-4740-a065-0f40a24c0eaa     2021-02-20           5   \n",
       "1  0006144d-bc67-479e-8482-37bd84c42233     2021-01-15           4   \n",
       "2  00151a00-e290-4ed7-ad05-9159e200ba48     2020-11-20           2   \n",
       "3  00166da5-86bd-4628-bb60-2c1d6a6e66bd     2020-11-10           2   \n",
       "4  001ae7eb-a39b-4268-9f63-0588fa71b6e9     2020-11-05           2   \n",
       "\n",
       "   District_municipality  municipality_coded Planning_region  \\\n",
       "0                      1                   1    Ekurhuleni_A   \n",
       "1                      5                   7   Merafong City   \n",
       "2                      2                   2  Johannesburg_D   \n",
       "3                      5                   8     Mogale City   \n",
       "4                      2                   2  Johannesburg_D   \n",
       "\n",
       "  Planning_region_code  ward_code   ea_code  adult_count  ...   F1servic  \\\n",
       "0                EKU_A   79700036  79710758            4  ...  10.000000   \n",
       "1                GT484   74804018  76610311            3  ...  10.000000   \n",
       "2                JHB_D   79800043  79813663            3  ...   8.564746   \n",
       "3                GT481   74801012  76310192            1  ...  10.000000   \n",
       "4                JHB_D   79800037  79810807            1  ...   0.000000   \n",
       "\n",
       "   F2soclas  F3govsat  F4lifsat   F5health  F6safety   F7partic  \\\n",
       "0  7.795356  6.465669  7.500000   7.350730  5.580920  10.000000   \n",
       "1  7.765167  4.024354  3.667370  10.000000  4.064736   6.709857   \n",
       "2  2.962554  4.851819  3.181259  10.000000  3.795571   2.535863   \n",
       "3  3.195065  3.559272  5.840366  10.000000  8.143101   2.535863   \n",
       "4  2.578229  2.244718  0.000000   6.025358  1.652470   2.535863   \n",
       "\n",
       "   QoLIndex_Data_Driven   HH_WEIGHT  DOWNSCALE_MUN_PP_BENCHWGT  \n",
       "0             79.555756  516.784167                   1.228062  \n",
       "1             70.034147   71.698750                   0.208980  \n",
       "2             55.429275  475.072713                   1.529085  \n",
       "3             64.974098  104.777569                   0.235093  \n",
       "4             19.383139  798.882790                   1.250373  \n",
       "\n",
       "[5 rows x 330 columns]"
      ],
      "text/html": [
       "<div>\n",
       "<style scoped>\n",
       "    .dataframe tbody tr th:only-of-type {\n",
       "        vertical-align: middle;\n",
       "    }\n",
       "\n",
       "    .dataframe tbody tr th {\n",
       "        vertical-align: top;\n",
       "    }\n",
       "\n",
       "    .dataframe thead th {\n",
       "        text-align: right;\n",
       "    }\n",
       "</style>\n",
       "<table border=\"1\" class=\"dataframe\">\n",
       "  <thead>\n",
       "    <tr style=\"text-align: right;\">\n",
       "      <th></th>\n",
       "      <th>unique_id</th>\n",
       "      <th>interview_date</th>\n",
       "      <th>Date_month</th>\n",
       "      <th>District_municipality</th>\n",
       "      <th>municipality_coded</th>\n",
       "      <th>Planning_region</th>\n",
       "      <th>Planning_region_code</th>\n",
       "      <th>ward_code</th>\n",
       "      <th>ea_code</th>\n",
       "      <th>adult_count</th>\n",
       "      <th>...</th>\n",
       "      <th>F1servic</th>\n",
       "      <th>F2soclas</th>\n",
       "      <th>F3govsat</th>\n",
       "      <th>F4lifsat</th>\n",
       "      <th>F5health</th>\n",
       "      <th>F6safety</th>\n",
       "      <th>F7partic</th>\n",
       "      <th>QoLIndex_Data_Driven</th>\n",
       "      <th>HH_WEIGHT</th>\n",
       "      <th>DOWNSCALE_MUN_PP_BENCHWGT</th>\n",
       "    </tr>\n",
       "  </thead>\n",
       "  <tbody>\n",
       "    <tr>\n",
       "      <th>0</th>\n",
       "      <td>0002c645-1eda-4740-a065-0f40a24c0eaa</td>\n",
       "      <td>2021-02-20</td>\n",
       "      <td>5</td>\n",
       "      <td>1</td>\n",
       "      <td>1</td>\n",
       "      <td>Ekurhuleni_A</td>\n",
       "      <td>EKU_A</td>\n",
       "      <td>79700036</td>\n",
       "      <td>79710758</td>\n",
       "      <td>4</td>\n",
       "      <td>...</td>\n",
       "      <td>10.000000</td>\n",
       "      <td>7.795356</td>\n",
       "      <td>6.465669</td>\n",
       "      <td>7.500000</td>\n",
       "      <td>7.350730</td>\n",
       "      <td>5.580920</td>\n",
       "      <td>10.000000</td>\n",
       "      <td>79.555756</td>\n",
       "      <td>516.784167</td>\n",
       "      <td>1.228062</td>\n",
       "    </tr>\n",
       "    <tr>\n",
       "      <th>1</th>\n",
       "      <td>0006144d-bc67-479e-8482-37bd84c42233</td>\n",
       "      <td>2021-01-15</td>\n",
       "      <td>4</td>\n",
       "      <td>5</td>\n",
       "      <td>7</td>\n",
       "      <td>Merafong City</td>\n",
       "      <td>GT484</td>\n",
       "      <td>74804018</td>\n",
       "      <td>76610311</td>\n",
       "      <td>3</td>\n",
       "      <td>...</td>\n",
       "      <td>10.000000</td>\n",
       "      <td>7.765167</td>\n",
       "      <td>4.024354</td>\n",
       "      <td>3.667370</td>\n",
       "      <td>10.000000</td>\n",
       "      <td>4.064736</td>\n",
       "      <td>6.709857</td>\n",
       "      <td>70.034147</td>\n",
       "      <td>71.698750</td>\n",
       "      <td>0.208980</td>\n",
       "    </tr>\n",
       "    <tr>\n",
       "      <th>2</th>\n",
       "      <td>00151a00-e290-4ed7-ad05-9159e200ba48</td>\n",
       "      <td>2020-11-20</td>\n",
       "      <td>2</td>\n",
       "      <td>2</td>\n",
       "      <td>2</td>\n",
       "      <td>Johannesburg_D</td>\n",
       "      <td>JHB_D</td>\n",
       "      <td>79800043</td>\n",
       "      <td>79813663</td>\n",
       "      <td>3</td>\n",
       "      <td>...</td>\n",
       "      <td>8.564746</td>\n",
       "      <td>2.962554</td>\n",
       "      <td>4.851819</td>\n",
       "      <td>3.181259</td>\n",
       "      <td>10.000000</td>\n",
       "      <td>3.795571</td>\n",
       "      <td>2.535863</td>\n",
       "      <td>55.429275</td>\n",
       "      <td>475.072713</td>\n",
       "      <td>1.529085</td>\n",
       "    </tr>\n",
       "    <tr>\n",
       "      <th>3</th>\n",
       "      <td>00166da5-86bd-4628-bb60-2c1d6a6e66bd</td>\n",
       "      <td>2020-11-10</td>\n",
       "      <td>2</td>\n",
       "      <td>5</td>\n",
       "      <td>8</td>\n",
       "      <td>Mogale City</td>\n",
       "      <td>GT481</td>\n",
       "      <td>74801012</td>\n",
       "      <td>76310192</td>\n",
       "      <td>1</td>\n",
       "      <td>...</td>\n",
       "      <td>10.000000</td>\n",
       "      <td>3.195065</td>\n",
       "      <td>3.559272</td>\n",
       "      <td>5.840366</td>\n",
       "      <td>10.000000</td>\n",
       "      <td>8.143101</td>\n",
       "      <td>2.535863</td>\n",
       "      <td>64.974098</td>\n",
       "      <td>104.777569</td>\n",
       "      <td>0.235093</td>\n",
       "    </tr>\n",
       "    <tr>\n",
       "      <th>4</th>\n",
       "      <td>001ae7eb-a39b-4268-9f63-0588fa71b6e9</td>\n",
       "      <td>2020-11-05</td>\n",
       "      <td>2</td>\n",
       "      <td>2</td>\n",
       "      <td>2</td>\n",
       "      <td>Johannesburg_D</td>\n",
       "      <td>JHB_D</td>\n",
       "      <td>79800037</td>\n",
       "      <td>79810807</td>\n",
       "      <td>1</td>\n",
       "      <td>...</td>\n",
       "      <td>0.000000</td>\n",
       "      <td>2.578229</td>\n",
       "      <td>2.244718</td>\n",
       "      <td>0.000000</td>\n",
       "      <td>6.025358</td>\n",
       "      <td>1.652470</td>\n",
       "      <td>2.535863</td>\n",
       "      <td>19.383139</td>\n",
       "      <td>798.882790</td>\n",
       "      <td>1.250373</td>\n",
       "    </tr>\n",
       "  </tbody>\n",
       "</table>\n",
       "<p>5 rows × 330 columns</p>\n",
       "</div>"
      ]
     },
     "execution_count": 4,
     "metadata": {},
     "output_type": "execute_result"
    }
   ],
   "execution_count": 4
  },
  {
   "cell_type": "code",
   "source": [
    "print(f'Household count GCRO 2021 = {len(df_gcro_2021)}')\n",
    "print(f'Household count GCRO 2018 = {len(df_gcro_2018)}')\n",
    "print(f'Household count GCRO 2016 = {len(df_gcro_2016)}')\n"
   ],
   "metadata": {
    "collapsed": false,
    "ExecuteTime": {
     "end_time": "2025-03-26T21:21:31.930958Z",
     "start_time": "2025-03-26T21:21:31.916930Z"
    }
   },
   "outputs": [
    {
     "name": "stdout",
     "output_type": "stream",
     "text": [
      "Household count GCRO 2021 = 13616\n",
      "Household count GCRO 2018 = 24889\n",
      "Household count GCRO 2016 = 30002\n"
     ]
    }
   ],
   "execution_count": 5
  },
  {
   "cell_type": "code",
   "source": [
    "# Households for Gauteng\n",
    "dhs_2016 = 1252\n",
    "ghs_2021 = 1799\n",
    "ghs_2020 = 1974\n",
    "ghs_2019 = 15455\n",
    "ghs_2018 = 4996\n",
    "ghs_2017 = 5089\n",
    "gcro_2021 = len(df_gcro_2021)\n",
    "gcro_2018 = len(df_gcro_2018)\n",
    "gcro_2016 = len(df_gcro_2016)\n",
    "\n",
    "GAUTENG_KM = 18176\n",
    "\n",
    "households_km = {\n",
    "    'DHS 2016': dhs_2016,\n",
    "    'GHS 2021': ghs_2021,\n",
    "    'GHS 2020': ghs_2020,\n",
    "    'GHS 2019': ghs_2019,\n",
    "    'GHS 2018': ghs_2018,\n",
    "    'GHS 2017': ghs_2017,\n",
    "    'GCRO 2021': gcro_2021,\n",
    "    'GCRO 2018': gcro_2018,\n",
    "    'GCRO 2016': gcro_2016,\n",
    "}\n",
    "\n",
    "for i in households_km:\n",
    "    print(f'Households per km^2 {i} = {households_km[i]}')\n",
    "\n"
   ],
   "metadata": {
    "collapsed": false,
    "ExecuteTime": {
     "end_time": "2025-03-26T21:23:00.596479Z",
     "start_time": "2025-03-26T21:23:00.586932Z"
    }
   },
   "outputs": [
    {
     "name": "stdout",
     "output_type": "stream",
     "text": [
      "Households per km^2 DHS 2016 = 1252\n",
      "Households per km^2 GHS 2021 = 1799\n",
      "Households per km^2 GHS 2020 = 1974\n",
      "Households per km^2 GHS 2019 = 15455\n",
      "Households per km^2 GHS 2018 = 4996\n",
      "Households per km^2 GHS 2017 = 5089\n",
      "Households per km^2 GCRO 2021 = 13616\n",
      "Households per km^2 GCRO 2018 = 24889\n",
      "Households per km^2 GCRO 2016 = 30002\n"
     ]
    }
   ],
   "execution_count": 8
  },
  {
   "cell_type": "code",
   "source": [
    "# Histogram\n",
    "fig, ax = plt.subplots()\n",
    "names = list(households_km.keys())\n",
    "values = list(households_km.values())\n",
    "\n",
    "ax.bar(names, values)\n",
    "plt.xticks(rotation=90)\n",
    "plt.show()"
   ],
   "metadata": {
    "collapsed": false,
    "ExecuteTime": {
     "end_time": "2025-03-26T21:23:01.467463Z",
     "start_time": "2025-03-26T21:23:01.391804Z"
    }
   },
   "outputs": [
    {
     "data": {
      "text/plain": [
       "<Figure size 640x480 with 1 Axes>"
      ],
      "image/png": "[encoded data removed]"
     },
     "metadata": {},
     "output_type": "display_data"
    }
   ],
   "execution_count": 9
  },
  {
   "cell_type": "code",
   "execution_count": 6,
   "outputs": [
    {
     "name": "stdout",
     "output_type": "stream",
     "text": [
      "EA Code Clusters GCRO 2021 = 3118\n"
     ]
    }
   ],
   "source": [
    "# EA Code Clusters\n",
    "ea_code_clusters = df_gcro_2021.groupby(['ea_code']).count()\n",
    "\n",
    "print(f'EA Code Clusters GCRO 2021 = {len(ea_code_clusters)}')"
   ],
   "metadata": {
    "collapsed": false,
    "ExecuteTime": {
     "end_time": "2023-06-06T06:01:51.253163700Z",
     "start_time": "2023-06-06T06:01:51.214567700Z"
    }
   }
  },
  {
   "cell_type": "code",
   "execution_count": 7,
   "outputs": [
    {
     "name": "stdout",
     "output_type": "stream",
     "text": [
      "Ward Code Clusters GCRO 2021 = 529\n"
     ]
    }
   ],
   "source": [
    "# Ward Code Clusters\n",
    "ward_code_clusters = df_gcro_2021.groupby(['ward_code']).count()\n",
    "\n",
    "print(f'Ward Code Clusters GCRO 2021 = {len(ward_code_clusters)}')"
   ],
   "metadata": {
    "collapsed": false,
    "ExecuteTime": {
     "end_time": "2023-06-06T06:01:52.239520300Z",
     "start_time": "2023-06-06T06:01:52.206396400Z"
    }
   }
  },
  {
   "cell_type": "code",
   "execution_count": 8,
   "outputs": [
    {
     "name": "stdout",
     "output_type": "stream",
     "text": [
      "Planning Region Clusters GCRO 2021 = 26\n"
     ]
    }
   ],
   "source": [
    "# Planning Regions Clusters\n",
    "planning_region_clusters = df_gcro_2021.groupby(['Planning_region_code']).count()\n",
    "\n",
    "print(f'Planning Region Clusters GCRO 2021 = {len(planning_region_clusters)}')"
   ],
   "metadata": {
    "collapsed": false,
    "ExecuteTime": {
     "end_time": "2023-06-06T06:04:21.167899800Z",
     "start_time": "2023-06-06T06:04:21.134900900Z"
    }
   }
  },
  {
   "cell_type": "code",
   "execution_count": 9,
   "outputs": [
    {
     "name": "stdout",
     "output_type": "stream",
     "text": [
      "Municipality Clusters GCRO 2021 = 9\n"
     ]
    }
   ],
   "source": [
    "# Municipality Clusters\n",
    "municipality_clusters = df_gcro_2021.groupby(['municipality_coded']).count()\n",
    "\n",
    "print(f'Municipality Clusters GCRO 2021 = {len(municipality_clusters)}')"
   ],
   "metadata": {
    "collapsed": false,
    "ExecuteTime": {
     "end_time": "2023-06-06T06:04:21.710821800Z",
     "start_time": "2023-06-06T06:04:21.656783900Z"
    }
   }
  },
  {
   "cell_type": "code",
   "execution_count": 10,
   "outputs": [
    {
     "name": "stdout",
     "output_type": "stream",
     "text": [
      "District municipality Clusters GCRO 2021 = 5\n"
     ]
    }
   ],
   "source": [
    "# District municipality Clusters\n",
    "district_clusters = df_gcro_2021.groupby(['District_municipality']).count()\n",
    "\n",
    "print(f'District municipality Clusters GCRO 2021 = {len(district_clusters)}')"
   ],
   "metadata": {
    "collapsed": false,
    "ExecuteTime": {
     "end_time": "2023-06-06T06:04:22.593733400Z",
     "start_time": "2023-06-06T06:04:22.567798100Z"
    }
   }
  },
  {
   "cell_type": "code",
   "execution_count": 11,
   "outputs": [
    {
     "name": "stdout",
     "output_type": "stream",
     "text": [
      "Households per cluster GCRO 2021 = 25.73913043478261\n"
     ]
    }
   ],
   "source": [
    "# Households per ward cluster\n",
    "a = len(df_gcro_2021) / len(ward_code_clusters)\n",
    "\n",
    "print(f'Households per cluster GCRO 2021 = {a}')"
   ],
   "metadata": {
    "collapsed": false,
    "ExecuteTime": {
     "end_time": "2023-06-06T06:04:23.359457400Z",
     "start_time": "2023-06-06T06:04:23.350456900Z"
    }
   }
  },
  {
   "cell_type": "code",
   "execution_count": 12,
   "outputs": [],
   "source": [
    "# By region (per data set)\n",
    "# There are 5 regions (corresponds to GADM):\n",
    "# City of Tshwane\n",
    "# City of Johannesburg\n",
    "# West Rand\n",
    "# Ekurhuleni\n",
    "# Sedibeng"
   ],
   "metadata": {
    "collapsed": false,
    "ExecuteTime": {
     "end_time": "2023-06-06T06:04:24.076817400Z",
     "start_time": "2023-06-06T06:04:24.050818600Z"
    }
   }
  },
  {
   "cell_type": "markdown",
   "source": [
    "# Analysis of 2021 Data\n",
    "Taking a look at the sample design [here](https://cdn.gcro.ac.za/media/documents/2021.11.17_QoL_6_Sample_design.pdf).\n",
    "![GCRO Sample Distribution 2021](../../assets/gcro-sample-distribution-2021.png)\n",
    "\n",
    "```R\n",
    "# Aggregate household-level data to cluster level\n",
    "cluster <- function(df, dhs = F){\n",
    "  # Record how many households comprise each cluster\n",
    "  for (i in 1:nrow(df)){\n",
    "    sub <- subset(df, lat == df$lat[i] & lon == df$lon[i])\n",
    "    df$n[i] <- nrow(sub)\n",
    "  }\n",
    "  # Clustering for LSMS survey data\n",
    "  df <- if (dhs == FALSE)\n",
    "    ddply(df, .(lat, lon), summarise,\n",
    "          cons = mean(cons),\n",
    "          nl = mean(nl),\n",
    "          n = mean(n),\n",
    "          sample = min(sample))\n",
    "  # Clustering for DHS survey data\n",
    "  else ddply(df, .(lat, lon), summarise,\n",
    "             wealthscore = mean(wealthscore),\n",
    "             nl = mean(nl),\n",
    "             n = mean(n),\n",
    "             sample = min(sample))\n",
    "  return(df)\n",
    "}\n",
    "```\n"
   ],
   "metadata": {
    "collapsed": false
   }
  },
  {
   "cell_type": "code",
   "execution_count": 15,
   "outputs": [
    {
     "data": {
      "text/plain": "Planning_region\nEkurhuleni_A      61.480495\nEkurhuleni_B      62.518654\nEkurhuleni_C      60.938414\nEkurhuleni_D      60.542533\nEkurhuleni_E      60.224523\nEkurhuleni_F      60.867347\nEmfuleni          57.344270\nJohannesburg_A    60.517315\nJohannesburg_B    70.587468\nJohannesburg_C    62.660253\nJohannesburg_D    60.852875\nJohannesburg_E    64.687781\nJohannesburg_F    64.649536\nJohannesburg_G    58.308128\nLesedi            61.698951\nMerafong City     57.911275\nMidvaal           63.860959\nMogale City       59.377321\nRand West         56.748319\nTshwane_1         62.248526\nTshwane_2         60.488300\nTshwane_3         64.108529\nTshwane_4         69.254629\nTshwane_5         56.304427\nTshwane_6         63.383513\nTshwane_7         57.581580\nName: QoLIndex_Data_Driven, dtype: float64"
     },
     "execution_count": 15,
     "metadata": {},
     "output_type": "execute_result"
    }
   ],
   "source": [
    "region_group_with_qol = df_gcro_2021.groupby(['Planning_region'])['QoLIndex_Data_Driven'].mean()\n",
    "region_group_with_qol"
   ],
   "metadata": {
    "collapsed": false,
    "ExecuteTime": {
     "end_time": "2023-06-06T06:05:10.626281Z",
     "start_time": "2023-06-06T06:05:10.613264500Z"
    }
   }
  },
  {
   "cell_type": "markdown",
   "source": [
    "Joburg segment corresponds to table from doc:\n",
    "![CoJ QoL](../../assets/gcro-qol-city-of-joburg.png)"
   ],
   "metadata": {
    "collapsed": false
   }
  },
  {
   "cell_type": "code",
   "execution_count": 16,
   "outputs": [
    {
     "data": {
      "text/plain": "District_municipality\n1    61.197549\n2    62.628624\n3    63.195500\n4    60.476952\n5    58.065435\nName: QoLIndex_Data_Driven, dtype: float64"
     },
     "execution_count": 16,
     "metadata": {},
     "output_type": "execute_result"
    }
   ],
   "source": [
    "# This is what will likely be used to retrieve maps as it's what corresponds to the GADM DB\n",
    "district_muni_with_qol = df_gcro_2021.groupby(['District_municipality'])['QoLIndex_Data_Driven'].mean()\n",
    "district_muni_with_qol"
   ],
   "metadata": {
    "collapsed": false,
    "ExecuteTime": {
     "end_time": "2023-06-06T06:05:14.031904800Z",
     "start_time": "2023-06-06T06:05:14.019354300Z"
    }
   }
  },
  {
   "cell_type": "code",
   "execution_count": null,
   "outputs": [],
   "source": [],
   "metadata": {
    "collapsed": false
   }
  }
 ],
 "metadata": {
  "kernelspec": {
   "display_name": "Python 3",
   "language": "python",
   "name": "python3"
  },
  "language_info": {
   "codemirror_mode": {
    "name": "ipython",
    "version": 2
   },
   "file_extension": ".py",
   "mimetype": "text/x-python",
   "name": "python",
   "nbconvert_exporter": "python",
   "pygments_lexer": "ipython2",
   "version": "2.7.6"
  }
 },
 "nbformat": 4,
 "nbformat_minor": 0
}
