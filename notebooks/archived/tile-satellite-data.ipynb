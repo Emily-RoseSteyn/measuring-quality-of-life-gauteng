{
 "cells": [
  {
   "cell_type": "markdown",
   "source": [
    "# Tiling\n",
    "Tile an image into 256 x 256 chunks"
   ],
   "metadata": {
    "collapsed": false
   }
  },
  {
   "cell_type": "code",
   "execution_count": 1,
   "source": [
    "import matplotlib.pyplot as plt\n",
    "# Imports\n",
    "from tqdm import tqdm\n",
    "import numpy as np\n",
    "import rasterio as rio\n",
    "import earthpy.spatial as es"
   ],
   "metadata": {
    "collapsed": false,
    "ExecuteTime": {
     "end_time": "2023-07-22T20:19:08.226460100Z",
     "start_time": "2023-07-22T20:19:05.441948700Z"
    }
   },
   "outputs": []
  },
  {
   "cell_type": "code",
   "execution_count": 2,
   "source": [
    "\n",
    "\n",
    "def read_image(file_name) -> np.ndarray:\n",
    "    \"\"\"\n",
    "    Read image from file_name\n",
    "    Args: file_name: image file name\n",
    "    Returns: image array\n",
    "    \"\"\"\n",
    "    try:\n",
    "        if not Path(file_name).is_file():\n",
    "            print(file_name + \"Cannot open file!\")\n",
    "            return None\n",
    "        with rio.open(file_name) as img :\n",
    "            img = img.read()\n",
    "            return img\n",
    "    except Exception as e:\n",
    "        print(\"Error in read_image: \" + str(e))\n",
    "        return None\n",
    "\n",
    "\n",
    "def save_image(img_arr, file_name, crs) -> str:\n",
    "    \"\"\"\n",
    "    Save image to file_name\n",
    "    Args: img_arr: image array\n",
    "    Output: file_name: image file name\n",
    "    \"\"\"\n",
    "    # if Path(file_name).is_file():\n",
    "    #     print(f\"Overwrite existing file: {file_name}\")\n",
    "    with rio.open(file_name,\n",
    "                    'w',\n",
    "                  driver='GTiff',\n",
    "                  count=img_arr.shape[0],\n",
    "                  height=img_arr.shape[1],\n",
    "                  width=img_arr.shape[2],\n",
    "                  dtype=img_arr.dtype,\n",
    "                  crs=crs) as dest:\n",
    "        dest.write(img_arr)\n",
    "    return file_name\n",
    "\n",
    "\n",
    "def save_png_image(file_name, bands=None) -> str:\n",
    "    \"\"\"\n",
    "    Save geotiff image to png\n",
    "    Args: file_name: geotiff file_name\n",
    "    Output: file_name: image file name\n",
    "    \"\"\"\n",
    "    if bands is None:\n",
    "        bands = [1, 2, 3]\n",
    "    with rio.open(file_name) as infile:\n",
    "        profile=infile.profile\n",
    "        png_filename=file_name.with_suffix('.png')\n",
    "        raster=infile.read(bands)\n",
    "        with rio.open(png_filename, 'w',\n",
    "                  driver='PNG',\n",
    "                  count=raster.shape[0],\n",
    "                  height=raster.shape[1],\n",
    "                  width=raster.shape[2],\n",
    "                  dtype=raster.dtype,\n",
    "                  crs=profile['crs']) as dst:\n",
    "            dst.write(raster)\n",
    "    return file_name\n",
    "\n",
    "\n",
    "def count_files(folder_path):\n",
    "    \"\"\"\n",
    "    Count the number of files in the folder\n",
    "    Args: folder_path: folder path\n",
    "    Returns: number of files\n",
    "    \"\"\"\n",
    "    count = 0\n",
    "    for path in Path(folder_path).iterdir():\n",
    "        if path.is_file():\n",
    "            count += 1\n",
    "    return count\n",
    "\n",
    "\n",
    "# DEPRECATED\n",
    "def padding_image(img, stride) -> np.ndarray:\n",
    "    \"\"\"\n",
    "    Padding image to the size of multiple of stride\n",
    "    Args:\n",
    "        img: image array\n",
    "        stride: stride\n",
    "    Returns:\n",
    "        padded image array\n",
    "    \"\"\"\n",
    "\n",
    "    if len(img.shape) == 2:\n",
    "        img = img[:, :, np.newaxis]\n",
    "    height = img.shape[0]\n",
    "    width = img.shape[1]\n",
    "    D = img.shape[2]  # this one is for (H, W, C) format\n",
    "    # get the minial padding image size\n",
    "    H = int(np.ceil(height / stride) * stride)\n",
    "    W = int(np.ceil(width / stride) * stride)\n",
    "\n",
    "    padded_img = np.zeros([H, W, D], dtype=img.dtype)\n",
    "    for d in range(D):  # padding every layer\n",
    "        onelayer = img[:, :, d]\n",
    "        padded_img[:, :, d] = np.pad(\n",
    "            onelayer, ((0, H - height), (0, W - width)), \"reflect\"\n",
    "        )\n",
    "    padded_img = np.squeeze(padded_img)  # Remove axes of length one\n",
    "    return padded_img"
   ],
   "metadata": {
    "collapsed": false,
    "ExecuteTime": {
     "end_time": "2023-07-22T20:19:08.239510Z",
     "start_time": "2023-07-22T20:19:08.230462100Z"
    }
   },
   "outputs": []
  },
  {
   "cell_type": "code",
   "execution_count": 3,
   "metadata": {
    "collapsed": true,
    "ExecuteTime": {
     "end_time": "2023-07-22T20:19:08.266662700Z",
     "start_time": "2023-07-22T20:19:08.244509200Z"
    }
   },
   "source": [
    "\n",
    "\n",
    "def tile_image(image_path, save_path, bands=(1,2,3), crop_size = 256, repetition_rate=0, overwrite=True) -> int:\n",
    "    \"\"\"\n",
    "    Tile large image\n",
    "\n",
    "    # Arguments\n",
    "        image_path: image path\n",
    "        save_path: save path\n",
    "        crop_size: crop size\n",
    "        repetition_rate: repetition rate\n",
    "        overwrite: overwrite existing files\n",
    "\n",
    "    Returns:\n",
    "        number of tiles\n",
    "    \"\"\"\n",
    "\n",
    "    # check crs\n",
    "    crs = es.crs_check(image_path)\n",
    "\n",
    "    # check input image\n",
    "    img = read_image(image_path)\n",
    "    if img is None:\n",
    "        return 0\n",
    "    # get image suffix\n",
    "    ext = Path(image_path).suffix\n",
    "    print(ext)\n",
    "    # check output folder, if not exists, creat it.\n",
    "    Path(save_path).mkdir(parents=True, exist_ok=True)\n",
    "\n",
    "    print(f\"Input Image File Shape (D, H, W):{ img.shape}\")\n",
    "\n",
    "    stride = int(crop_size * (1 - repetition_rate))\n",
    "    print(f\"crop_size = {crop_size}, stride = {stride}\")\n",
    "\n",
    "    # Ignoring pixels outside \"nice\" shape\n",
    "    H = img.shape[1] - (img.shape[1]%stride)\n",
    "    W = img.shape[2] - (img.shape[2]%stride)\n",
    "    print(f\"Selected Image File Shape (D, H, W): {img.shape[0]}, { H }, { W }\")\n",
    "\n",
    "    if overwrite:\n",
    "        new_name = 1\n",
    "    else:\n",
    "        cnt = count_files(save_path)\n",
    "        new_name = cnt + 1\n",
    "        print(f\"There are {cnt} files in the {save_path}\")\n",
    "        print(f\"New image name will start with {new_name}\")\n",
    "\n",
    "    n_rows = int((H - crop_size) / stride + 1)\n",
    "    n_cols = int((W - crop_size) / stride + 1)\n",
    "    print(n_rows)\n",
    "    print(n_cols)\n",
    "\n",
    "    def tile_generator():\n",
    "        for idh in range(n_rows):\n",
    "            h = idh * stride\n",
    "            for idw in range(n_cols):\n",
    "                w = idw * stride\n",
    "                yield h, w\n",
    "\n",
    "    with tqdm(\n",
    "        total=n_rows * n_cols, desc=\"Generating\", colour=\"green\", leave=True, unit=\"img\"\n",
    "    ) as pbar:\n",
    "        for n, (h, w) in enumerate(tile_generator()):\n",
    "            crop_img = img[:, h : h + crop_size, w : w + crop_size]\n",
    "            crop_image_name = f\"{new_name:04d}{ext}\"\n",
    "            crop_image_path = Path(save_path) / crop_image_name\n",
    "            file_name = save_image(crop_img, crop_image_path, crs)\n",
    "            save_png_image(file_name, bands)\n",
    "            new_name += 1\n",
    "            pbar.update(1)\n",
    "\n",
    "    return n + 1\n",
    "\n"
   ],
   "outputs": []
  },
  {
   "cell_type": "code",
   "execution_count": 4,
   "source": [
    "from pathlib import Path"
   ],
   "metadata": {
    "collapsed": false,
    "ExecuteTime": {
     "end_time": "2023-07-22T20:19:08.270641600Z",
     "start_time": "2023-07-22T20:19:08.254641900Z"
    }
   },
   "outputs": []
  },
  {
   "cell_type": "code",
   "execution_count": 9,
   "source": [
    "path = '../data/images/20230318_075512_29_249d_3B_AnalyticMS_SR_8b.tif'\n",
    "output = '../outputs/tiled-satellite-images'\n",
    "tile_image(path, output, (2,4,6))\n"
   ],
   "metadata": {
    "collapsed": false,
    "ExecuteTime": {
     "end_time": "2023-06-27T04:51:14.515879100Z",
     "start_time": "2023-06-27T04:51:14.496881Z"
    }
   },
   "outputs": []
  },
  {
   "cell_type": "code",
   "execution_count": 5,
   "source": [
    "path2 = '../data/images/trial-image-rgb/composite.tif'\n",
    "output2 = '../outputs/tiled-satellite-images-rgb'\n",
    "tile_image(path2, output2)"
   ],
   "metadata": {
    "collapsed": false,
    "ExecuteTime": {
     "end_time": "2023-07-22T20:22:12.224498700Z",
     "start_time": "2023-07-22T20:19:10.325151600Z"
    }
   },
   "outputs": []
  },
  {
   "cell_type": "code",
   "execution_count": 6,
   "source": [
    "with rio.open(f'{output2}/0001.png') as src :\n",
    "    img = src.read((1,2,3))\n",
    "    print(img.shape)\n",
    "    img = np.transpose(img, (1, 2, 0))\n",
    "    print(img.shape)\n",
    "\n",
    "    plt.imshow(img)\n"
   ],
   "metadata": {
    "collapsed": false,
    "ExecuteTime": {
     "end_time": "2023-07-22T20:25:14.558781200Z",
     "start_time": "2023-07-22T20:25:14.397361500Z"
    }
   },
   "outputs": []
  },
  {
   "cell_type": "code",
   "execution_count": null,
   "source": [],
   "metadata": {
    "collapsed": false
   },
   "outputs": []
  }
 ],
 "metadata": {
  "kernelspec": {
   "display_name": "Python 3",
   "language": "python",
   "name": "python3"
  },
  "language_info": {
   "codemirror_mode": {
    "name": "ipython",
    "version": 2
   },
   "file_extension": ".py",
   "mimetype": "text/x-python",
   "name": "python",
   "nbconvert_exporter": "python",
   "pygments_lexer": "ipython2",
   "version": "2.7.6"
  }
 },
 "nbformat": 4,
 "nbformat_minor": 0
}
