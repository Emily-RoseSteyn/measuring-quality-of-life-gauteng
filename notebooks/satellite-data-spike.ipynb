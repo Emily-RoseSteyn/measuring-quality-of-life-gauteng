{
 "cells": [
  {
   "cell_type": "markdown",
   "source": [
    "# Satellite Data Spike"
   ],
   "metadata": {
    "collapsed": false
   }
  },
  {
   "cell_type": "code",
   "execution_count": null,
   "outputs": [],
   "source": [
    "import rasterio\n",
    "import numpy\n",
    "\n",
    "image_file = \"20161228_101647_0e26_3B_AnalyticMS.tif\"\n",
    "\n",
    "# Load red and NIR bands - note all PlanetScope 4-band images have band order BGRN\n",
    "with rasterio.open(image_file) as src:\n",
    "    band_red = src.read(3)\n",
    "\n",
    "with rasterio.open(image_file) as src:\n",
    "    band_nir = src.read(4)"
   ],
   "metadata": {
    "collapsed": false
   }
  }
 ],
 "metadata": {
  "kernelspec": {
   "display_name": "Python 3",
   "language": "python",
   "name": "python3"
  },
  "language_info": {
   "codemirror_mode": {
    "name": "ipython",
    "version": 2
   },
   "file_extension": ".py",
   "mimetype": "text/x-python",
   "name": "python",
   "nbconvert_exporter": "python",
   "pygments_lexer": "ipython2",
   "version": "2.7.6"
  }
 },
 "nbformat": 4,
 "nbformat_minor": 0
}
