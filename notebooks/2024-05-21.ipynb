{
 "cells": [
  {
   "metadata": {},
   "cell_type": "markdown",
   "source": "## Analysing Results??",
   "id": "1ea3c47121a3449d"
  },
  {
   "metadata": {
    "ExecuteTime": {
     "end_time": "2024-05-21T11:21:56.966400Z",
     "start_time": "2024-05-21T11:21:54.927742Z"
    }
   },
   "cell_type": "code",
   "source": "import pandas as pd",
   "id": "918faf7577aa0cd1",
   "outputs": [],
   "execution_count": 1
  },
  {
   "cell_type": "code",
   "id": "initial_id",
   "metadata": {
    "collapsed": true,
    "ExecuteTime": {
     "end_time": "2024-05-21T11:26:16.225424Z",
     "start_time": "2024-05-21T11:26:16.148290Z"
    }
   },
   "source": [
    "results = pd.read_csv('../temp-outputs/misc/predictions.csv')\n",
    "results.head()"
   ],
   "outputs": [
    {
     "data": {
      "text/plain": [
       "                          tile  year  index_right  ward_code  counts  \\\n",
       "0  2018-04-1179-868_00_05.tiff  2018          321   74804001      47   \n",
       "1  2018-04-1179-868_00_08.tiff  2018          332   74804012      33   \n",
       "2  2018-04-1179-868_00_09.tiff  2018          332   74804012      33   \n",
       "3  2018-04-1179-868_00_10.tiff  2018          332   74804012      33   \n",
       "4  2018-04-1179-868_00_11.tiff  2018          332   74804012      33   \n",
       "\n",
       "   services  socioeconomic_status  government_satisfaction  life_satisfaction  \\\n",
       "0  8.447754              2.686076                 5.115498           6.728948   \n",
       "1  8.430467              4.163434                 5.253326           6.159752   \n",
       "2  8.430467              4.163434                 5.253326           6.159752   \n",
       "3  8.430467              4.163434                 5.253326           6.159752   \n",
       "4  8.430467              4.163434                 5.253326           6.159752   \n",
       "\n",
       "     health    safety  participation  qol_index  \\\n",
       "0  7.584857  4.870927       8.116613  62.041629   \n",
       "1  7.595147  6.096639       6.007039  63.701792   \n",
       "2  7.595147  6.096639       6.007039  63.701792   \n",
       "3  7.595147  6.096639       6.007039  63.701792   \n",
       "4  7.595147  6.096639       6.007039  63.701792   \n",
       "\n",
       "                                            geometry  prediction  \n",
       "0  POLYGON ((27.257080074395514 -26.3328069194477... -396.195282  \n",
       "1  POLYGON ((27.257080074395514 -26.3623420655454... -365.945831  \n",
       "2  POLYGON ((27.257080074395514 -26.3721854382412... -183.787430  \n",
       "3  POLYGON ((27.257080074395514 -26.3820279725698... -320.853027  \n",
       "4  POLYGON ((27.257080074395514 -26.3918696683124... -290.758606  "
      ],
      "text/html": [
       "<div>\n",
       "<style scoped>\n",
       "    .dataframe tbody tr th:only-of-type {\n",
       "        vertical-align: middle;\n",
       "    }\n",
       "\n",
       "    .dataframe tbody tr th {\n",
       "        vertical-align: top;\n",
       "    }\n",
       "\n",
       "    .dataframe thead th {\n",
       "        text-align: right;\n",
       "    }\n",
       "</style>\n",
       "<table border=\"1\" class=\"dataframe\">\n",
       "  <thead>\n",
       "    <tr style=\"text-align: right;\">\n",
       "      <th></th>\n",
       "      <th>tile</th>\n",
       "      <th>year</th>\n",
       "      <th>index_right</th>\n",
       "      <th>ward_code</th>\n",
       "      <th>counts</th>\n",
       "      <th>services</th>\n",
       "      <th>socioeconomic_status</th>\n",
       "      <th>government_satisfaction</th>\n",
       "      <th>life_satisfaction</th>\n",
       "      <th>health</th>\n",
       "      <th>safety</th>\n",
       "      <th>participation</th>\n",
       "      <th>qol_index</th>\n",
       "      <th>geometry</th>\n",
       "      <th>prediction</th>\n",
       "    </tr>\n",
       "  </thead>\n",
       "  <tbody>\n",
       "    <tr>\n",
       "      <th>0</th>\n",
       "      <td>2018-04-1179-868_00_05.tiff</td>\n",
       "      <td>2018</td>\n",
       "      <td>321</td>\n",
       "      <td>74804001</td>\n",
       "      <td>47</td>\n",
       "      <td>8.447754</td>\n",
       "      <td>2.686076</td>\n",
       "      <td>5.115498</td>\n",
       "      <td>6.728948</td>\n",
       "      <td>7.584857</td>\n",
       "      <td>4.870927</td>\n",
       "      <td>8.116613</td>\n",
       "      <td>62.041629</td>\n",
       "      <td>POLYGON ((27.257080074395514 -26.3328069194477...</td>\n",
       "      <td>-396.195282</td>\n",
       "    </tr>\n",
       "    <tr>\n",
       "      <th>1</th>\n",
       "      <td>2018-04-1179-868_00_08.tiff</td>\n",
       "      <td>2018</td>\n",
       "      <td>332</td>\n",
       "      <td>74804012</td>\n",
       "      <td>33</td>\n",
       "      <td>8.430467</td>\n",
       "      <td>4.163434</td>\n",
       "      <td>5.253326</td>\n",
       "      <td>6.159752</td>\n",
       "      <td>7.595147</td>\n",
       "      <td>6.096639</td>\n",
       "      <td>6.007039</td>\n",
       "      <td>63.701792</td>\n",
       "      <td>POLYGON ((27.257080074395514 -26.3623420655454...</td>\n",
       "      <td>-365.945831</td>\n",
       "    </tr>\n",
       "    <tr>\n",
       "      <th>2</th>\n",
       "      <td>2018-04-1179-868_00_09.tiff</td>\n",
       "      <td>2018</td>\n",
       "      <td>332</td>\n",
       "      <td>74804012</td>\n",
       "      <td>33</td>\n",
       "      <td>8.430467</td>\n",
       "      <td>4.163434</td>\n",
       "      <td>5.253326</td>\n",
       "      <td>6.159752</td>\n",
       "      <td>7.595147</td>\n",
       "      <td>6.096639</td>\n",
       "      <td>6.007039</td>\n",
       "      <td>63.701792</td>\n",
       "      <td>POLYGON ((27.257080074395514 -26.3721854382412...</td>\n",
       "      <td>-183.787430</td>\n",
       "    </tr>\n",
       "    <tr>\n",
       "      <th>3</th>\n",
       "      <td>2018-04-1179-868_00_10.tiff</td>\n",
       "      <td>2018</td>\n",
       "      <td>332</td>\n",
       "      <td>74804012</td>\n",
       "      <td>33</td>\n",
       "      <td>8.430467</td>\n",
       "      <td>4.163434</td>\n",
       "      <td>5.253326</td>\n",
       "      <td>6.159752</td>\n",
       "      <td>7.595147</td>\n",
       "      <td>6.096639</td>\n",
       "      <td>6.007039</td>\n",
       "      <td>63.701792</td>\n",
       "      <td>POLYGON ((27.257080074395514 -26.3820279725698...</td>\n",
       "      <td>-320.853027</td>\n",
       "    </tr>\n",
       "    <tr>\n",
       "      <th>4</th>\n",
       "      <td>2018-04-1179-868_00_11.tiff</td>\n",
       "      <td>2018</td>\n",
       "      <td>332</td>\n",
       "      <td>74804012</td>\n",
       "      <td>33</td>\n",
       "      <td>8.430467</td>\n",
       "      <td>4.163434</td>\n",
       "      <td>5.253326</td>\n",
       "      <td>6.159752</td>\n",
       "      <td>7.595147</td>\n",
       "      <td>6.096639</td>\n",
       "      <td>6.007039</td>\n",
       "      <td>63.701792</td>\n",
       "      <td>POLYGON ((27.257080074395514 -26.3918696683124...</td>\n",
       "      <td>-290.758606</td>\n",
       "    </tr>\n",
       "  </tbody>\n",
       "</table>\n",
       "</div>"
      ]
     },
     "execution_count": 3,
     "metadata": {},
     "output_type": "execute_result"
    }
   ],
   "execution_count": 3
  },
  {
   "metadata": {
    "ExecuteTime": {
     "end_time": "2024-05-21T11:26:49.990606Z",
     "start_time": "2024-05-21T11:26:49.984273Z"
    }
   },
   "cell_type": "code",
   "source": [
    "y_test = results[\"qol_index\"]\n",
    "y_pred = results[\"prediction\"]"
   ],
   "id": "3f38587f8a4f067",
   "outputs": [],
   "execution_count": 6
  },
  {
   "metadata": {
    "ExecuteTime": {
     "end_time": "2024-05-21T11:33:49.954681Z",
     "start_time": "2024-05-21T11:33:49.840627Z"
    }
   },
   "cell_type": "code",
   "source": [
    "from matplotlib import pyplot as plt\n",
    "\n",
    "plt.scatter(y_test, y_pred, marker='.')\n",
    "plt.xlabel('Actual')\n",
    "plt.ylabel('Predicted')\n",
    "plt.title('Actual vs Predicted')\n",
    "plt.show()"
   ],
   "id": "db028d1e1db8cc2b",
   "outputs": [
    {
     "data": {
      "text/plain": [
       "<Figure size 640x480 with 1 Axes>"
      ],
      "image/png": "[encoded data removed]"
     },
     "metadata": {},
     "output_type": "display_data"
    }
   ],
   "execution_count": 9
  },
  {
   "metadata": {
    "ExecuteTime": {
     "end_time": "2024-05-21T11:42:29.631317Z",
     "start_time": "2024-05-21T11:42:29.611681Z"
    }
   },
   "cell_type": "code",
   "source": [
    "results_test = pd.read_csv('../outputs/misc/predictions-test.csv')\n",
    "results_test.head()"
   ],
   "id": "e07e573fd992e811",
   "outputs": [
    {
     "data": {
      "text/plain": [
       "   Unnamed: 0                         tile  qol_index split  prediction\n",
       "0          13  2018-04-1179-868_01_04.tiff  62.041629  test   139.09724\n",
       "1          36  2018-04-1179-868_02_08.tiff  62.041629  test   263.25974\n",
       "2          70  2018-04-1179-868_03_15.tiff  55.810812  test   257.92773\n",
       "3         118  2018-04-1179-868_05_14.tiff  55.810812  test   333.34497\n",
       "4         151  2018-04-1179-868_07_00.tiff  62.041629  test   193.00093"
      ],
      "text/html": [
       "<div>\n",
       "<style scoped>\n",
       "    .dataframe tbody tr th:only-of-type {\n",
       "        vertical-align: middle;\n",
       "    }\n",
       "\n",
       "    .dataframe tbody tr th {\n",
       "        vertical-align: top;\n",
       "    }\n",
       "\n",
       "    .dataframe thead th {\n",
       "        text-align: right;\n",
       "    }\n",
       "</style>\n",
       "<table border=\"1\" class=\"dataframe\">\n",
       "  <thead>\n",
       "    <tr style=\"text-align: right;\">\n",
       "      <th></th>\n",
       "      <th>Unnamed: 0</th>\n",
       "      <th>tile</th>\n",
       "      <th>qol_index</th>\n",
       "      <th>split</th>\n",
       "      <th>prediction</th>\n",
       "    </tr>\n",
       "  </thead>\n",
       "  <tbody>\n",
       "    <tr>\n",
       "      <th>0</th>\n",
       "      <td>13</td>\n",
       "      <td>2018-04-1179-868_01_04.tiff</td>\n",
       "      <td>62.041629</td>\n",
       "      <td>test</td>\n",
       "      <td>139.09724</td>\n",
       "    </tr>\n",
       "    <tr>\n",
       "      <th>1</th>\n",
       "      <td>36</td>\n",
       "      <td>2018-04-1179-868_02_08.tiff</td>\n",
       "      <td>62.041629</td>\n",
       "      <td>test</td>\n",
       "      <td>263.25974</td>\n",
       "    </tr>\n",
       "    <tr>\n",
       "      <th>2</th>\n",
       "      <td>70</td>\n",
       "      <td>2018-04-1179-868_03_15.tiff</td>\n",
       "      <td>55.810812</td>\n",
       "      <td>test</td>\n",
       "      <td>257.92773</td>\n",
       "    </tr>\n",
       "    <tr>\n",
       "      <th>3</th>\n",
       "      <td>118</td>\n",
       "      <td>2018-04-1179-868_05_14.tiff</td>\n",
       "      <td>55.810812</td>\n",
       "      <td>test</td>\n",
       "      <td>333.34497</td>\n",
       "    </tr>\n",
       "    <tr>\n",
       "      <th>4</th>\n",
       "      <td>151</td>\n",
       "      <td>2018-04-1179-868_07_00.tiff</td>\n",
       "      <td>62.041629</td>\n",
       "      <td>test</td>\n",
       "      <td>193.00093</td>\n",
       "    </tr>\n",
       "  </tbody>\n",
       "</table>\n",
       "</div>"
      ]
     },
     "execution_count": 10,
     "metadata": {},
     "output_type": "execute_result"
    }
   ],
   "execution_count": 10
  },
  {
   "metadata": {
    "ExecuteTime": {
     "end_time": "2024-05-21T11:42:51.523055Z",
     "start_time": "2024-05-21T11:42:51.512527Z"
    }
   },
   "cell_type": "code",
   "source": [
    "y_test = results_test[\"qol_index\"]\n",
    "y_pred = results_test[\"prediction\"]"
   ],
   "id": "4b33e80a6dd571a8",
   "outputs": [],
   "execution_count": 11
  },
  {
   "metadata": {
    "ExecuteTime": {
     "end_time": "2024-05-21T11:42:52.554833Z",
     "start_time": "2024-05-21T11:42:52.457069Z"
    }
   },
   "cell_type": "code",
   "source": [
    "plt.scatter(y_test, y_pred, marker='.')\n",
    "plt.xlabel('Actual')\n",
    "plt.ylabel('Predicted')\n",
    "plt.title('Actual vs Predicted')\n",
    "plt.show()"
   ],
   "id": "27ac05fd74751c50",
   "outputs": [
    {
     "data": {
      "text/plain": [
       "<Figure size 640x480 with 1 Axes>"
      ],
      "image/png": "[encoded data removed]"
     },
     "metadata": {},
     "output_type": "display_data"
    }
   ],
   "execution_count": 12
  },
  {
   "metadata": {
    "ExecuteTime": {
     "end_time": "2024-05-21T11:44:38.085635Z",
     "start_time": "2024-05-21T11:44:38.078621Z"
    }
   },
   "cell_type": "code",
   "source": "len(results_test)",
   "id": "41c8763d1367b506",
   "outputs": [
    {
     "data": {
      "text/plain": [
       "2188"
      ]
     },
     "execution_count": 15,
     "metadata": {},
     "output_type": "execute_result"
    }
   ],
   "execution_count": 15
  },
  {
   "metadata": {
    "ExecuteTime": {
     "end_time": "2024-05-21T12:53:41.542733Z",
     "start_time": "2024-05-21T12:53:40.732865Z"
    }
   },
   "cell_type": "code",
   "source": [
    "import geopandas as gpd\n",
    "df_2018 = gpd.read_file(\"../outputs/merged/2018/gauteng-qol.geojson\")\n",
    "df_2018"
   ],
   "id": "9141d2ec33dbad5",
   "outputs": [
    {
     "data": {
      "text/plain": [
       "    ward_code  counts  services  socioeconomic_status  \\\n",
       "0    79700060      54  8.533915              2.691039   \n",
       "1    79700061      56  7.501329              2.541675   \n",
       "2    79700062      56  8.844317              2.211093   \n",
       "3    79700063      51  9.269553              2.898102   \n",
       "4    79700064      54  7.106102              2.786749   \n",
       "..        ...     ...       ...                   ...   \n",
       "524  79700108      53  7.444385              2.450157   \n",
       "525  79700109      54  9.518983              2.671800   \n",
       "526  79700110      62  8.681487              2.897149   \n",
       "527  79700111      52  8.781015              3.323546   \n",
       "528  79700112      60  9.609611              2.897881   \n",
       "\n",
       "     government_satisfaction  life_satisfaction    health    safety  \\\n",
       "0                   5.190429           6.511157  7.330527  5.541233   \n",
       "1                   4.726982           6.305835  8.302716  5.007666   \n",
       "2                   5.244357           6.283655  7.203223  4.825322   \n",
       "3                   5.560532           6.801901  8.309008  5.863246   \n",
       "4                   5.516133           6.844299  7.150229  5.035207   \n",
       "..                       ...                ...       ...       ...   \n",
       "524                 4.777798           6.544032  7.882581  4.976439   \n",
       "525                 5.193146           6.521201  9.192699  4.846741   \n",
       "526                 5.750984           6.587283  7.761149  5.325383   \n",
       "527                 5.242444           6.655611  7.654487  5.144542   \n",
       "528                 5.336561           6.752901  7.446558  5.096763   \n",
       "\n",
       "     participation  qol_index  \\\n",
       "0         8.576619  62.987094   \n",
       "1         7.885404  59.276461   \n",
       "2         8.006545  61.299747   \n",
       "3         8.332018  67.355654   \n",
       "4         8.229986  59.546307   \n",
       "..             ...        ...   \n",
       "524       7.335790  58.311502   \n",
       "525       8.087562  66.372973   \n",
       "526       7.042140  63.647038   \n",
       "527       7.545118  63.947176   \n",
       "528       7.761993  65.341495   \n",
       "\n",
       "                                              geometry  \n",
       "0    POLYGON ((28.16493 -26.35885, 28.16632 -26.358...  \n",
       "1    POLYGON ((28.13552 -26.40783, 28.13665 -26.408...  \n",
       "2    POLYGON ((28.24732 -26.38152, 28.25052 -26.386...  \n",
       "3    POLYGON ((28.16205 -26.37103, 28.16219 -26.371...  \n",
       "4    POLYGON ((28.22547 -26.35844, 28.22591 -26.358...  \n",
       "..                                                 ...  \n",
       "524  POLYGON ((28.19092 -26.37677, 28.19174 -26.377...  \n",
       "525  POLYGON ((28.43689 -26.10593, 28.43703 -26.106...  \n",
       "526  POLYGON ((28.39511 -26.14457, 28.39570 -26.145...  \n",
       "527  POLYGON ((28.43582 -26.31314, 28.43659 -26.313...  \n",
       "528  POLYGON ((28.35914 -26.35703, 28.35931 -26.358...  \n",
       "\n",
       "[529 rows x 11 columns]"
      ],
      "text/html": [
       "<div>\n",
       "<style scoped>\n",
       "    .dataframe tbody tr th:only-of-type {\n",
       "        vertical-align: middle;\n",
       "    }\n",
       "\n",
       "    .dataframe tbody tr th {\n",
       "        vertical-align: top;\n",
       "    }\n",
       "\n",
       "    .dataframe thead th {\n",
       "        text-align: right;\n",
       "    }\n",
       "</style>\n",
       "<table border=\"1\" class=\"dataframe\">\n",
       "  <thead>\n",
       "    <tr style=\"text-align: right;\">\n",
       "      <th></th>\n",
       "      <th>ward_code</th>\n",
       "      <th>counts</th>\n",
       "      <th>services</th>\n",
       "      <th>socioeconomic_status</th>\n",
       "      <th>government_satisfaction</th>\n",
       "      <th>life_satisfaction</th>\n",
       "      <th>health</th>\n",
       "      <th>safety</th>\n",
       "      <th>participation</th>\n",
       "      <th>qol_index</th>\n",
       "      <th>geometry</th>\n",
       "    </tr>\n",
       "  </thead>\n",
       "  <tbody>\n",
       "    <tr>\n",
       "      <th>0</th>\n",
       "      <td>79700060</td>\n",
       "      <td>54</td>\n",
       "      <td>8.533915</td>\n",
       "      <td>2.691039</td>\n",
       "      <td>5.190429</td>\n",
       "      <td>6.511157</td>\n",
       "      <td>7.330527</td>\n",
       "      <td>5.541233</td>\n",
       "      <td>8.576619</td>\n",
       "      <td>62.987094</td>\n",
       "      <td>POLYGON ((28.16493 -26.35885, 28.16632 -26.358...</td>\n",
       "    </tr>\n",
       "    <tr>\n",
       "      <th>1</th>\n",
       "      <td>79700061</td>\n",
       "      <td>56</td>\n",
       "      <td>7.501329</td>\n",
       "      <td>2.541675</td>\n",
       "      <td>4.726982</td>\n",
       "      <td>6.305835</td>\n",
       "      <td>8.302716</td>\n",
       "      <td>5.007666</td>\n",
       "      <td>7.885404</td>\n",
       "      <td>59.276461</td>\n",
       "      <td>POLYGON ((28.13552 -26.40783, 28.13665 -26.408...</td>\n",
       "    </tr>\n",
       "    <tr>\n",
       "      <th>2</th>\n",
       "      <td>79700062</td>\n",
       "      <td>56</td>\n",
       "      <td>8.844317</td>\n",
       "      <td>2.211093</td>\n",
       "      <td>5.244357</td>\n",
       "      <td>6.283655</td>\n",
       "      <td>7.203223</td>\n",
       "      <td>4.825322</td>\n",
       "      <td>8.006545</td>\n",
       "      <td>61.299747</td>\n",
       "      <td>POLYGON ((28.24732 -26.38152, 28.25052 -26.386...</td>\n",
       "    </tr>\n",
       "    <tr>\n",
       "      <th>3</th>\n",
       "      <td>79700063</td>\n",
       "      <td>51</td>\n",
       "      <td>9.269553</td>\n",
       "      <td>2.898102</td>\n",
       "      <td>5.560532</td>\n",
       "      <td>6.801901</td>\n",
       "      <td>8.309008</td>\n",
       "      <td>5.863246</td>\n",
       "      <td>8.332018</td>\n",
       "      <td>67.355654</td>\n",
       "      <td>POLYGON ((28.16205 -26.37103, 28.16219 -26.371...</td>\n",
       "    </tr>\n",
       "    <tr>\n",
       "      <th>4</th>\n",
       "      <td>79700064</td>\n",
       "      <td>54</td>\n",
       "      <td>7.106102</td>\n",
       "      <td>2.786749</td>\n",
       "      <td>5.516133</td>\n",
       "      <td>6.844299</td>\n",
       "      <td>7.150229</td>\n",
       "      <td>5.035207</td>\n",
       "      <td>8.229986</td>\n",
       "      <td>59.546307</td>\n",
       "      <td>POLYGON ((28.22547 -26.35844, 28.22591 -26.358...</td>\n",
       "    </tr>\n",
       "    <tr>\n",
       "      <th>...</th>\n",
       "      <td>...</td>\n",
       "      <td>...</td>\n",
       "      <td>...</td>\n",
       "      <td>...</td>\n",
       "      <td>...</td>\n",
       "      <td>...</td>\n",
       "      <td>...</td>\n",
       "      <td>...</td>\n",
       "      <td>...</td>\n",
       "      <td>...</td>\n",
       "      <td>...</td>\n",
       "    </tr>\n",
       "    <tr>\n",
       "      <th>524</th>\n",
       "      <td>79700108</td>\n",
       "      <td>53</td>\n",
       "      <td>7.444385</td>\n",
       "      <td>2.450157</td>\n",
       "      <td>4.777798</td>\n",
       "      <td>6.544032</td>\n",
       "      <td>7.882581</td>\n",
       "      <td>4.976439</td>\n",
       "      <td>7.335790</td>\n",
       "      <td>58.311502</td>\n",
       "      <td>POLYGON ((28.19092 -26.37677, 28.19174 -26.377...</td>\n",
       "    </tr>\n",
       "    <tr>\n",
       "      <th>525</th>\n",
       "      <td>79700109</td>\n",
       "      <td>54</td>\n",
       "      <td>9.518983</td>\n",
       "      <td>2.671800</td>\n",
       "      <td>5.193146</td>\n",
       "      <td>6.521201</td>\n",
       "      <td>9.192699</td>\n",
       "      <td>4.846741</td>\n",
       "      <td>8.087562</td>\n",
       "      <td>66.372973</td>\n",
       "      <td>POLYGON ((28.43689 -26.10593, 28.43703 -26.106...</td>\n",
       "    </tr>\n",
       "    <tr>\n",
       "      <th>526</th>\n",
       "      <td>79700110</td>\n",
       "      <td>62</td>\n",
       "      <td>8.681487</td>\n",
       "      <td>2.897149</td>\n",
       "      <td>5.750984</td>\n",
       "      <td>6.587283</td>\n",
       "      <td>7.761149</td>\n",
       "      <td>5.325383</td>\n",
       "      <td>7.042140</td>\n",
       "      <td>63.647038</td>\n",
       "      <td>POLYGON ((28.39511 -26.14457, 28.39570 -26.145...</td>\n",
       "    </tr>\n",
       "    <tr>\n",
       "      <th>527</th>\n",
       "      <td>79700111</td>\n",
       "      <td>52</td>\n",
       "      <td>8.781015</td>\n",
       "      <td>3.323546</td>\n",
       "      <td>5.242444</td>\n",
       "      <td>6.655611</td>\n",
       "      <td>7.654487</td>\n",
       "      <td>5.144542</td>\n",
       "      <td>7.545118</td>\n",
       "      <td>63.947176</td>\n",
       "      <td>POLYGON ((28.43582 -26.31314, 28.43659 -26.313...</td>\n",
       "    </tr>\n",
       "    <tr>\n",
       "      <th>528</th>\n",
       "      <td>79700112</td>\n",
       "      <td>60</td>\n",
       "      <td>9.609611</td>\n",
       "      <td>2.897881</td>\n",
       "      <td>5.336561</td>\n",
       "      <td>6.752901</td>\n",
       "      <td>7.446558</td>\n",
       "      <td>5.096763</td>\n",
       "      <td>7.761993</td>\n",
       "      <td>65.341495</td>\n",
       "      <td>POLYGON ((28.35914 -26.35703, 28.35931 -26.358...</td>\n",
       "    </tr>\n",
       "  </tbody>\n",
       "</table>\n",
       "<p>529 rows × 11 columns</p>\n",
       "</div>"
      ]
     },
     "execution_count": 27,
     "metadata": {},
     "output_type": "execute_result"
    }
   ],
   "execution_count": 27
  },
  {
   "metadata": {
    "ExecuteTime": {
     "end_time": "2024-05-21T12:53:53.366732Z",
     "start_time": "2024-05-21T12:53:53.360711Z"
    }
   },
   "cell_type": "code",
   "source": "df_2018[\"qol_index\"].min()",
   "id": "5b24c70d4e255423",
   "outputs": [
    {
     "data": {
      "text/plain": [
       "39.52848023417005"
      ]
     },
     "execution_count": 28,
     "metadata": {},
     "output_type": "execute_result"
    }
   ],
   "execution_count": 28
  },
  {
   "metadata": {
    "ExecuteTime": {
     "end_time": "2024-05-21T12:53:55.117892Z",
     "start_time": "2024-05-21T12:53:55.110891Z"
    }
   },
   "cell_type": "code",
   "source": "df_2018[\"qol_index\"].max()",
   "id": "c3993e6e8d444744",
   "outputs": [
    {
     "data": {
      "text/plain": [
       "79.21460368405052"
      ]
     },
     "execution_count": 29,
     "metadata": {},
     "output_type": "execute_result"
    }
   ],
   "execution_count": 29
  },
  {
   "metadata": {
    "ExecuteTime": {
     "end_time": "2024-05-21T12:53:58.038261Z",
     "start_time": "2024-05-21T12:53:58.023691Z"
    }
   },
   "cell_type": "code",
   "source": "df_2018[\"qol_index\"].mean()",
   "id": "1ac1bd8231bcbf6d",
   "outputs": [
    {
     "data": {
      "text/plain": [
       "63.63312561183795"
      ]
     },
     "execution_count": 30,
     "metadata": {},
     "output_type": "execute_result"
    }
   ],
   "execution_count": 30
  },
  {
   "metadata": {
    "ExecuteTime": {
     "end_time": "2024-05-21T12:54:13.892102Z",
     "start_time": "2024-05-21T12:54:13.120513Z"
    }
   },
   "cell_type": "code",
   "source": [
    "df_2021 = gpd.read_file(\"../outputs/merged/2021/gauteng-qol.geojson\")\n",
    "df_2021"
   ],
   "id": "9e8b8e521b2730c9",
   "outputs": [
    {
     "data": {
      "text/plain": [
       "    ward_code  counts  services  socioeconomic_status  \\\n",
       "0    79700060      26  7.832562              2.043017   \n",
       "1    79700061      26  7.358151              2.445138   \n",
       "2    79700062      27  8.600657              2.621179   \n",
       "3    79700063      27  9.419362              2.978702   \n",
       "4    79700064      26  9.768969              2.616646   \n",
       "..        ...     ...       ...                   ...   \n",
       "524  79700108      26  8.913868              1.955186   \n",
       "525  79700109      27  8.662950              2.723829   \n",
       "526  79700110      26  8.464646              3.029552   \n",
       "527  79700111      26  8.750225              3.876990   \n",
       "528  79700112      26  9.580791              2.837568   \n",
       "\n",
       "     government_satisfaction  life_satisfaction    health    safety  \\\n",
       "0                   2.573526           5.392358  7.049694  5.475822   \n",
       "1                   2.679837           5.446047  7.689019  5.175600   \n",
       "2                   3.761791           5.576685  6.101692  5.297621   \n",
       "3                   3.372348           6.540833  6.275875  5.922771   \n",
       "4                   3.333164           6.200368  6.691276  4.197091   \n",
       "..                       ...                ...       ...       ...   \n",
       "524                 3.450253           6.231101  6.357693  5.165378   \n",
       "525                 4.970331           7.263407  8.344390  5.357562   \n",
       "526                 4.134108           7.275979  7.846880  4.351723   \n",
       "527                 3.888927           6.469423  7.787512  5.397458   \n",
       "528                 2.957239           6.597324  7.181245  5.822173   \n",
       "\n",
       "     participation  qol_index  \\\n",
       "0         8.179974  53.983750   \n",
       "1         8.279821  54.284857   \n",
       "2         9.038511  58.310289   \n",
       "3         7.498757  60.885624   \n",
       "4         7.739828  59.423020   \n",
       "..             ...        ...   \n",
       "524       7.627345  57.088258   \n",
       "525       6.963340  63.451802   \n",
       "526       5.964831  59.545301   \n",
       "527       6.164525  61.668982   \n",
       "528       7.192005  61.140043   \n",
       "\n",
       "                                              geometry  \n",
       "0    POLYGON ((28.16493 -26.35885, 28.16632 -26.358...  \n",
       "1    POLYGON ((28.13552 -26.40783, 28.13665 -26.408...  \n",
       "2    POLYGON ((28.24732 -26.38152, 28.25052 -26.386...  \n",
       "3    POLYGON ((28.16205 -26.37103, 28.16219 -26.371...  \n",
       "4    POLYGON ((28.22547 -26.35844, 28.22591 -26.358...  \n",
       "..                                                 ...  \n",
       "524  POLYGON ((28.19092 -26.37677, 28.19174 -26.377...  \n",
       "525  POLYGON ((28.43689 -26.10593, 28.43703 -26.106...  \n",
       "526  POLYGON ((28.39511 -26.14457, 28.39570 -26.145...  \n",
       "527  POLYGON ((28.43582 -26.31314, 28.43659 -26.313...  \n",
       "528  POLYGON ((28.35914 -26.35703, 28.35931 -26.358...  \n",
       "\n",
       "[529 rows x 11 columns]"
      ],
      "text/html": [
       "<div>\n",
       "<style scoped>\n",
       "    .dataframe tbody tr th:only-of-type {\n",
       "        vertical-align: middle;\n",
       "    }\n",
       "\n",
       "    .dataframe tbody tr th {\n",
       "        vertical-align: top;\n",
       "    }\n",
       "\n",
       "    .dataframe thead th {\n",
       "        text-align: right;\n",
       "    }\n",
       "</style>\n",
       "<table border=\"1\" class=\"dataframe\">\n",
       "  <thead>\n",
       "    <tr style=\"text-align: right;\">\n",
       "      <th></th>\n",
       "      <th>ward_code</th>\n",
       "      <th>counts</th>\n",
       "      <th>services</th>\n",
       "      <th>socioeconomic_status</th>\n",
       "      <th>government_satisfaction</th>\n",
       "      <th>life_satisfaction</th>\n",
       "      <th>health</th>\n",
       "      <th>safety</th>\n",
       "      <th>participation</th>\n",
       "      <th>qol_index</th>\n",
       "      <th>geometry</th>\n",
       "    </tr>\n",
       "  </thead>\n",
       "  <tbody>\n",
       "    <tr>\n",
       "      <th>0</th>\n",
       "      <td>79700060</td>\n",
       "      <td>26</td>\n",
       "      <td>7.832562</td>\n",
       "      <td>2.043017</td>\n",
       "      <td>2.573526</td>\n",
       "      <td>5.392358</td>\n",
       "      <td>7.049694</td>\n",
       "      <td>5.475822</td>\n",
       "      <td>8.179974</td>\n",
       "      <td>53.983750</td>\n",
       "      <td>POLYGON ((28.16493 -26.35885, 28.16632 -26.358...</td>\n",
       "    </tr>\n",
       "    <tr>\n",
       "      <th>1</th>\n",
       "      <td>79700061</td>\n",
       "      <td>26</td>\n",
       "      <td>7.358151</td>\n",
       "      <td>2.445138</td>\n",
       "      <td>2.679837</td>\n",
       "      <td>5.446047</td>\n",
       "      <td>7.689019</td>\n",
       "      <td>5.175600</td>\n",
       "      <td>8.279821</td>\n",
       "      <td>54.284857</td>\n",
       "      <td>POLYGON ((28.13552 -26.40783, 28.13665 -26.408...</td>\n",
       "    </tr>\n",
       "    <tr>\n",
       "      <th>2</th>\n",
       "      <td>79700062</td>\n",
       "      <td>27</td>\n",
       "      <td>8.600657</td>\n",
       "      <td>2.621179</td>\n",
       "      <td>3.761791</td>\n",
       "      <td>5.576685</td>\n",
       "      <td>6.101692</td>\n",
       "      <td>5.297621</td>\n",
       "      <td>9.038511</td>\n",
       "      <td>58.310289</td>\n",
       "      <td>POLYGON ((28.24732 -26.38152, 28.25052 -26.386...</td>\n",
       "    </tr>\n",
       "    <tr>\n",
       "      <th>3</th>\n",
       "      <td>79700063</td>\n",
       "      <td>27</td>\n",
       "      <td>9.419362</td>\n",
       "      <td>2.978702</td>\n",
       "      <td>3.372348</td>\n",
       "      <td>6.540833</td>\n",
       "      <td>6.275875</td>\n",
       "      <td>5.922771</td>\n",
       "      <td>7.498757</td>\n",
       "      <td>60.885624</td>\n",
       "      <td>POLYGON ((28.16205 -26.37103, 28.16219 -26.371...</td>\n",
       "    </tr>\n",
       "    <tr>\n",
       "      <th>4</th>\n",
       "      <td>79700064</td>\n",
       "      <td>26</td>\n",
       "      <td>9.768969</td>\n",
       "      <td>2.616646</td>\n",
       "      <td>3.333164</td>\n",
       "      <td>6.200368</td>\n",
       "      <td>6.691276</td>\n",
       "      <td>4.197091</td>\n",
       "      <td>7.739828</td>\n",
       "      <td>59.423020</td>\n",
       "      <td>POLYGON ((28.22547 -26.35844, 28.22591 -26.358...</td>\n",
       "    </tr>\n",
       "    <tr>\n",
       "      <th>...</th>\n",
       "      <td>...</td>\n",
       "      <td>...</td>\n",
       "      <td>...</td>\n",
       "      <td>...</td>\n",
       "      <td>...</td>\n",
       "      <td>...</td>\n",
       "      <td>...</td>\n",
       "      <td>...</td>\n",
       "      <td>...</td>\n",
       "      <td>...</td>\n",
       "      <td>...</td>\n",
       "    </tr>\n",
       "    <tr>\n",
       "      <th>524</th>\n",
       "      <td>79700108</td>\n",
       "      <td>26</td>\n",
       "      <td>8.913868</td>\n",
       "      <td>1.955186</td>\n",
       "      <td>3.450253</td>\n",
       "      <td>6.231101</td>\n",
       "      <td>6.357693</td>\n",
       "      <td>5.165378</td>\n",
       "      <td>7.627345</td>\n",
       "      <td>57.088258</td>\n",
       "      <td>POLYGON ((28.19092 -26.37677, 28.19174 -26.377...</td>\n",
       "    </tr>\n",
       "    <tr>\n",
       "      <th>525</th>\n",
       "      <td>79700109</td>\n",
       "      <td>27</td>\n",
       "      <td>8.662950</td>\n",
       "      <td>2.723829</td>\n",
       "      <td>4.970331</td>\n",
       "      <td>7.263407</td>\n",
       "      <td>8.344390</td>\n",
       "      <td>5.357562</td>\n",
       "      <td>6.963340</td>\n",
       "      <td>63.451802</td>\n",
       "      <td>POLYGON ((28.43689 -26.10593, 28.43703 -26.106...</td>\n",
       "    </tr>\n",
       "    <tr>\n",
       "      <th>526</th>\n",
       "      <td>79700110</td>\n",
       "      <td>26</td>\n",
       "      <td>8.464646</td>\n",
       "      <td>3.029552</td>\n",
       "      <td>4.134108</td>\n",
       "      <td>7.275979</td>\n",
       "      <td>7.846880</td>\n",
       "      <td>4.351723</td>\n",
       "      <td>5.964831</td>\n",
       "      <td>59.545301</td>\n",
       "      <td>POLYGON ((28.39511 -26.14457, 28.39570 -26.145...</td>\n",
       "    </tr>\n",
       "    <tr>\n",
       "      <th>527</th>\n",
       "      <td>79700111</td>\n",
       "      <td>26</td>\n",
       "      <td>8.750225</td>\n",
       "      <td>3.876990</td>\n",
       "      <td>3.888927</td>\n",
       "      <td>6.469423</td>\n",
       "      <td>7.787512</td>\n",
       "      <td>5.397458</td>\n",
       "      <td>6.164525</td>\n",
       "      <td>61.668982</td>\n",
       "      <td>POLYGON ((28.43582 -26.31314, 28.43659 -26.313...</td>\n",
       "    </tr>\n",
       "    <tr>\n",
       "      <th>528</th>\n",
       "      <td>79700112</td>\n",
       "      <td>26</td>\n",
       "      <td>9.580791</td>\n",
       "      <td>2.837568</td>\n",
       "      <td>2.957239</td>\n",
       "      <td>6.597324</td>\n",
       "      <td>7.181245</td>\n",
       "      <td>5.822173</td>\n",
       "      <td>7.192005</td>\n",
       "      <td>61.140043</td>\n",
       "      <td>POLYGON ((28.35914 -26.35703, 28.35931 -26.358...</td>\n",
       "    </tr>\n",
       "  </tbody>\n",
       "</table>\n",
       "<p>529 rows × 11 columns</p>\n",
       "</div>"
      ]
     },
     "execution_count": 32,
     "metadata": {},
     "output_type": "execute_result"
    }
   ],
   "execution_count": 32
  },
  {
   "metadata": {
    "ExecuteTime": {
     "end_time": "2024-05-21T12:54:39.834777Z",
     "start_time": "2024-05-21T12:54:39.823738Z"
    }
   },
   "cell_type": "code",
   "source": "df_2021[\"qol_index\"].min()",
   "id": "4dfbf796884819",
   "outputs": [
    {
     "data": {
      "text/plain": [
       "33.328761395443806"
      ]
     },
     "execution_count": 33,
     "metadata": {},
     "output_type": "execute_result"
    }
   ],
   "execution_count": 33
  },
  {
   "metadata": {
    "ExecuteTime": {
     "end_time": "2024-05-21T12:54:41.479157Z",
     "start_time": "2024-05-21T12:54:41.474156Z"
    }
   },
   "cell_type": "code",
   "source": "df_2021[\"qol_index\"].max()",
   "id": "62db1e4bf5a0b21f",
   "outputs": [
    {
     "data": {
      "text/plain": [
       "76.17616535463841"
      ]
     },
     "execution_count": 34,
     "metadata": {},
     "output_type": "execute_result"
    }
   ],
   "execution_count": 34
  },
  {
   "metadata": {
    "ExecuteTime": {
     "end_time": "2024-05-21T12:54:43.894883Z",
     "start_time": "2024-05-21T12:54:43.888858Z"
    }
   },
   "cell_type": "code",
   "source": "df_2021[\"qol_index\"].mean()",
   "id": "9c6a97c65706bf8a",
   "outputs": [
    {
     "data": {
      "text/plain": [
       "61.07585680430554"
      ]
     },
     "execution_count": 35,
     "metadata": {},
     "output_type": "execute_result"
    }
   ],
   "execution_count": 35
  }
 ],
 "metadata": {
  "kernelspec": {
   "display_name": "Python 3",
   "language": "python",
   "name": "python3"
  },
  "language_info": {
   "codemirror_mode": {
    "name": "ipython",
    "version": 2
   },
   "file_extension": ".py",
   "mimetype": "text/x-python",
   "name": "python",
   "nbconvert_exporter": "python",
   "pygments_lexer": "ipython2",
   "version": "2.7.6"
  }
 },
 "nbformat": 4,
 "nbformat_minor": 5
}
