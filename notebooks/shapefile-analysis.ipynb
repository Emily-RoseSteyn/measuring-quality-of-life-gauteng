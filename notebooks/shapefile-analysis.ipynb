{
 "cells": [
  {
   "cell_type": "markdown",
   "source": [
    "Understanding shapefiles https://en.wikipedia.org/wiki/Shapefile\n",
    "This notebook is for looking at the shapefile for wards in Gauteng"
   ],
   "metadata": {
    "collapsed": false
   }
  },
  {
   "cell_type": "code",
   "execution_count": 21,
   "metadata": {
    "collapsed": true,
    "ExecuteTime": {
     "start_time": "2023-04-16T19:15:06.656463Z",
     "end_time": "2023-04-16T19:15:06.706127Z"
    }
   },
   "outputs": [],
   "source": [
    "import geopandas as gpd\n",
    "import matplotlib.pyplot as plt\n",
    "import pandas as pd\n",
    "from numpy import sort, where"
   ]
  },
  {
   "cell_type": "code",
   "execution_count": 22,
   "outputs": [],
   "source": [
    "# Read shapefile\n",
    "# When other files included in same directory, the shapefile that's read in includes all associated info (e.g. ward id, municipality, etc)\n",
    "# https://stackoverflow.com/questions/60617819/how-to-read-shapefile-in-geopandas-when-having-dbf-prj-shp-and-shx-files\n",
    "shapefile = gpd.read_file('../data/shapefiles/za-wards-2020/SA_Wards2020.shp')\n"
   ],
   "metadata": {
    "collapsed": false,
    "ExecuteTime": {
     "start_time": "2023-04-16T19:15:06.656612Z",
     "end_time": "2023-04-16T19:15:11.003799Z"
    }
   }
  },
  {
   "cell_type": "code",
   "execution_count": 23,
   "outputs": [],
   "source": [
    "shapefile"
   ],
   "metadata": {
    "collapsed": false,
    "ExecuteTime": {
     "start_time": "2023-04-16T19:15:06.656684Z",
     "end_time": "2023-04-16T19:15:11.051216Z"
    }
   }
  },
  {
   "cell_type": "code",
   "execution_count": 24,
   "outputs": [],
   "source": [
    "shapefile.plot()"
   ],
   "metadata": {
    "collapsed": false,
    "ExecuteTime": {
     "start_time": "2023-04-16T19:15:06.656736Z",
     "end_time": "2023-04-16T19:15:12.572358Z"
    }
   }
  },
  {
   "cell_type": "code",
   "execution_count": 25,
   "outputs": [],
   "source": [
    "# Filter to Gauteng\n",
    "gauteng = shapefile[shapefile.Province == 'Gauteng']\n",
    "gauteng"
   ],
   "metadata": {
    "collapsed": false,
    "ExecuteTime": {
     "start_time": "2023-04-16T19:15:06.656782Z",
     "end_time": "2023-04-16T19:15:12.603487Z"
    }
   }
  },
  {
   "cell_type": "code",
   "execution_count": 26,
   "outputs": [],
   "source": [
    "gauteng.plot()"
   ],
   "metadata": {
    "collapsed": false,
    "ExecuteTime": {
     "start_time": "2023-04-16T19:15:06.656823Z",
     "end_time": "2023-04-16T19:15:12.866206Z"
    }
   }
  },
  {
   "cell_type": "code",
   "execution_count": 27,
   "outputs": [],
   "source": [
    "gauteng_ward_codes = gauteng['WardID'].to_numpy()\n",
    "gauteng_ward_codes = sort(gauteng_ward_codes.astype(int))\n",
    "gauteng_ward_codes"
   ],
   "metadata": {
    "collapsed": false,
    "ExecuteTime": {
     "start_time": "2023-04-16T19:15:06.656863Z",
     "end_time": "2023-04-16T19:15:12.874632Z"
    }
   }
  },
  {
   "cell_type": "code",
   "execution_count": 28,
   "outputs": [],
   "source": [
    "# Compare to GCRO data\n",
    "# Data file paths\n",
    "GCRO_2021 = '../data/surveys/gcro-2021.dta'\n",
    "GCRO_2018 = '../data/surveys/gcro-2018.dta'\n",
    "GCRO_2015 = '../data/surveys/gcro-2015.dta'\n",
    "df_gcro_2021 = pd.read_stata(GCRO_2021, convert_categoricals=False)\n",
    "df_gcro_2018 = pd.read_stata(GCRO_2018, convert_categoricals=False)\n",
    "df_gcro_2015 = pd.read_stata(GCRO_2015, convert_categoricals=False)"
   ],
   "metadata": {
    "collapsed": false,
    "ExecuteTime": {
     "start_time": "2023-04-16T19:15:06.656900Z",
     "end_time": "2023-04-16T19:15:15.022797Z"
    }
   }
  },
  {
   "cell_type": "code",
   "execution_count": 29,
   "outputs": [],
   "source": [
    "gcro_ward_codes_2021 = sort(df_gcro_2021.ward_code.unique())\n",
    "gcro_ward_codes_2021"
   ],
   "metadata": {
    "collapsed": false,
    "ExecuteTime": {
     "start_time": "2023-04-16T19:15:06.656944Z",
     "end_time": "2023-04-16T19:15:15.030149Z"
    }
   }
  },
  {
   "cell_type": "code",
   "execution_count": 30,
   "outputs": [],
   "source": [
    "gcro_ward_codes_2018 = sort(df_gcro_2018.ward.astype(int).unique())\n",
    "gcro_ward_codes_2018"
   ],
   "metadata": {
    "collapsed": false,
    "ExecuteTime": {
     "start_time": "2023-04-16T19:15:06.656981Z",
     "end_time": "2023-04-16T19:15:15.039858Z"
    }
   }
  },
  {
   "cell_type": "code",
   "execution_count": 31,
   "outputs": [],
   "source": [
    "gcro_ward_codes_2015 = sort(df_gcro_2015.WardNumber.astype(int).unique())\n",
    "gcro_ward_codes_2015"
   ],
   "metadata": {
    "collapsed": false,
    "ExecuteTime": {
     "start_time": "2023-04-16T19:15:06.657018Z",
     "end_time": "2023-04-16T19:15:15.048897Z"
    }
   }
  },
  {
   "cell_type": "code",
   "execution_count": 32,
   "outputs": [],
   "source": [
    "from numpy import ndarray, array, append\n",
    "\n",
    "\n",
    "def compare_to_gauteng_ward_codes(codes: ndarray, name: str):\n",
    "    print('-----------------------------------------------')\n",
    "    mdb_codes = array([])\n",
    "    for code in codes:\n",
    "        if code not in gauteng_ward_codes:\n",
    "            mdb_codes = append(mdb_codes, [code])\n",
    "\n",
    "    print(f'Missing codes in MDB data {len(mdb_codes)}')\n",
    "\n",
    "    print('-----------------------------------------------')\n",
    "    data_codes = array([])\n",
    "    for code in gauteng_ward_codes:\n",
    "        if code not in codes:\n",
    "            data_codes = append(data_codes, code)\n",
    "    print(f'Missing codes in {name} {len(data_codes)}')\n",
    "\n",
    "    return [mdb_codes, data_codes]\n"
   ],
   "metadata": {
    "collapsed": false,
    "ExecuteTime": {
     "start_time": "2023-04-16T19:15:06.657055Z",
     "end_time": "2023-04-16T19:15:15.055278Z"
    }
   }
  },
  {
   "cell_type": "code",
   "execution_count": 33,
   "outputs": [],
   "source": [
    "compare_to_gauteng_ward_codes(gcro_ward_codes_2021, 'GCRO 2021')"
   ],
   "metadata": {
    "collapsed": false,
    "ExecuteTime": {
     "start_time": "2023-04-16T19:15:06.657090Z",
     "end_time": "2023-04-16T19:15:15.064014Z"
    }
   }
  },
  {
   "cell_type": "code",
   "execution_count": 34,
   "outputs": [],
   "source": [
    "compare_to_gauteng_ward_codes(gcro_ward_codes_2018, 'GCRO 2018')\n"
   ],
   "metadata": {
    "collapsed": false,
    "ExecuteTime": {
     "start_time": "2023-04-16T19:15:06.657138Z",
     "end_time": "2023-04-16T19:15:15.074587Z"
    }
   }
  },
  {
   "cell_type": "code",
   "execution_count": 35,
   "outputs": [],
   "source": [
    "compare_to_gauteng_ward_codes(gcro_ward_codes_2015, 'GCRO 2015')\n"
   ],
   "metadata": {
    "collapsed": false,
    "ExecuteTime": {
     "start_time": "2023-04-16T19:15:06.657175Z",
     "end_time": "2023-04-16T19:15:15.085153Z"
    }
   }
  },
  {
   "cell_type": "code",
   "execution_count": 36,
   "outputs": [],
   "source": [
    "# Example of problematic code from 2021\n",
    "gauteng[gauteng.WardID == '74805001']"
   ],
   "metadata": {
    "collapsed": false,
    "ExecuteTime": {
     "start_time": "2023-04-16T19:15:06.657210Z",
     "end_time": "2023-04-16T19:15:15.104920Z"
    }
   }
  },
  {
   "cell_type": "code",
   "execution_count": 37,
   "outputs": [],
   "source": [
    "df_gcro_2021[df_gcro_2021.ward_code == 74205001]"
   ],
   "metadata": {
    "collapsed": false,
    "ExecuteTime": {
     "start_time": "2023-04-16T19:15:06.657246Z",
     "end_time": "2023-04-16T19:15:15.134201Z"
    }
   }
  },
  {
   "cell_type": "markdown",
   "source": [
    "# New Dataframe with clustered GCRO data to ward code and polygon"
   ],
   "metadata": {
    "collapsed": false
   }
  },
  {
   "cell_type": "code",
   "execution_count": 38,
   "outputs": [],
   "source": [
    "jhb = gauteng[gauteng.Municipali == 'City of Johannesburg Metropolitan Municipality']\n",
    "jhb"
   ],
   "metadata": {
    "collapsed": false,
    "ExecuteTime": {
     "start_time": "2023-04-16T19:15:06.667926Z",
     "end_time": "2023-04-16T19:15:15.165739Z"
    }
   }
  },
  {
   "cell_type": "code",
   "execution_count": 39,
   "outputs": [],
   "source": [
    "# Do just service index\n",
    "service_index_gcro_2018 = df_gcro_2018.groupby('ward')['F1servic'].mean()\n",
    "service_index_gcro_2018"
   ],
   "metadata": {
    "collapsed": false,
    "ExecuteTime": {
     "start_time": "2023-04-16T19:15:06.668069Z",
     "end_time": "2023-04-16T19:15:15.177270Z"
    }
   }
  },
  {
   "cell_type": "code",
   "execution_count": 40,
   "outputs": [],
   "source": [
    "import csv\n",
    "path = '../outputs/clustered-data.csv'\n",
    "with open(path, mode='w') as clustered_file:\n",
    "    cluster_writer = csv.writer(clustered_file, delimiter=',', quotechar='\"', quoting=csv.QUOTE_MINIMAL)\n",
    "\n",
    "    cluster_writer.writerow(['ward_id', 'municipality', 'district', 'geometry', 'service_index'])\n",
    "\n",
    "    # Do only Joburg 2018\n",
    "    for ward_id in jhb.WardID:\n",
    "        # Check if ward in GCRO data\n",
    "        if int(ward_id) not in gcro_ward_codes_2018:\n",
    "            continue\n",
    "\n",
    "        # If so, write service index\n",
    "        service_index = service_index_gcro_2018[ward_id]\n",
    "        geo_data = jhb[jhb.WardID == ward_id]\n",
    "        cluster_writer.writerow([ward_id, geo_data.Municipali.item(), geo_data.District.item(), geo_data.geometry.item(), service_index])\n",
    "\n",
    "print(\"ALL DONE\")"
   ],
   "metadata": {
    "collapsed": false,
    "ExecuteTime": {
     "start_time": "2023-04-16T19:15:06.668144Z",
     "end_time": "2023-04-16T19:15:15.407188Z"
    }
   }
  },
  {
   "cell_type": "code",
   "execution_count": 40,
   "outputs": [],
   "source": [],
   "metadata": {
    "collapsed": false,
    "ExecuteTime": {
     "start_time": "2023-04-16T19:15:06.668199Z",
     "end_time": "2023-04-16T19:15:15.411390Z"
    }
   }
  }
 ],
 "metadata": {
  "kernelspec": {
   "display_name": "Python 3",
   "language": "python",
   "name": "python3"
  },
  "language_info": {
   "codemirror_mode": {
    "name": "ipython",
    "version": 2
   },
   "file_extension": ".py",
   "mimetype": "text/x-python",
   "name": "python",
   "nbconvert_exporter": "python",
   "pygments_lexer": "ipython2",
   "version": "2.7.6"
  }
 },
 "nbformat": 4,
 "nbformat_minor": 0
}
