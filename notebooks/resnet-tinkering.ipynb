{
 "cells": [
  {
   "cell_type": "markdown",
   "source": [
    "# Resnet Tinkering\n",
    "I am trying to get the following logic to work for a resnet:\n",
    "- Give a series of input tiles\n",
    "- Train a Resnet-50 architecture\n",
    "- To output a feature vector\n",
    "\n",
    "This feature vector will be used as an input into a linear regression model."
   ],
   "metadata": {
    "collapsed": false
   }
  },
  {
   "cell_type": "code",
   "execution_count": 20,
   "outputs": [],
   "source": [
    "import numpy as np\n",
    "import tensorflow as tf\n",
    "from keras.utils import img_to_array\n",
    "from keras.utils.image_dataset import image_dataset_from_directory\n",
    "\n",
    "# TODO: Figure out which resnet is the best\n",
    "from keras.applications import ResNet50V2\n",
    "from keras.applications.resnet import preprocess_input\n",
    "import random"
   ],
   "metadata": {
    "collapsed": false,
    "ExecuteTime": {
     "end_time": "2023-06-26T04:20:11.980431400Z",
     "start_time": "2023-06-26T04:20:11.965514200Z"
    }
   }
  },
  {
   "cell_type": "code",
   "execution_count": null,
   "outputs": [],
   "source": [
    "def decode_image(image):\n",
    "    image = tf.image.decode(image, channels=8)\n",
    "    image = tf.cast(image, tf.float32)\n",
    "    image = tf.reshape(image, [*IMAGE_SIZE, 3])\n",
    "    return image"
   ],
   "metadata": {
    "collapsed": false
   }
  },
  {
   "cell_type": "code",
   "execution_count": 24,
   "outputs": [],
   "source": [
    "# Constants\n",
    "IMAGE_SIZE = (256,256)\n",
    "IMAGE_CHANNELS=8\n",
    "SEED= random.randint(0, 10000)"
   ],
   "metadata": {
    "collapsed": false,
    "ExecuteTime": {
     "end_time": "2023-06-26T04:20:37.786919800Z",
     "start_time": "2023-06-26T04:20:37.779941100Z"
    }
   }
  },
  {
   "cell_type": "code",
   "execution_count": 25,
   "outputs": [],
   "source": [
    "train_path = '../outputs/tiled-satellite-images'"
   ],
   "metadata": {
    "collapsed": false,
    "ExecuteTime": {
     "end_time": "2023-06-26T04:20:38.192924800Z",
     "start_time": "2023-06-26T04:20:38.183926700Z"
    }
   }
  },
  {
   "cell_type": "code",
   "execution_count": 26,
   "outputs": [
    {
     "name": "stdout",
     "output_type": "stream",
     "text": [
      "Found 0 files belonging to 0 classes.\n",
      "Using 0 files for training.\n"
     ]
    },
    {
     "ename": "ValueError",
     "evalue": "No images found in directory ../outputs/tiled-satellite-images. Allowed formats: ('.bmp', '.gif', '.jpeg', '.jpg', '.png')",
     "output_type": "error",
     "traceback": [
      "\u001B[1;31m---------------------------------------------------------------------------\u001B[0m",
      "\u001B[1;31mValueError\u001B[0m                                Traceback (most recent call last)",
      "Cell \u001B[1;32mIn[26], line 3\u001B[0m\n\u001B[0;32m      1\u001B[0m \u001B[38;5;66;03m# Generates a `tf.data.Dataset` from image files in a directory\u001B[39;00m\n\u001B[0;32m      2\u001B[0m \u001B[38;5;66;03m# TODO: Look more at arguments - e.g. defaults for batch size, shuffle; definition of subset\u001B[39;00m\n\u001B[1;32m----> 3\u001B[0m train_dataset \u001B[38;5;241m=\u001B[39m \u001B[43mimage_dataset_from_directory\u001B[49m\u001B[43m(\u001B[49m\n\u001B[0;32m      4\u001B[0m \u001B[43m  \u001B[49m\u001B[43mtrain_path\u001B[49m\u001B[43m,\u001B[49m\n\u001B[0;32m      5\u001B[0m \u001B[43m  \u001B[49m\u001B[43mvalidation_split\u001B[49m\u001B[38;5;241;43m=\u001B[39;49m\u001B[38;5;241;43m0.2\u001B[39;49m\u001B[43m,\u001B[49m\n\u001B[0;32m      6\u001B[0m \u001B[43m  \u001B[49m\u001B[43msubset\u001B[49m\u001B[38;5;241;43m=\u001B[39;49m\u001B[38;5;124;43m\"\u001B[39;49m\u001B[38;5;124;43mtraining\u001B[39;49m\u001B[38;5;124;43m\"\u001B[39;49m\u001B[43m,\u001B[49m\n\u001B[0;32m      7\u001B[0m \u001B[43m    \u001B[49m\u001B[43mseed\u001B[49m\u001B[38;5;241;43m=\u001B[39;49m\u001B[43mSEED\u001B[49m\u001B[43m,\u001B[49m\n\u001B[0;32m      8\u001B[0m \u001B[43m  \u001B[49m\u001B[43mimage_size\u001B[49m\u001B[38;5;241;43m=\u001B[39;49m\u001B[43mIMAGE_SIZE\u001B[49m\u001B[43m)\u001B[49m\n",
      "File \u001B[1;32m~\\AppData\\Local\\pypoetry\\Cache\\virtualenvs\\measuring-quality-of-life-OxfVlamN-py3.10\\lib\\site-packages\\keras\\utils\\image_dataset.py:297\u001B[0m, in \u001B[0;36mimage_dataset_from_directory\u001B[1;34m(directory, labels, label_mode, class_names, color_mode, batch_size, image_size, shuffle, seed, validation_split, subset, interpolation, follow_links, crop_to_aspect_ratio, **kwargs)\u001B[0m\n\u001B[0;32m    293\u001B[0m image_paths, labels \u001B[38;5;241m=\u001B[39m dataset_utils\u001B[38;5;241m.\u001B[39mget_training_or_validation_split(\n\u001B[0;32m    294\u001B[0m     image_paths, labels, validation_split, subset\n\u001B[0;32m    295\u001B[0m )\n\u001B[0;32m    296\u001B[0m \u001B[38;5;28;01mif\u001B[39;00m \u001B[38;5;129;01mnot\u001B[39;00m image_paths:\n\u001B[1;32m--> 297\u001B[0m     \u001B[38;5;28;01mraise\u001B[39;00m \u001B[38;5;167;01mValueError\u001B[39;00m(\n\u001B[0;32m    298\u001B[0m         \u001B[38;5;124mf\u001B[39m\u001B[38;5;124m\"\u001B[39m\u001B[38;5;124mNo images found in directory \u001B[39m\u001B[38;5;132;01m{\u001B[39;00mdirectory\u001B[38;5;132;01m}\u001B[39;00m\u001B[38;5;124m. \u001B[39m\u001B[38;5;124m\"\u001B[39m\n\u001B[0;32m    299\u001B[0m         \u001B[38;5;124mf\u001B[39m\u001B[38;5;124m\"\u001B[39m\u001B[38;5;124mAllowed formats: \u001B[39m\u001B[38;5;132;01m{\u001B[39;00mALLOWLIST_FORMATS\u001B[38;5;132;01m}\u001B[39;00m\u001B[38;5;124m\"\u001B[39m\n\u001B[0;32m    300\u001B[0m     )\n\u001B[0;32m    302\u001B[0m dataset \u001B[38;5;241m=\u001B[39m paths_and_labels_to_dataset(\n\u001B[0;32m    303\u001B[0m     image_paths\u001B[38;5;241m=\u001B[39mimage_paths,\n\u001B[0;32m    304\u001B[0m     image_size\u001B[38;5;241m=\u001B[39mimage_size,\n\u001B[1;32m   (...)\u001B[0m\n\u001B[0;32m    310\u001B[0m     crop_to_aspect_ratio\u001B[38;5;241m=\u001B[39mcrop_to_aspect_ratio,\n\u001B[0;32m    311\u001B[0m )\n\u001B[0;32m    312\u001B[0m dataset \u001B[38;5;241m=\u001B[39m dataset\u001B[38;5;241m.\u001B[39mprefetch(tf\u001B[38;5;241m.\u001B[39mdata\u001B[38;5;241m.\u001B[39mAUTOTUNE)\n",
      "\u001B[1;31mValueError\u001B[0m: No images found in directory ../outputs/tiled-satellite-images. Allowed formats: ('.bmp', '.gif', '.jpeg', '.jpg', '.png')"
     ]
    }
   ],
   "source": [
    "# Generates a `tf.data.Dataset` from image files in a directory\n",
    "# TODO: Look more at arguments - e.g. defaults for batch size, shuffle; definition of subset\n",
    "train_dataset = image_dataset_from_directory(\n",
    "  train_path,\n",
    "  validation_split=0.2,\n",
    "  subset=\"training\",\n",
    "    seed=SEED,\n",
    "  image_size=IMAGE_SIZE)"
   ],
   "metadata": {
    "collapsed": false,
    "ExecuteTime": {
     "end_time": "2023-06-26T04:20:38.658934600Z",
     "start_time": "2023-06-26T04:20:38.542346100Z"
    }
   }
  },
  {
   "cell_type": "code",
   "execution_count": null,
   "outputs": [],
   "source": [],
   "metadata": {
    "collapsed": false
   }
  },
  {
   "cell_type": "code",
   "execution_count": null,
   "outputs": [],
   "source": [],
   "metadata": {
    "collapsed": false
   }
  }
 ],
 "metadata": {
  "kernelspec": {
   "display_name": "Python 3",
   "language": "python",
   "name": "python3"
  },
  "language_info": {
   "codemirror_mode": {
    "name": "ipython",
    "version": 2
   },
   "file_extension": ".py",
   "mimetype": "text/x-python",
   "name": "python",
   "nbconvert_exporter": "python",
   "pygments_lexer": "ipython2",
   "version": "2.7.6"
  }
 },
 "nbformat": 4,
 "nbformat_minor": 0
}
