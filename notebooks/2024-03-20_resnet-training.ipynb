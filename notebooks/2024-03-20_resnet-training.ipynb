{
 "cells": [
  {
   "cell_type": "markdown",
   "id": "a38e6d9b7a97d232",
   "metadata": {
    "collapsed": false
   },
   "source": [
    "# 20/03/2024\n",
    "Resnet training for satellite images"
   ]
  },
  {
   "cell_type": "code",
   "execution_count": 1,
   "id": "f066d7f20b0483f0",
   "metadata": {
    "ExecuteTime": {
     "end_time": "2024-03-21T06:38:00.342729Z",
     "start_time": "2024-03-21T06:38:00.265275Z"
    },
    "collapsed": false
   },
   "source": [
    "from keras.src.applications.resnet_v2 import ResNet50V2\n",
    "%load_ext autoreload\n",
    "%autoreload 2"
   ],
   "outputs": []
  },
  {
   "cell_type": "code",
   "execution_count": 2,
   "id": "7c7f102807ee16d",
   "metadata": {
    "ExecuteTime": {
     "end_time": "2024-03-21T06:55:22.842922Z",
     "start_time": "2024-03-21T06:55:20.925850Z"
    },
    "collapsed": false
   },
   "source": [
    "import random\n",
    "\n",
    "import geopandas as gpd\n",
    "import numpy as np\n",
    "import seaborn\n",
    "import tensorflow as tf\n",
    "from keras.src.callbacks import ModelCheckpoint\n",
    "from matplotlib import pyplot as plt\n",
    "from keras import Input, Model\n",
    "from keras.src.losses import MeanSquaredError\n",
    "from keras.src.optimizers import Adam"
   ],
   "outputs": []
  },
  {
   "cell_type": "code",
   "execution_count": 3,
   "id": "f80cc27f01a444e6",
   "metadata": {
    "ExecuteTime": {
     "end_time": "2024-03-21T06:38:02.830541Z",
     "start_time": "2024-03-21T06:38:02.736865Z"
    },
    "collapsed": false
   },
   "source": [
    "print('TensorFlow version: {}'.format(tf.__version__))\n",
    "device_name = tf.test.gpu_device_name()\n",
    "if device_name != '/device:GPU:0':\n",
    "    print('GPU device not found - On for CPU time!')\n",
    "else:\n",
    "    print('Found GPU at {}'.format(device_name))"
   ],
   "outputs": []
  },
  {
   "cell_type": "code",
   "execution_count": 4,
   "id": "c962485b-68b6-41f1-9bf4-baa2ec213bad",
   "metadata": {},
   "source": [
    "from tensorflow.python.platform import build_info as tf_build_info\n",
    "\n",
    "tf_build_info.build_info"
   ],
   "outputs": []
  },
  {
   "cell_type": "code",
   "execution_count": 5,
   "id": "ecc10f97-edbb-44d6-aa57-15561860fdfd",
   "metadata": {},
   "source": [
    "!/usr/local/cuda/bin/nvcc -V"
   ],
   "outputs": []
  },
  {
   "cell_type": "code",
   "execution_count": 6,
   "id": "0ac650ec-8f7a-4734-b993-3c878a632fb5",
   "metadata": {},
   "source": "!cat /usr/include/cudnn_version.h | grep CUDNN_MAJOR -A 2",
   "outputs": []
  },
  {
   "cell_type": "code",
   "execution_count": 7,
   "id": "496665e2-4523-4380-bd84-6198f76c181a",
   "metadata": {},
   "source": [
    "# Check libcudnn8 version\n",
    "!apt-cache policy libcudnn8"
   ],
   "outputs": []
  },
  {
   "cell_type": "code",
   "execution_count": 8,
   "id": "initial_id",
   "metadata": {
    "ExecuteTime": {
     "end_time": "2024-03-21T06:38:02.735858Z",
     "start_time": "2024-03-21T06:38:02.642593Z"
    }
   },
   "source": [
    "# set random seed / make reproducible\n",
    "seed = 42\n",
    "random.seed(seed)\n",
    "np.random.seed(seed)\n",
    "tf.random.set_seed(seed)"
   ],
   "outputs": []
  },
  {
   "cell_type": "code",
   "execution_count": 9,
   "id": "e6bc0d7d2a295fb5",
   "metadata": {
    "ExecuteTime": {
     "end_time": "2024-03-21T06:38:06.853956Z",
     "start_time": "2024-03-21T06:38:02.831526Z"
    },
    "collapsed": false
   },
   "source": [
    "#load labels to images and observe it\n",
    "eg_labels = gpd.read_file('../outputs/matched/gauteng-qol-cluster-tiles.geojson')\n",
    "eg_labels = eg_labels[[\"tile\", \"qol_index\"]]\n",
    "print(len(eg_labels))\n",
    "eg_labels.head()"
   ],
   "outputs": []
  },
  {
   "cell_type": "code",
   "execution_count": 10,
   "id": "d97d56cbe2aaebdc",
   "metadata": {
    "ExecuteTime": {
     "end_time": "2024-03-21T06:38:07.381868Z",
     "start_time": "2024-03-21T06:38:06.854868Z"
    },
    "collapsed": false
   },
   "source": [
    "plt.figure(figsize=(10, 6))\n",
    "seaborn.set_style('whitegrid')\n",
    "seaborn.set_palette('inferno')\n",
    "seaborn.displot(eg_labels['qol_index'], rug=True, kde_kws={'fill':True, 'color':'r'})\n",
    "plt.xlabel('QoL Index', fontsize=12, color='b')\n",
    "plt.ylabel('Frequency', fontsize=12, color='b')\n",
    "plt.title('Distribution of QoL index', fontsize=16, color='b')\n",
    "plt.show()"
   ],
   "outputs": []
  },
  {
   "cell_type": "code",
   "execution_count": 11,
   "id": "45ce65def9e2a5e9",
   "metadata": {
    "ExecuteTime": {
     "end_time": "2024-03-21T06:38:08.118353Z",
     "start_time": "2024-03-21T06:38:07.383863Z"
    },
    "collapsed": false
   },
   "source": [
    "from keras.src.legacy.preprocessing.image import ImageDataGenerator\n",
    "\n",
    "# create datagenerator object for training and validation datasets\n",
    "#rescale images using 1/255\n",
    "eg_train_datagen = ImageDataGenerator(\n",
    "            #we will do normalization for image pixel values as following\n",
    "            rescale=1 / 255\n",
    "            )\n",
    "\n",
    "#use flow_from_dataframe method to load images from directory and labels from dataframe\n",
    "eg_train_datagen_flow = eg_train_datagen.flow_from_dataframe(\n",
    "    dataframe = eg_labels,\n",
    "    directory='../outputs/tiles',\n",
    "    x_col=\"tile\", \n",
    "    y_col=\"qol_index\",\n",
    "    #we are doing regression, so we will assign class_mode to 'raw'\n",
    "    class_mode=\"raw\",\n",
    "    #to convert all images to same pixel size, for neural networks, all images should have similar size\n",
    "    target_size=(256,256),\n",
    "    #we will load images batch by batch (every time 32 images will be loaded)\n",
    "    batch_size=32,\n",
    "    seed=42,\n",
    "    )"
   ],
   "outputs": []
  },
  {
   "cell_type": "code",
   "execution_count": 12,
   "id": "d13e4322b9dde5fd",
   "metadata": {
    "ExecuteTime": {
     "end_time": "2024-03-21T06:38:11.270373Z",
     "start_time": "2024-03-21T06:38:08.119332Z"
    },
    "collapsed": false
   },
   "source": [
    "#get one batch from our datagenerator and display images in it\n",
    "features, target = next(eg_train_datagen_flow)\n",
    "\n",
    "# display 16 images\n",
    "fig = plt.figure(figsize=(12,12))\n",
    "for i in range(32):\n",
    "    fig.add_subplot(4, 8, i+1)\n",
    "    plt.imshow(features[i])\n",
    "    plt.title(f'{round(target[i], 2)}')\n",
    "\t# remove axes and place the images closer to one another for a more compact output\n",
    "    plt.xticks([])\n",
    "    plt.yticks([])\n",
    "    plt.suptitle('Photos with QoL Index',  y=0.9,fontsize=16, color='b')\n",
    "    plt.tight_layout()"
   ],
   "outputs": []
  },
  {
   "cell_type": "markdown",
   "id": "60fd7dacb9f4bd86",
   "metadata": {
    "collapsed": false
   },
   "source": [
    "## More concrete functions"
   ]
  },
  {
   "cell_type": "code",
   "id": "a2c2e80e66f576ca",
   "metadata": {
    "collapsed": false,
    "ExecuteTime": {
     "end_time": "2024-04-29T18:41:44.577336Z",
     "start_time": "2024-04-29T18:41:41.518892Z"
    }
   },
   "source": [
    "# TODO: Train, validation AND TEST\n",
    "def load_dataset(subset):\n",
    "    \n",
    "    \"\"\"\n",
    "    Loads the subset (training/validation) of the data from path\n",
    "    \"\"\"\n",
    "    \n",
    "    labels = gpd.read_file('../outputs/matched/gauteng-qol-cluster-tiles.geojson')\n",
    "    labels = labels[[\"tile\", \"qol_index\"]]\n",
    "    data = ImageDataGenerator(validation_split=0.2, rescale=1 / 255)\n",
    "    data_flow = data.flow_from_dataframe(\n",
    "        dataframe=labels,\n",
    "        directory=\"../outputs/tiles\",\n",
    "        x_col='tile',\n",
    "        y_col='qol_index',\n",
    "        target_size=(256, 256),\n",
    "        batch_size=32,\n",
    "        class_mode='raw',\n",
    "        subset = subset,\n",
    "        seed=42)\n",
    "\n",
    "    return data_flow"
   ],
   "execution_count": null,
   "outputs": []
  },
  {
   "cell_type": "code",
   "execution_count": 14,
   "id": "c6b501ab157f3e49",
   "metadata": {
    "ExecuteTime": {
     "end_time": "2024-03-21T06:38:11.459278Z",
     "start_time": "2024-03-21T06:38:11.367657Z"
    },
    "collapsed": false
   },
   "source": [
    "\n",
    "from keras.src.layers import Dropout, GlobalAveragePooling2D, Dense\n",
    "\n",
    "def create_model(input_shape):\n",
    "    \n",
    "    \"\"\"\n",
    "    Defines the model\n",
    "    \"\"\"\n",
    "    # Using ResNet50 architecture - freezing base model\n",
    "    base_model = ResNet50V2(input_shape=input_shape, weights='imagenet', include_top=False)\n",
    "    base_model.trainable = False\n",
    "\n",
    "    # Create new model on top\n",
    "    # Specify input shape\n",
    "    inputs = Input(shape=(256, 256, 3))\n",
    "    \n",
    "    # New model is base model with training set to false\n",
    "    x = base_model(inputs, training=False)\n",
    "    # Add averaging layer to ensure fixed size vector\n",
    "    x = GlobalAveragePooling2D()(x)\n",
    "    # Add dropout layer to reduce overfitting\n",
    "    x = Dropout(0.2)(x)\n",
    "        \n",
    "    #final layer, since we are doing regression we will add only one neuron (unit)\n",
    "    outputs = Dense(1, activation='relu')(x)\n",
    "    added_model = Model(inputs, outputs)\n",
    "\n",
    "    print(added_model.summary())\n",
    "\n",
    "    return base_model, added_model"
   ],
   "outputs": []
  },
  {
   "cell_type": "code",
   "execution_count": 15,
   "id": "853a5a30633117ba",
   "metadata": {
    "ExecuteTime": {
     "end_time": "2024-03-21T06:38:20.400312Z",
     "start_time": "2024-03-21T06:38:11.460718Z"
    },
    "collapsed": false
   },
   "source": [
    "#load training and testing (actually this is validation data set)\n",
    "train = load_dataset(\"training\")\n",
    "validation = load_dataset(\"validation\")"
   ],
   "outputs": []
  },
  {
   "cell_type": "code",
   "execution_count": 16,
   "id": "cdd5ea7cceda1f26",
   "metadata": {
    "ExecuteTime": {
     "end_time": "2024-03-21T06:38:21.884050Z",
     "start_time": "2024-03-21T06:38:20.403180Z"
    },
    "collapsed": false
   },
   "source": [
    "base_model, model = create_model(input_shape = (256, 256, 3))"
   ],
   "outputs": []
  },
  {
   "metadata": {},
   "cell_type": "code",
   "execution_count": null,
   "source": [
    "model.compile(\n",
    "    optimizer=Adam(),\n",
    "    loss=MeanSquaredError(),\n",
    ")"
   ],
   "id": "bd87a9ab9473546a",
   "outputs": []
  },
  {
   "metadata": {},
   "cell_type": "code",
   "execution_count": null,
   "source": [
    "# checkpoint\n",
    "filepath=\"../outputs/checkpoints/weights-improvement-{epoch:02d}-{val_loss:.2f}.hdf5\"\n",
    "checkpoint = ModelCheckpoint(filepath, monitor='val_loss', verbose=1, save_best_only=True, mode='max')\n",
    "callbacks_list = [checkpoint]"
   ],
   "id": "6b8001e78b6121a9",
   "outputs": []
  },
  {
   "metadata": {},
   "cell_type": "code",
   "execution_count": 17,
   "source": [
    "epochs = 20\n",
    "print(\"Fitting the top layer of the model\")\n",
    "# TODO: What does this mean again?\n",
    "history_a = model.fit(train, epochs=epochs, validation_data=validation, batch_size=10, callbacks=callbacks_list)"
   ],
   "id": "b4a0fe6d0dcd68c7",
   "outputs": []
  },
  {
   "cell_type": "code",
   "execution_count": 18,
   "id": "142444d4-7be2-4a76-a02e-45d5c5d536c3",
   "metadata": {},
   "source": [
    "import pandas as pd"
   ],
   "outputs": []
  },
  {
   "cell_type": "code",
   "execution_count": 19,
   "id": "e80c9ac4c677c698",
   "metadata": {
    "collapsed": false
   },
   "source": [
    "historya_df = pd.DataFrame(history_a.history)\n",
    "historya_df.loc[0:, ['loss', 'val_loss']].plot()"
   ],
   "outputs": []
  },
  {
   "cell_type": "code",
   "execution_count": null,
   "id": "e50aa56ff4dda756",
   "metadata": {
    "ExecuteTime": {
     "start_time": "2024-03-21T07:24:10.595666Z"
    },
    "collapsed": false,
    "is_executing": true
   },
   "source": [
    "# Unfreeze the base_model. Note that it keeps running in inference mode\n",
    "# since we passed `training=False` when calling it. This means that\n",
    "# the batchnorm layers will not update their batch statistics.\n",
    "# This prevents the batchnorm layers from undoing all the training\n",
    "# we've done so far.\n",
    "base_model.trainable = True\n",
    "model.summary(show_trainable=True)\n",
    "\n",
    "model.compile(\n",
    "    optimizer=Adam(1e-5),  # Low learning rate\n",
    "    loss=MeanSquaredError(),\n",
    ")\n",
    "\n",
    "epochs = 100\n",
    "print(\"Fitting the end-to-end model\")\n",
    "history_b = model.fit(train, epochs=epochs, validation_data=validation)"
   ],
   "outputs": []
  },
  {
   "cell_type": "code",
   "execution_count": null,
   "id": "04aa77bb-1e7c-4594-bfa5-52dad785111d",
   "metadata": {},
   "source": [
    "historyb_df = pd.DataFrame(history_b.history)\n",
    "historyb_df.loc[0:, ['loss', 'val_loss']].plot()"
   ],
   "outputs": []
  },
  {
   "cell_type": "code",
   "execution_count": null,
   "id": "3c2c7caa-85de-4274-989b-527d55935a9d",
   "metadata": {},
   "source": [],
   "outputs": []
  }
 ],
 "metadata": {
  "kernelspec": {
   "display_name": "Python 3 (ipykernel)",
   "language": "python",
   "name": "python3"
  },
  "language_info": {
   "codemirror_mode": {
    "name": "ipython",
    "version": 3
   },
   "file_extension": ".py",
   "mimetype": "text/x-python",
   "name": "python",
   "nbconvert_exporter": "python",
   "pygments_lexer": "ipython3",
   "version": "3.10.13"
  }
 },
 "nbformat": 4,
 "nbformat_minor": 5
}
