{
 "cells": [
  {
   "metadata": {},
   "cell_type": "markdown",
   "source": "# 20/05/2024 - Apply model to data",
   "id": "bfbea4b55c919b33"
  },
  {
   "metadata": {
    "ExecuteTime": {
     "end_time": "2024-05-21T11:34:35.490070Z",
     "start_time": "2024-05-21T11:34:35.449700Z"
    }
   },
   "cell_type": "code",
   "source": [
    "\n",
    "# NB! Only run this once\n",
    "%cd ..\n",
    "%load_ext autoreload\n",
    "%autoreload 2"
   ],
   "id": "1fe4d50d0d9dbb9e",
   "outputs": [
    {
     "name": "stdout",
     "output_type": "stream",
     "text": [
      "C:\\Users\\emily\\Documents\\repos\\measuring-quality-of-life-gauteng\n"
     ]
    },
    {
     "name": "stderr",
     "output_type": "stream",
     "text": [
      "C:\\Users\\emily\\AppData\\Local\\pypoetry\\Cache\\virtualenvs\\measuring-quality-of-life-OxfVlamN-py3.10\\lib\\site-packages\\IPython\\core\\magics\\osm.py:417: UserWarning: This is now an optional IPython functionality, setting dhist requires you to install the `pickleshare` library.\n",
      "  self.shell.db['dhist'] = compress_dhist(dhist)[-100:]\n"
     ]
    }
   ],
   "execution_count": 1
  },
  {
   "cell_type": "code",
   "id": "initial_id",
   "metadata": {
    "collapsed": true,
    "ExecuteTime": {
     "end_time": "2024-05-21T11:34:47.293718Z",
     "start_time": "2024-05-21T11:34:38.447124Z"
    }
   },
   "source": [
    "from tensorflow.keras.models import load_model\n",
    "model = load_model(\"outputs/model/resnet.h5\", compile=False)"
   ],
   "outputs": [],
   "execution_count": 2
  },
  {
   "metadata": {
    "ExecuteTime": {
     "end_time": "2024-05-21T11:35:10.417529Z",
     "start_time": "2024-05-21T11:35:10.289135Z"
    }
   },
   "cell_type": "code",
   "source": [
    "import pandas as pd\n",
    "data = pd.read_csv(\"outputs/model/data-split.csv\")\n",
    "len(data)"
   ],
   "id": "c906a5c8929fb3a2",
   "outputs": [
    {
     "data": {
      "text/plain": [
       "44300"
      ]
     },
     "execution_count": 4,
     "metadata": {},
     "output_type": "execute_result"
    }
   ],
   "execution_count": 4
  },
  {
   "metadata": {
    "ExecuteTime": {
     "end_time": "2024-05-21T11:35:13.078265Z",
     "start_time": "2024-05-21T11:35:12.985258Z"
    }
   },
   "cell_type": "code",
   "source": "data.head()",
   "id": "f7b5835117813fda",
   "outputs": [
    {
     "data": {
      "text/plain": [
       "   Unnamed: 0                         tile  qol_index  split\n",
       "0           0  2018-04-1179-868_00_05.tiff  62.041629  train\n",
       "1           1  2018-04-1179-868_00_06.tiff  63.701792  train\n",
       "2           2  2018-04-1179-868_00_06.tiff  62.041629   test\n",
       "3           3  2018-04-1179-868_00_07.tiff  63.701792    val\n",
       "4           4  2018-04-1179-868_00_07.tiff  62.041629  train"
      ],
      "text/html": [
       "<div>\n",
       "<style scoped>\n",
       "    .dataframe tbody tr th:only-of-type {\n",
       "        vertical-align: middle;\n",
       "    }\n",
       "\n",
       "    .dataframe tbody tr th {\n",
       "        vertical-align: top;\n",
       "    }\n",
       "\n",
       "    .dataframe thead th {\n",
       "        text-align: right;\n",
       "    }\n",
       "</style>\n",
       "<table border=\"1\" class=\"dataframe\">\n",
       "  <thead>\n",
       "    <tr style=\"text-align: right;\">\n",
       "      <th></th>\n",
       "      <th>Unnamed: 0</th>\n",
       "      <th>tile</th>\n",
       "      <th>qol_index</th>\n",
       "      <th>split</th>\n",
       "    </tr>\n",
       "  </thead>\n",
       "  <tbody>\n",
       "    <tr>\n",
       "      <th>0</th>\n",
       "      <td>0</td>\n",
       "      <td>2018-04-1179-868_00_05.tiff</td>\n",
       "      <td>62.041629</td>\n",
       "      <td>train</td>\n",
       "    </tr>\n",
       "    <tr>\n",
       "      <th>1</th>\n",
       "      <td>1</td>\n",
       "      <td>2018-04-1179-868_00_06.tiff</td>\n",
       "      <td>63.701792</td>\n",
       "      <td>train</td>\n",
       "    </tr>\n",
       "    <tr>\n",
       "      <th>2</th>\n",
       "      <td>2</td>\n",
       "      <td>2018-04-1179-868_00_06.tiff</td>\n",
       "      <td>62.041629</td>\n",
       "      <td>test</td>\n",
       "    </tr>\n",
       "    <tr>\n",
       "      <th>3</th>\n",
       "      <td>3</td>\n",
       "      <td>2018-04-1179-868_00_07.tiff</td>\n",
       "      <td>63.701792</td>\n",
       "      <td>val</td>\n",
       "    </tr>\n",
       "    <tr>\n",
       "      <th>4</th>\n",
       "      <td>4</td>\n",
       "      <td>2018-04-1179-868_00_07.tiff</td>\n",
       "      <td>62.041629</td>\n",
       "      <td>train</td>\n",
       "    </tr>\n",
       "  </tbody>\n",
       "</table>\n",
       "</div>"
      ]
     },
     "execution_count": 5,
     "metadata": {},
     "output_type": "execute_result"
    }
   ],
   "execution_count": 5
  },
  {
   "metadata": {
    "ExecuteTime": {
     "end_time": "2024-05-21T11:36:17.986678Z",
     "start_time": "2024-05-21T11:36:17.884140Z"
    }
   },
   "cell_type": "code",
   "source": [
    "test = data.groupby('tile').count()\n",
    "test[test[\"split\"] > 1]"
   ],
   "id": "2e86f5bcf7be989f",
   "outputs": [
    {
     "data": {
      "text/plain": [
       "                             Unnamed: 0  qol_index  split\n",
       "tile                                                     \n",
       "2018-04-1178-867_14_07.tiff           2          2      2\n",
       "2018-04-1178-867_15_06.tiff           2          2      2\n",
       "2018-04-1178-867_15_07.tiff           2          2      2\n",
       "2018-04-1178-868_15_05.tiff           2          2      2\n",
       "2018-04-1178-868_15_06.tiff           2          2      2\n",
       "...                                 ...        ...    ...\n",
       "2021-01-1187-872_09_05.tiff           2          2      2\n",
       "2021-01-1187-872_09_07.tiff           2          2      2\n",
       "2021-01-1187-872_09_13.tiff           2          2      2\n",
       "2021-01-1187-872_09_14.tiff           2          2      2\n",
       "2021-01-1187-872_09_15.tiff           2          2      2\n",
       "\n",
       "[9642 rows x 3 columns]"
      ],
      "text/html": [
       "<div>\n",
       "<style scoped>\n",
       "    .dataframe tbody tr th:only-of-type {\n",
       "        vertical-align: middle;\n",
       "    }\n",
       "\n",
       "    .dataframe tbody tr th {\n",
       "        vertical-align: top;\n",
       "    }\n",
       "\n",
       "    .dataframe thead th {\n",
       "        text-align: right;\n",
       "    }\n",
       "</style>\n",
       "<table border=\"1\" class=\"dataframe\">\n",
       "  <thead>\n",
       "    <tr style=\"text-align: right;\">\n",
       "      <th></th>\n",
       "      <th>Unnamed: 0</th>\n",
       "      <th>qol_index</th>\n",
       "      <th>split</th>\n",
       "    </tr>\n",
       "    <tr>\n",
       "      <th>tile</th>\n",
       "      <th></th>\n",
       "      <th></th>\n",
       "      <th></th>\n",
       "    </tr>\n",
       "  </thead>\n",
       "  <tbody>\n",
       "    <tr>\n",
       "      <th>2018-04-1178-867_14_07.tiff</th>\n",
       "      <td>2</td>\n",
       "      <td>2</td>\n",
       "      <td>2</td>\n",
       "    </tr>\n",
       "    <tr>\n",
       "      <th>2018-04-1178-867_15_06.tiff</th>\n",
       "      <td>2</td>\n",
       "      <td>2</td>\n",
       "      <td>2</td>\n",
       "    </tr>\n",
       "    <tr>\n",
       "      <th>2018-04-1178-867_15_07.tiff</th>\n",
       "      <td>2</td>\n",
       "      <td>2</td>\n",
       "      <td>2</td>\n",
       "    </tr>\n",
       "    <tr>\n",
       "      <th>2018-04-1178-868_15_05.tiff</th>\n",
       "      <td>2</td>\n",
       "      <td>2</td>\n",
       "      <td>2</td>\n",
       "    </tr>\n",
       "    <tr>\n",
       "      <th>2018-04-1178-868_15_06.tiff</th>\n",
       "      <td>2</td>\n",
       "      <td>2</td>\n",
       "      <td>2</td>\n",
       "    </tr>\n",
       "    <tr>\n",
       "      <th>...</th>\n",
       "      <td>...</td>\n",
       "      <td>...</td>\n",
       "      <td>...</td>\n",
       "    </tr>\n",
       "    <tr>\n",
       "      <th>2021-01-1187-872_09_05.tiff</th>\n",
       "      <td>2</td>\n",
       "      <td>2</td>\n",
       "      <td>2</td>\n",
       "    </tr>\n",
       "    <tr>\n",
       "      <th>2021-01-1187-872_09_07.tiff</th>\n",
       "      <td>2</td>\n",
       "      <td>2</td>\n",
       "      <td>2</td>\n",
       "    </tr>\n",
       "    <tr>\n",
       "      <th>2021-01-1187-872_09_13.tiff</th>\n",
       "      <td>2</td>\n",
       "      <td>2</td>\n",
       "      <td>2</td>\n",
       "    </tr>\n",
       "    <tr>\n",
       "      <th>2021-01-1187-872_09_14.tiff</th>\n",
       "      <td>2</td>\n",
       "      <td>2</td>\n",
       "      <td>2</td>\n",
       "    </tr>\n",
       "    <tr>\n",
       "      <th>2021-01-1187-872_09_15.tiff</th>\n",
       "      <td>2</td>\n",
       "      <td>2</td>\n",
       "      <td>2</td>\n",
       "    </tr>\n",
       "  </tbody>\n",
       "</table>\n",
       "<p>9642 rows × 3 columns</p>\n",
       "</div>"
      ]
     },
     "execution_count": 9,
     "metadata": {},
     "output_type": "execute_result"
    }
   ],
   "execution_count": 9
  },
  {
   "metadata": {
    "ExecuteTime": {
     "end_time": "2024-05-21T11:36:28.154817Z",
     "start_time": "2024-05-21T11:36:28.064067Z"
    }
   },
   "cell_type": "code",
   "source": "test[test[\"split\"] == 1]",
   "id": "82bf5687c6f6b41e",
   "outputs": [
    {
     "data": {
      "text/plain": [
       "                             Unnamed: 0  qol_index  split\n",
       "tile                                                     \n",
       "2018-04-1178-866_14_00.tiff           1          1      1\n",
       "2018-04-1178-866_14_01.tiff           1          1      1\n",
       "2018-04-1178-866_14_02.tiff           1          1      1\n",
       "2018-04-1178-866_14_03.tiff           1          1      1\n",
       "2018-04-1178-866_15_00.tiff           1          1      1\n",
       "...                                 ...        ...    ...\n",
       "2021-01-1189-873_07_05.tiff           1          1      1\n",
       "2021-01-1189-873_07_06.tiff           1          1      1\n",
       "2021-01-1189-873_08_04.tiff           1          1      1\n",
       "2021-01-1189-873_08_05.tiff           1          1      1\n",
       "2021-01-1189-873_08_06.tiff           1          1      1\n",
       "\n",
       "[21862 rows x 3 columns]"
      ],
      "text/html": [
       "<div>\n",
       "<style scoped>\n",
       "    .dataframe tbody tr th:only-of-type {\n",
       "        vertical-align: middle;\n",
       "    }\n",
       "\n",
       "    .dataframe tbody tr th {\n",
       "        vertical-align: top;\n",
       "    }\n",
       "\n",
       "    .dataframe thead th {\n",
       "        text-align: right;\n",
       "    }\n",
       "</style>\n",
       "<table border=\"1\" class=\"dataframe\">\n",
       "  <thead>\n",
       "    <tr style=\"text-align: right;\">\n",
       "      <th></th>\n",
       "      <th>Unnamed: 0</th>\n",
       "      <th>qol_index</th>\n",
       "      <th>split</th>\n",
       "    </tr>\n",
       "    <tr>\n",
       "      <th>tile</th>\n",
       "      <th></th>\n",
       "      <th></th>\n",
       "      <th></th>\n",
       "    </tr>\n",
       "  </thead>\n",
       "  <tbody>\n",
       "    <tr>\n",
       "      <th>2018-04-1178-866_14_00.tiff</th>\n",
       "      <td>1</td>\n",
       "      <td>1</td>\n",
       "      <td>1</td>\n",
       "    </tr>\n",
       "    <tr>\n",
       "      <th>2018-04-1178-866_14_01.tiff</th>\n",
       "      <td>1</td>\n",
       "      <td>1</td>\n",
       "      <td>1</td>\n",
       "    </tr>\n",
       "    <tr>\n",
       "      <th>2018-04-1178-866_14_02.tiff</th>\n",
       "      <td>1</td>\n",
       "      <td>1</td>\n",
       "      <td>1</td>\n",
       "    </tr>\n",
       "    <tr>\n",
       "      <th>2018-04-1178-866_14_03.tiff</th>\n",
       "      <td>1</td>\n",
       "      <td>1</td>\n",
       "      <td>1</td>\n",
       "    </tr>\n",
       "    <tr>\n",
       "      <th>2018-04-1178-866_15_00.tiff</th>\n",
       "      <td>1</td>\n",
       "      <td>1</td>\n",
       "      <td>1</td>\n",
       "    </tr>\n",
       "    <tr>\n",
       "      <th>...</th>\n",
       "      <td>...</td>\n",
       "      <td>...</td>\n",
       "      <td>...</td>\n",
       "    </tr>\n",
       "    <tr>\n",
       "      <th>2021-01-1189-873_07_05.tiff</th>\n",
       "      <td>1</td>\n",
       "      <td>1</td>\n",
       "      <td>1</td>\n",
       "    </tr>\n",
       "    <tr>\n",
       "      <th>2021-01-1189-873_07_06.tiff</th>\n",
       "      <td>1</td>\n",
       "      <td>1</td>\n",
       "      <td>1</td>\n",
       "    </tr>\n",
       "    <tr>\n",
       "      <th>2021-01-1189-873_08_04.tiff</th>\n",
       "      <td>1</td>\n",
       "      <td>1</td>\n",
       "      <td>1</td>\n",
       "    </tr>\n",
       "    <tr>\n",
       "      <th>2021-01-1189-873_08_05.tiff</th>\n",
       "      <td>1</td>\n",
       "      <td>1</td>\n",
       "      <td>1</td>\n",
       "    </tr>\n",
       "    <tr>\n",
       "      <th>2021-01-1189-873_08_06.tiff</th>\n",
       "      <td>1</td>\n",
       "      <td>1</td>\n",
       "      <td>1</td>\n",
       "    </tr>\n",
       "  </tbody>\n",
       "</table>\n",
       "<p>21862 rows × 3 columns</p>\n",
       "</div>"
      ]
     },
     "execution_count": 10,
     "metadata": {},
     "output_type": "execute_result"
    }
   ],
   "execution_count": 10
  },
  {
   "metadata": {
    "ExecuteTime": {
     "end_time": "2024-05-21T11:36:36.841329Z",
     "start_time": "2024-05-21T11:36:36.749082Z"
    }
   },
   "cell_type": "code",
   "source": [
    "grouped_data = data.groupby('tile').count()[\"split\"] <= 1\n",
    "grouped_data"
   ],
   "id": "32e35689bf56786f",
   "outputs": [
    {
     "data": {
      "text/plain": [
       "tile\n",
       "2018-04-1178-866_14_00.tiff    True\n",
       "2018-04-1178-866_14_01.tiff    True\n",
       "2018-04-1178-866_14_02.tiff    True\n",
       "2018-04-1178-866_14_03.tiff    True\n",
       "2018-04-1178-866_15_00.tiff    True\n",
       "                               ... \n",
       "2021-01-1189-873_07_05.tiff    True\n",
       "2021-01-1189-873_07_06.tiff    True\n",
       "2021-01-1189-873_08_04.tiff    True\n",
       "2021-01-1189-873_08_05.tiff    True\n",
       "2021-01-1189-873_08_06.tiff    True\n",
       "Name: split, Length: 31504, dtype: bool"
      ]
     },
     "execution_count": 11,
     "metadata": {},
     "output_type": "execute_result"
    }
   ],
   "execution_count": 11
  },
  {
   "metadata": {
    "ExecuteTime": {
     "end_time": "2024-05-21T11:36:41.664599Z",
     "start_time": "2024-05-21T11:36:41.563313Z"
    }
   },
   "cell_type": "code",
   "source": [
    "selection = grouped_data[grouped_data].index.tolist()\n",
    "unique_data = data[data[\"tile\"].isin(selection)] \n",
    "unique_data"
   ],
   "id": "8bbf44f00c777773",
   "outputs": [
    {
     "data": {
      "text/plain": [
       "       Unnamed: 0                         tile  qol_index  split\n",
       "0               0  2018-04-1179-868_00_05.tiff  62.041629  train\n",
       "5               5  2018-04-1179-868_00_08.tiff  63.701792  train\n",
       "6               6  2018-04-1179-868_00_09.tiff  63.701792  train\n",
       "7               7  2018-04-1179-868_00_10.tiff  63.701792  train\n",
       "8               8  2018-04-1179-868_00_11.tiff  63.701792    val\n",
       "...           ...                          ...        ...    ...\n",
       "44293       44293  2018-04-1184-870_15_10.tiff  61.696010  train\n",
       "44294       44294  2018-04-1184-870_15_11.tiff  61.696010  train\n",
       "44295       44295  2018-04-1184-870_15_12.tiff  61.696010  train\n",
       "44296       44296  2018-04-1184-870_15_13.tiff  61.696010   test\n",
       "44297       44297  2018-04-1184-870_15_14.tiff  61.696010  train\n",
       "\n",
       "[21862 rows x 4 columns]"
      ],
      "text/html": [
       "<div>\n",
       "<style scoped>\n",
       "    .dataframe tbody tr th:only-of-type {\n",
       "        vertical-align: middle;\n",
       "    }\n",
       "\n",
       "    .dataframe tbody tr th {\n",
       "        vertical-align: top;\n",
       "    }\n",
       "\n",
       "    .dataframe thead th {\n",
       "        text-align: right;\n",
       "    }\n",
       "</style>\n",
       "<table border=\"1\" class=\"dataframe\">\n",
       "  <thead>\n",
       "    <tr style=\"text-align: right;\">\n",
       "      <th></th>\n",
       "      <th>Unnamed: 0</th>\n",
       "      <th>tile</th>\n",
       "      <th>qol_index</th>\n",
       "      <th>split</th>\n",
       "    </tr>\n",
       "  </thead>\n",
       "  <tbody>\n",
       "    <tr>\n",
       "      <th>0</th>\n",
       "      <td>0</td>\n",
       "      <td>2018-04-1179-868_00_05.tiff</td>\n",
       "      <td>62.041629</td>\n",
       "      <td>train</td>\n",
       "    </tr>\n",
       "    <tr>\n",
       "      <th>5</th>\n",
       "      <td>5</td>\n",
       "      <td>2018-04-1179-868_00_08.tiff</td>\n",
       "      <td>63.701792</td>\n",
       "      <td>train</td>\n",
       "    </tr>\n",
       "    <tr>\n",
       "      <th>6</th>\n",
       "      <td>6</td>\n",
       "      <td>2018-04-1179-868_00_09.tiff</td>\n",
       "      <td>63.701792</td>\n",
       "      <td>train</td>\n",
       "    </tr>\n",
       "    <tr>\n",
       "      <th>7</th>\n",
       "      <td>7</td>\n",
       "      <td>2018-04-1179-868_00_10.tiff</td>\n",
       "      <td>63.701792</td>\n",
       "      <td>train</td>\n",
       "    </tr>\n",
       "    <tr>\n",
       "      <th>8</th>\n",
       "      <td>8</td>\n",
       "      <td>2018-04-1179-868_00_11.tiff</td>\n",
       "      <td>63.701792</td>\n",
       "      <td>val</td>\n",
       "    </tr>\n",
       "    <tr>\n",
       "      <th>...</th>\n",
       "      <td>...</td>\n",
       "      <td>...</td>\n",
       "      <td>...</td>\n",
       "      <td>...</td>\n",
       "    </tr>\n",
       "    <tr>\n",
       "      <th>44293</th>\n",
       "      <td>44293</td>\n",
       "      <td>2018-04-1184-870_15_10.tiff</td>\n",
       "      <td>61.696010</td>\n",
       "      <td>train</td>\n",
       "    </tr>\n",
       "    <tr>\n",
       "      <th>44294</th>\n",
       "      <td>44294</td>\n",
       "      <td>2018-04-1184-870_15_11.tiff</td>\n",
       "      <td>61.696010</td>\n",
       "      <td>train</td>\n",
       "    </tr>\n",
       "    <tr>\n",
       "      <th>44295</th>\n",
       "      <td>44295</td>\n",
       "      <td>2018-04-1184-870_15_12.tiff</td>\n",
       "      <td>61.696010</td>\n",
       "      <td>train</td>\n",
       "    </tr>\n",
       "    <tr>\n",
       "      <th>44296</th>\n",
       "      <td>44296</td>\n",
       "      <td>2018-04-1184-870_15_13.tiff</td>\n",
       "      <td>61.696010</td>\n",
       "      <td>test</td>\n",
       "    </tr>\n",
       "    <tr>\n",
       "      <th>44297</th>\n",
       "      <td>44297</td>\n",
       "      <td>2018-04-1184-870_15_14.tiff</td>\n",
       "      <td>61.696010</td>\n",
       "      <td>train</td>\n",
       "    </tr>\n",
       "  </tbody>\n",
       "</table>\n",
       "<p>21862 rows × 4 columns</p>\n",
       "</div>"
      ]
     },
     "execution_count": 12,
     "metadata": {},
     "output_type": "execute_result"
    }
   ],
   "execution_count": 12
  },
  {
   "metadata": {
    "ExecuteTime": {
     "end_time": "2024-05-21T11:37:32.083344Z",
     "start_time": "2024-05-21T11:37:31.973172Z"
    }
   },
   "cell_type": "code",
   "source": [
    "test_data = unique_data[unique_data[\"split\"] == 'test']\n",
    "test_data"
   ],
   "id": "294f243ce02e67c4",
   "outputs": [
    {
     "data": {
      "text/plain": [
       "       Unnamed: 0                         tile  qol_index split\n",
       "13             13  2018-04-1179-868_01_04.tiff  62.041629  test\n",
       "36             36  2018-04-1179-868_02_08.tiff  62.041629  test\n",
       "70             70  2018-04-1179-868_03_15.tiff  55.810812  test\n",
       "118           118  2018-04-1179-868_05_14.tiff  55.810812  test\n",
       "151           151  2018-04-1179-868_07_00.tiff  62.041629  test\n",
       "...           ...                          ...        ...   ...\n",
       "44215       44215  2018-04-1184-870_12_06.tiff  63.490776  test\n",
       "44262       44262  2018-04-1184-870_14_00.tiff  63.490776  test\n",
       "44276       44276  2018-04-1184-870_14_11.tiff  61.696010  test\n",
       "44287       44287  2018-04-1184-870_15_05.tiff  63.490776  test\n",
       "44296       44296  2018-04-1184-870_15_13.tiff  61.696010  test\n",
       "\n",
       "[2188 rows x 4 columns]"
      ],
      "text/html": [
       "<div>\n",
       "<style scoped>\n",
       "    .dataframe tbody tr th:only-of-type {\n",
       "        vertical-align: middle;\n",
       "    }\n",
       "\n",
       "    .dataframe tbody tr th {\n",
       "        vertical-align: top;\n",
       "    }\n",
       "\n",
       "    .dataframe thead th {\n",
       "        text-align: right;\n",
       "    }\n",
       "</style>\n",
       "<table border=\"1\" class=\"dataframe\">\n",
       "  <thead>\n",
       "    <tr style=\"text-align: right;\">\n",
       "      <th></th>\n",
       "      <th>Unnamed: 0</th>\n",
       "      <th>tile</th>\n",
       "      <th>qol_index</th>\n",
       "      <th>split</th>\n",
       "    </tr>\n",
       "  </thead>\n",
       "  <tbody>\n",
       "    <tr>\n",
       "      <th>13</th>\n",
       "      <td>13</td>\n",
       "      <td>2018-04-1179-868_01_04.tiff</td>\n",
       "      <td>62.041629</td>\n",
       "      <td>test</td>\n",
       "    </tr>\n",
       "    <tr>\n",
       "      <th>36</th>\n",
       "      <td>36</td>\n",
       "      <td>2018-04-1179-868_02_08.tiff</td>\n",
       "      <td>62.041629</td>\n",
       "      <td>test</td>\n",
       "    </tr>\n",
       "    <tr>\n",
       "      <th>70</th>\n",
       "      <td>70</td>\n",
       "      <td>2018-04-1179-868_03_15.tiff</td>\n",
       "      <td>55.810812</td>\n",
       "      <td>test</td>\n",
       "    </tr>\n",
       "    <tr>\n",
       "      <th>118</th>\n",
       "      <td>118</td>\n",
       "      <td>2018-04-1179-868_05_14.tiff</td>\n",
       "      <td>55.810812</td>\n",
       "      <td>test</td>\n",
       "    </tr>\n",
       "    <tr>\n",
       "      <th>151</th>\n",
       "      <td>151</td>\n",
       "      <td>2018-04-1179-868_07_00.tiff</td>\n",
       "      <td>62.041629</td>\n",
       "      <td>test</td>\n",
       "    </tr>\n",
       "    <tr>\n",
       "      <th>...</th>\n",
       "      <td>...</td>\n",
       "      <td>...</td>\n",
       "      <td>...</td>\n",
       "      <td>...</td>\n",
       "    </tr>\n",
       "    <tr>\n",
       "      <th>44215</th>\n",
       "      <td>44215</td>\n",
       "      <td>2018-04-1184-870_12_06.tiff</td>\n",
       "      <td>63.490776</td>\n",
       "      <td>test</td>\n",
       "    </tr>\n",
       "    <tr>\n",
       "      <th>44262</th>\n",
       "      <td>44262</td>\n",
       "      <td>2018-04-1184-870_14_00.tiff</td>\n",
       "      <td>63.490776</td>\n",
       "      <td>test</td>\n",
       "    </tr>\n",
       "    <tr>\n",
       "      <th>44276</th>\n",
       "      <td>44276</td>\n",
       "      <td>2018-04-1184-870_14_11.tiff</td>\n",
       "      <td>61.696010</td>\n",
       "      <td>test</td>\n",
       "    </tr>\n",
       "    <tr>\n",
       "      <th>44287</th>\n",
       "      <td>44287</td>\n",
       "      <td>2018-04-1184-870_15_05.tiff</td>\n",
       "      <td>63.490776</td>\n",
       "      <td>test</td>\n",
       "    </tr>\n",
       "    <tr>\n",
       "      <th>44296</th>\n",
       "      <td>44296</td>\n",
       "      <td>2018-04-1184-870_15_13.tiff</td>\n",
       "      <td>61.696010</td>\n",
       "      <td>test</td>\n",
       "    </tr>\n",
       "  </tbody>\n",
       "</table>\n",
       "<p>2188 rows × 4 columns</p>\n",
       "</div>"
      ]
     },
     "execution_count": 14,
     "metadata": {},
     "output_type": "execute_result"
    }
   ],
   "execution_count": 14
  },
  {
   "metadata": {},
   "cell_type": "markdown",
   "source": "# Applying model to test data",
   "id": "e1bfd501657b4328"
  },
  {
   "metadata": {
    "ExecuteTime": {
     "end_time": "2024-05-21T11:41:54.050140Z",
     "start_time": "2024-05-21T11:37:51.136208Z"
    }
   },
   "cell_type": "code",
   "source": [
    "import numpy as np\n",
    "from PIL import Image\n",
    "import os\n",
    "from tqdm import tqdm\n",
    "\n",
    "folder = \"outputs/tiles\"\n",
    "for index, row in tqdm(test_data.iterrows(), total=test_data.shape[0]):\n",
    "    img_location = os.path.join(folder, row[\"tile\"])  # create full path to image\n",
    "    with Image.open(img_location) as img:  # open image with pillow\n",
    "\n",
    "        img = np.array(img)\n",
    "        img = img[:, :, :3]\n",
    "        img = np.expand_dims(img, axis=0)\n",
    "    predict = model.predict(img, verbose=0)\n",
    "    test_data.loc[index,\"prediction\"] = predict[0][0]\n",
    "    \n",
    "test_data.head()    "
   ],
   "id": "7b2892caf619b514",
   "outputs": [
    {
     "name": "stderr",
     "output_type": "stream",
     "text": [
      "  0%|          | 0/2188 [00:00<?, ?it/s]C:\\Users\\emily\\AppData\\Local\\Temp\\ipykernel_32548\\2919003397.py:15: SettingWithCopyWarning: \n",
      "A value is trying to be set on a copy of a slice from a DataFrame.\n",
      "Try using .loc[row_indexer,col_indexer] = value instead\n",
      "\n",
      "See the caveats in the documentation: https://pandas.pydata.org/pandas-docs/stable/user_guide/indexing.html#returning-a-view-versus-a-copy\n",
      "  test_data.loc[index,\"prediction\"] = predict[0][0]\n",
      "100%|██████████| 2188/2188 [04:02<00:00,  9.01it/s]\n"
     ]
    },
    {
     "data": {
      "text/plain": [
       "     Unnamed: 0                         tile  qol_index split  prediction\n",
       "13           13  2018-04-1179-868_01_04.tiff  62.041629  test  139.097244\n",
       "36           36  2018-04-1179-868_02_08.tiff  62.041629  test  263.259735\n",
       "70           70  2018-04-1179-868_03_15.tiff  55.810812  test  257.927734\n",
       "118         118  2018-04-1179-868_05_14.tiff  55.810812  test  333.344971\n",
       "151         151  2018-04-1179-868_07_00.tiff  62.041629  test  193.000931"
      ],
      "text/html": [
       "<div>\n",
       "<style scoped>\n",
       "    .dataframe tbody tr th:only-of-type {\n",
       "        vertical-align: middle;\n",
       "    }\n",
       "\n",
       "    .dataframe tbody tr th {\n",
       "        vertical-align: top;\n",
       "    }\n",
       "\n",
       "    .dataframe thead th {\n",
       "        text-align: right;\n",
       "    }\n",
       "</style>\n",
       "<table border=\"1\" class=\"dataframe\">\n",
       "  <thead>\n",
       "    <tr style=\"text-align: right;\">\n",
       "      <th></th>\n",
       "      <th>Unnamed: 0</th>\n",
       "      <th>tile</th>\n",
       "      <th>qol_index</th>\n",
       "      <th>split</th>\n",
       "      <th>prediction</th>\n",
       "    </tr>\n",
       "  </thead>\n",
       "  <tbody>\n",
       "    <tr>\n",
       "      <th>13</th>\n",
       "      <td>13</td>\n",
       "      <td>2018-04-1179-868_01_04.tiff</td>\n",
       "      <td>62.041629</td>\n",
       "      <td>test</td>\n",
       "      <td>139.097244</td>\n",
       "    </tr>\n",
       "    <tr>\n",
       "      <th>36</th>\n",
       "      <td>36</td>\n",
       "      <td>2018-04-1179-868_02_08.tiff</td>\n",
       "      <td>62.041629</td>\n",
       "      <td>test</td>\n",
       "      <td>263.259735</td>\n",
       "    </tr>\n",
       "    <tr>\n",
       "      <th>70</th>\n",
       "      <td>70</td>\n",
       "      <td>2018-04-1179-868_03_15.tiff</td>\n",
       "      <td>55.810812</td>\n",
       "      <td>test</td>\n",
       "      <td>257.927734</td>\n",
       "    </tr>\n",
       "    <tr>\n",
       "      <th>118</th>\n",
       "      <td>118</td>\n",
       "      <td>2018-04-1179-868_05_14.tiff</td>\n",
       "      <td>55.810812</td>\n",
       "      <td>test</td>\n",
       "      <td>333.344971</td>\n",
       "    </tr>\n",
       "    <tr>\n",
       "      <th>151</th>\n",
       "      <td>151</td>\n",
       "      <td>2018-04-1179-868_07_00.tiff</td>\n",
       "      <td>62.041629</td>\n",
       "      <td>test</td>\n",
       "      <td>193.000931</td>\n",
       "    </tr>\n",
       "  </tbody>\n",
       "</table>\n",
       "</div>"
      ]
     },
     "execution_count": 15,
     "metadata": {},
     "output_type": "execute_result"
    }
   ],
   "execution_count": 15
  },
  {
   "metadata": {
    "ExecuteTime": {
     "end_time": "2024-05-21T11:42:03.972244Z",
     "start_time": "2024-05-21T11:42:03.887820Z"
    }
   },
   "cell_type": "code",
   "source": "len(test_data)",
   "id": "93934f814b08cea3",
   "outputs": [
    {
     "data": {
      "text/plain": [
       "2188"
      ]
     },
     "execution_count": 16,
     "metadata": {},
     "output_type": "execute_result"
    }
   ],
   "execution_count": 16
  },
  {
   "metadata": {
    "ExecuteTime": {
     "end_time": "2024-05-21T11:42:12.079545Z",
     "start_time": "2024-05-21T11:42:11.987582Z"
    }
   },
   "cell_type": "code",
   "source": "test_data.to_csv(\"./temp-outputs/misc/predictions-test.csv\", index=False)\n",
   "id": "f3c2d43bfc6b69b",
   "outputs": [],
   "execution_count": 17
  },
  {
   "metadata": {},
   "cell_type": "markdown",
   "source": "The above was pretty wrong! There was no preprocessing and it was slow because of the for loop. Better to use the create_generator functionality.",
   "id": "fb0bf9310f730fea"
  }
 ],
 "metadata": {
  "kernelspec": {
   "display_name": "Python 3",
   "language": "python",
   "name": "python3"
  },
  "language_info": {
   "codemirror_mode": {
    "name": "ipython",
    "version": 2
   },
   "file_extension": ".py",
   "mimetype": "text/x-python",
   "name": "python",
   "nbconvert_exporter": "python",
   "pygments_lexer": "ipython2",
   "version": "2.7.6"
  }
 },
 "nbformat": 4,
 "nbformat_minor": 5
}
