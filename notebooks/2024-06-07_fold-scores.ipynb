{
 "cells": [
  {
   "cell_type": "code",
   "id": "initial_id",
   "metadata": {
    "collapsed": true,
    "ExecuteTime": {
     "end_time": "2024-06-07T11:04:09.491660Z",
     "start_time": "2024-06-07T11:04:09.482661Z"
    }
   },
   "source": [
    "\n",
    "scores = [{\n",
    "    \"loss\": 5.109319686889648, \n",
    "    \"mae\": 5.106210708618164, \n",
    "    \"mape\":8.902265548706055, \n",
    "    \"mse\": 40.28390121459961, \n",
    "    \"rmse\": 6.346960067749023, \n",
    "    \"r2\": 0.09414759278297424\n",
    "},\n",
    "{\n",
    "    \"loss\": 3.9968085289001465, \n",
    "    \"mae\": 3.9974477291107178, \n",
    "    \"mape\":6.740309238433838, \n",
    "    \"mse\": 27.876483917236328, \n",
    "    \"rmse\": 5.279818534851074, \n",
    "    \"r2\": 0.3292962908744812\n",
    "},\n",
    "{\n",
    "    \"loss\": 5.315009117126465,\n",
    "    \"mae\":5.3184638023376465, \n",
    "    \"mape\":8.461950302124023, \n",
    "    \"mse\": 42.236637115478516, \n",
    "    \"rmse\": 6.498971939086914, \n",
    "    \"r2\":-0.6053965091705322\n",
    "},\n",
    "{\n",
    "    \"loss\": 5.949130535125732, \n",
    "    \"mae\": 5.944759845733643, \n",
    "    \"mape\": 11.070174217224121, \n",
    "    \"mse\": 58.918331146240234, \n",
    "    \"rmse\": 7.675827980041504, \n",
    "    \"r2\": 0.017880789935588837\n",
    "},\n",
    "{\n",
    "    \"loss\": 5.298249244689941, \n",
    "    \"mae\":5.298097133636475, \n",
    "    \"mape\":9.24866771697998, \n",
    "    \"mse\": 45.4149169921875, \n",
    "    \"rmse\": 6.739058971405029, \n",
    "    \"r2\": 0.13022519648075104\n",
    "}]\n"
   ],
   "outputs": [],
   "execution_count": 1
  },
  {
   "metadata": {
    "ExecuteTime": {
     "end_time": "2024-06-07T11:04:31.863948Z",
     "start_time": "2024-06-07T11:04:31.236039Z"
    }
   },
   "cell_type": "code",
   "source": [
    "import pandas as pd\n",
    "\n",
    "fold_scores_df = pd.DataFrame(scores)\n",
    "fold_scores_df"
   ],
   "id": "414c39fe5448c10f",
   "outputs": [
    {
     "data": {
      "text/plain": [
       "       loss       mae       mape        mse      rmse        r2\n",
       "0  5.109320  5.106211   8.902266  40.283901  6.346960  0.094148\n",
       "1  3.996809  3.997448   6.740309  27.876484  5.279819  0.329296\n",
       "2  5.315009  5.318464   8.461950  42.236637  6.498972 -0.605397\n",
       "3  5.949131  5.944760  11.070174  58.918331  7.675828  0.017881\n",
       "4  5.298249  5.298097   9.248668  45.414917  6.739059  0.130225"
      ],
      "text/html": [
       "<div>\n",
       "<style scoped>\n",
       "    .dataframe tbody tr th:only-of-type {\n",
       "        vertical-align: middle;\n",
       "    }\n",
       "\n",
       "    .dataframe tbody tr th {\n",
       "        vertical-align: top;\n",
       "    }\n",
       "\n",
       "    .dataframe thead th {\n",
       "        text-align: right;\n",
       "    }\n",
       "</style>\n",
       "<table border=\"1\" class=\"dataframe\">\n",
       "  <thead>\n",
       "    <tr style=\"text-align: right;\">\n",
       "      <th></th>\n",
       "      <th>loss</th>\n",
       "      <th>mae</th>\n",
       "      <th>mape</th>\n",
       "      <th>mse</th>\n",
       "      <th>rmse</th>\n",
       "      <th>r2</th>\n",
       "    </tr>\n",
       "  </thead>\n",
       "  <tbody>\n",
       "    <tr>\n",
       "      <th>0</th>\n",
       "      <td>5.109320</td>\n",
       "      <td>5.106211</td>\n",
       "      <td>8.902266</td>\n",
       "      <td>40.283901</td>\n",
       "      <td>6.346960</td>\n",
       "      <td>0.094148</td>\n",
       "    </tr>\n",
       "    <tr>\n",
       "      <th>1</th>\n",
       "      <td>3.996809</td>\n",
       "      <td>3.997448</td>\n",
       "      <td>6.740309</td>\n",
       "      <td>27.876484</td>\n",
       "      <td>5.279819</td>\n",
       "      <td>0.329296</td>\n",
       "    </tr>\n",
       "    <tr>\n",
       "      <th>2</th>\n",
       "      <td>5.315009</td>\n",
       "      <td>5.318464</td>\n",
       "      <td>8.461950</td>\n",
       "      <td>42.236637</td>\n",
       "      <td>6.498972</td>\n",
       "      <td>-0.605397</td>\n",
       "    </tr>\n",
       "    <tr>\n",
       "      <th>3</th>\n",
       "      <td>5.949131</td>\n",
       "      <td>5.944760</td>\n",
       "      <td>11.070174</td>\n",
       "      <td>58.918331</td>\n",
       "      <td>7.675828</td>\n",
       "      <td>0.017881</td>\n",
       "    </tr>\n",
       "    <tr>\n",
       "      <th>4</th>\n",
       "      <td>5.298249</td>\n",
       "      <td>5.298097</td>\n",
       "      <td>9.248668</td>\n",
       "      <td>45.414917</td>\n",
       "      <td>6.739059</td>\n",
       "      <td>0.130225</td>\n",
       "    </tr>\n",
       "  </tbody>\n",
       "</table>\n",
       "</div>"
      ]
     },
     "execution_count": 2,
     "metadata": {},
     "output_type": "execute_result"
    }
   ],
   "execution_count": 2
  },
  {
   "metadata": {
    "ExecuteTime": {
     "end_time": "2024-06-07T11:04:54.288014Z",
     "start_time": "2024-06-07T11:04:54.269Z"
    }
   },
   "cell_type": "code",
   "source": [
    "print(fold_scores_df)\n",
    "\n",
    "print(\"----------------------------------------------------------\")\n",
    "print(\"Average scores for all folds:\")\n",
    "print(\"----------------------------------------------------------\")\n",
    "print(fold_scores_df.mean(axis=0))\n"
   ],
   "id": "b12ea059a6204e9b",
   "outputs": [
    {
     "name": "stdout",
     "output_type": "stream",
     "text": [
      "       loss       mae       mape        mse      rmse        r2\n",
      "0  5.109320  5.106211   8.902266  40.283901  6.346960  0.094148\n",
      "1  3.996809  3.997448   6.740309  27.876484  5.279819  0.329296\n",
      "2  5.315009  5.318464   8.461950  42.236637  6.498972 -0.605397\n",
      "3  5.949131  5.944760  11.070174  58.918331  7.675828  0.017881\n",
      "4  5.298249  5.298097   9.248668  45.414917  6.739059  0.130225\n",
      "----------------------------------------------------------\n",
      "Average scores for all folds:\n",
      "----------------------------------------------------------\n",
      "loss     5.133703\n",
      "mae      5.132996\n",
      "mape     8.884673\n",
      "mse     42.946054\n",
      "rmse     6.508127\n",
      "r2      -0.006769\n",
      "dtype: float64\n"
     ]
    }
   ],
   "execution_count": 4
  },
  {
   "metadata": {
    "ExecuteTime": {
     "end_time": "2024-06-07T11:05:04.627891Z",
     "start_time": "2024-06-07T11:05:04.612863Z"
    }
   },
   "cell_type": "code",
   "source": [
    "print(\"----------------------------------------------------------\")\n",
    "print(\"Standard deviation scores for all folds:\")\n",
    "print(\"----------------------------------------------------------\")\n",
    "print(fold_scores_df.std(axis=0))\n"
   ],
   "id": "decf349798b4a5f2",
   "outputs": [
    {
     "name": "stdout",
     "output_type": "stream",
     "text": [
      "----------------------------------------------------------\n",
      "Standard deviation scores for all folds:\n",
      "----------------------------------------------------------\n",
      "loss     0.710280\n",
      "mae      0.709014\n",
      "mape     1.556134\n",
      "mse     11.134307\n",
      "rmse     0.859019\n",
      "r2       0.353855\n",
      "dtype: float64\n"
     ]
    }
   ],
   "execution_count": 5
  },
  {
   "metadata": {
    "ExecuteTime": {
     "end_time": "2024-06-07T11:06:49.443258Z",
     "start_time": "2024-06-07T11:06:49.430303Z"
    }
   },
   "cell_type": "code",
   "source": [
    "print(\"----------------------------------------------------------\")\n",
    "print(\"Best fold:\")\n",
    "print(\"----------------------------------------------------------\")\n",
    "loss_param = \"loss\"\n",
    "loss = fold_scores_df[loss_param]\n",
    "min_loss = loss.min()\n",
    "print(f\"Fold {min_loss}\")\n",
    "min_loss_idx = loss.idxmin() + 1\n",
    "print(f\"Fold {min_loss_idx}\")"
   ],
   "id": "d4d8a19ba1e4ab47",
   "outputs": [
    {
     "name": "stdout",
     "output_type": "stream",
     "text": [
      "----------------------------------------------------------\n",
      "Best fold:\n",
      "----------------------------------------------------------\n",
      "Fold 3.9968085289001465\n",
      "Fold 2\n"
     ]
    }
   ],
   "execution_count": 8
  },
  {
   "metadata": {},
   "cell_type": "code",
   "outputs": [],
   "execution_count": null,
   "source": "",
   "id": "211560ef9dff2360"
  }
 ],
 "metadata": {
  "kernelspec": {
   "display_name": "Python 3",
   "language": "python",
   "name": "python3"
  },
  "language_info": {
   "codemirror_mode": {
    "name": "ipython",
    "version": 2
   },
   "file_extension": ".py",
   "mimetype": "text/x-python",
   "name": "python",
   "nbconvert_exporter": "python",
   "pygments_lexer": "ipython2",
   "version": "2.7.6"
  }
 },
 "nbformat": 4,
 "nbformat_minor": 5
}
