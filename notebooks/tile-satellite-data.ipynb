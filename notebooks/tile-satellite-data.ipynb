{
 "cells": [
  {
   "cell_type": "markdown",
   "source": [
    "# Tiling\n",
    "Tile an image into 256 x 256 chunks"
   ],
   "metadata": {
    "collapsed": false
   }
  },
  {
   "cell_type": "code",
   "execution_count": 1,
   "outputs": [],
   "source": [
    "# Imports\n",
    "from tqdm import tqdm\n",
    "import numpy as np\n",
    "import rasterio as rio\n",
    "import earthpy.spatial as es\n"
   ],
   "metadata": {
    "collapsed": false,
    "ExecuteTime": {
     "end_time": "2023-06-25T12:56:44.017871600Z",
     "start_time": "2023-06-25T12:56:39.463045Z"
    }
   }
  },
  {
   "cell_type": "code",
   "execution_count": 20,
   "outputs": [],
   "source": [
    "\n",
    "\n",
    "def read_image(file_name) -> np.ndarray:\n",
    "    \"\"\"\n",
    "    Read image from file_name\n",
    "    Args: file_name: image file name\n",
    "    Returns: image array\n",
    "    Note:\n",
    "    The different color bands/channels are stored in the third dimension,\n",
    "    such that a gray-image is MxN, an RGB-image HxWx3 and an RGBA-image HxWx4.\n",
    "    \"\"\"\n",
    "    try:\n",
    "        if not Path(file_name).is_file():\n",
    "            print(file_name + \"Cannot open file!\")\n",
    "            return None\n",
    "        with rio.open(file_name) as img :\n",
    "            img = img.read()\n",
    "            return img\n",
    "    except Exception as e:\n",
    "        print(\"Error in read_image: \" + str(e))\n",
    "        return None\n",
    "\n",
    "\n",
    "def save_image(img_arr, file_name, crs) -> str:\n",
    "    \"\"\"\n",
    "    Save image to file_name\n",
    "    Args: img_arr: image array\n",
    "    Output: file_name: image file name\n",
    "    \"\"\"\n",
    "    if Path(file_name).is_file():\n",
    "        print(f\"Overwrite existing file: {file_name}\")\n",
    "    with rio.open(file_name,\n",
    "                    'w',\n",
    "                  driver='GTiff',\n",
    "                  count=img_arr.shape[0],\n",
    "                  height=img_arr.shape[1],\n",
    "                  width=img_arr.shape[2],\n",
    "                  dtype=img_arr.dtype,\n",
    "                  crs=crs) as dest:\n",
    "        dest.write(img_arr)\n",
    "    return file_name\n",
    "\n",
    "\n",
    "def count_files(folder_path):\n",
    "    \"\"\"\n",
    "    Count the number of files in the folder\n",
    "    Args: folder_path: folder path\n",
    "    Returns: number of files\n",
    "    \"\"\"\n",
    "    count = 0\n",
    "    for path in Path(folder_path).iterdir():\n",
    "        if path.is_file():\n",
    "            count += 1\n",
    "    return count\n",
    "\n",
    "\n",
    "# DEPRECATED\n",
    "def padding_image(img, stride) -> np.ndarray:\n",
    "    \"\"\"\n",
    "    Padding image to the size of multiple of stride\n",
    "    Args:\n",
    "        img: image array\n",
    "        stride: stride\n",
    "    Returns:\n",
    "        padded image array\n",
    "    \"\"\"\n",
    "\n",
    "    if len(img.shape) == 2:\n",
    "        img = img[:, :, np.newaxis]\n",
    "    height = img.shape[0]\n",
    "    width = img.shape[1]\n",
    "    D = img.shape[2]  # this one is for (H, W, C) format\n",
    "    # get the minial padding image size\n",
    "    H = int(np.ceil(height / stride) * stride)\n",
    "    W = int(np.ceil(width / stride) * stride)\n",
    "\n",
    "    padded_img = np.zeros([H, W, D], dtype=img.dtype)\n",
    "    for d in range(D):  # padding every layer\n",
    "        onelayer = img[:, :, d]\n",
    "        padded_img[:, :, d] = np.pad(\n",
    "            onelayer, ((0, H - height), (0, W - width)), \"reflect\"\n",
    "        )\n",
    "    padded_img = np.squeeze(padded_img)  # Remove axes of length one\n",
    "    return padded_img"
   ],
   "metadata": {
    "collapsed": false,
    "ExecuteTime": {
     "end_time": "2023-06-19T19:36:32.246016800Z",
     "start_time": "2023-06-19T19:36:32.238085300Z"
    }
   }
  },
  {
   "cell_type": "code",
   "execution_count": 27,
   "metadata": {
    "collapsed": true,
    "ExecuteTime": {
     "end_time": "2023-06-19T19:38:43.659042800Z",
     "start_time": "2023-06-19T19:38:43.646043Z"
    }
   },
   "outputs": [],
   "source": [
    "\n",
    "\n",
    "def tile_image(image_path, save_path, crop_size = 256, repetition_rate=0, overwrite=True) -> int:\n",
    "    \"\"\"\n",
    "    Tile large image\n",
    "\n",
    "    # Arguments\n",
    "        image_path: image path\n",
    "        save_path: save path\n",
    "        crop_size: crop size\n",
    "        repetition_rate: repetition rate\n",
    "        overwrite: overwrite existing files\n",
    "\n",
    "    Returns:\n",
    "        number of tiles\n",
    "    \"\"\"\n",
    "\n",
    "    # check crs\n",
    "    crs = es.crs_check(image_path)\n",
    "\n",
    "    # check input image\n",
    "    img = read_image(image_path)\n",
    "    if img is None:\n",
    "        return 0\n",
    "    # get image suffix\n",
    "    ext = Path(image_path).suffix\n",
    "    print(ext)\n",
    "    # check output folder, if not exists, creat it.\n",
    "    Path(save_path).mkdir(parents=True, exist_ok=True)\n",
    "\n",
    "    print(f\"Input Image File Shape (D, H, W):{ img.shape}\")\n",
    "\n",
    "    stride = int(crop_size * (1 - repetition_rate))\n",
    "    print(f\"crop_size = {crop_size}, stride = {stride}\")\n",
    "\n",
    "    # Ignoring pixels outside \"nice\" shape\n",
    "    H = img.shape[1] - (img.shape[1]%stride)\n",
    "    W = img.shape[2] - (img.shape[2]%stride)\n",
    "    print(f\"Selected Image File Shape (D, H, W): {img.shape[0]}, { H }, { W }\")\n",
    "\n",
    "    if overwrite:\n",
    "        new_name = 1\n",
    "    else:\n",
    "        cnt = count_files(save_path)\n",
    "        new_name = cnt + 1\n",
    "        print(f\"There are {cnt} files in the {save_path}\")\n",
    "        print(f\"New image name will start with {new_name}\")\n",
    "\n",
    "    n_rows = int((H - crop_size) / stride + 1)\n",
    "    n_cols = int((W - crop_size) / stride + 1)\n",
    "    print(n_rows)\n",
    "    print(n_cols)\n",
    "\n",
    "    def tile_generator():\n",
    "        for idh in range(n_rows):\n",
    "            h = idh * stride\n",
    "            for idw in range(n_cols):\n",
    "                w = idw * stride\n",
    "                yield h, w\n",
    "\n",
    "    with tqdm(\n",
    "        total=n_rows * n_cols, desc=\"Generating\", colour=\"green\", leave=True, unit=\"img\"\n",
    "    ) as pbar:\n",
    "        for n, (h, w) in enumerate(tile_generator()):\n",
    "            crop_img = img[:, h : h + crop_size, w : w + crop_size]\n",
    "            crop_image_name = f\"{new_name:04d}{ext}\"\n",
    "            crop_image_path = Path(save_path) / crop_image_name\n",
    "            save_image(crop_img, crop_image_path, crs)\n",
    "            new_name += 1\n",
    "            pbar.update(1)\n",
    "\n",
    "    return n + 1\n",
    "\n"
   ]
  },
  {
   "cell_type": "code",
   "execution_count": 28,
   "outputs": [
    {
     "name": "stdout",
     "output_type": "stream",
     "text": [
      ".tif\n",
      "Input Image File Shape (D, H, W):(8, 8909, 12371)\n",
      "crop_size = 256, stride = 256\n",
      "Selected Image File Shape (D, H, W): 8, 8704, 12288\n",
      "34\n",
      "48\n"
     ]
    },
    {
     "name": "stderr",
     "output_type": "stream",
     "text": [
      "Generating: 100%|\u001B[32m██████████\u001B[0m| 1632/1632 [00:07<00:00, 214.48img/s]\n"
     ]
    },
    {
     "data": {
      "text/plain": "1632"
     },
     "execution_count": 28,
     "metadata": {},
     "output_type": "execute_result"
    }
   ],
   "source": [
    "from pathlib import Path\n",
    "\n",
    "path = '../data/images/20230318_075512_29_249d_3B_AnalyticMS_SR_8b.tif'\n",
    "output = '../outputs/tiled-satellite-images'\n",
    "\n",
    "tile_image(path, output)"
   ],
   "metadata": {
    "collapsed": false,
    "ExecuteTime": {
     "end_time": "2023-06-19T19:39:00.660758900Z",
     "start_time": "2023-06-19T19:38:45.281154900Z"
    }
   }
  },
  {
   "cell_type": "code",
   "execution_count": null,
   "outputs": [],
   "source": [],
   "metadata": {
    "collapsed": false
   }
  }
 ],
 "metadata": {
  "kernelspec": {
   "display_name": "Python 3",
   "language": "python",
   "name": "python3"
  },
  "language_info": {
   "codemirror_mode": {
    "name": "ipython",
    "version": 2
   },
   "file_extension": ".py",
   "mimetype": "text/x-python",
   "name": "python",
   "nbconvert_exporter": "python",
   "pygments_lexer": "ipython2",
   "version": "2.7.6"
  }
 },
 "nbformat": 4,
 "nbformat_minor": 0
}
