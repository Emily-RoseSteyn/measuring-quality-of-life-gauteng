{
 "cells": [
  {
   "cell_type": "markdown",
   "source": [
    "# Tiling\n",
    "Tile an image into 256 x 256 chunks"
   ],
   "metadata": {
    "collapsed": false
   }
  },
  {
   "cell_type": "code",
   "execution_count": 5,
   "outputs": [],
   "source": [
    "# Imports\n",
    "import glob\n",
    "from PIL import Image\n"
   ],
   "metadata": {
    "collapsed": false,
    "ExecuteTime": {
     "end_time": "2023-06-19T17:36:25.820880800Z",
     "start_time": "2023-06-19T17:36:25.815601Z"
    }
   }
  },
  {
   "cell_type": "code",
   "execution_count": 6,
   "metadata": {
    "collapsed": true,
    "ExecuteTime": {
     "end_time": "2023-06-19T17:36:28.481138200Z",
     "start_time": "2023-06-19T17:36:28.459139500Z"
    }
   },
   "outputs": [],
   "source": [
    "\n",
    "\n",
    "def tile_image(image_path, chopsize = 256):\n",
    "    \"\"\"'\n",
    "    Tile large image\n",
    "\n",
    "    # Arguments\n",
    "        image_path: image path\n",
    "        chopsize: tile size\n",
    "    #\n",
    "    '\"\"\"\n",
    "    img = Image.open(image_path)\n",
    "    print('HERE')\n",
    "    width, height = img.size\n",
    "\n",
    "    img_name= image_path.split('/')[-1].split('.')[0]\n",
    "    for x0 in range(0, width, chopsize):\n",
    "            for y0 in range(0, height, chopsize):\n",
    "                box = (x0, y0,\n",
    "                     x0+chopsize if x0+chopsize < width else width - 1,\n",
    "                     y0+chopsize if y0+chopsize < height else height - 1)\n",
    "                if img.crop(box).size ==(256, 256):\n",
    "                   # print(img.crop(box).size)\n",
    "                    img.crop(box).save('../outputs/tiles/' +\n",
    "                                       '%s___%03d_%03d.png' % (img_name, x0, y0))"
   ]
  },
  {
   "cell_type": "code",
   "execution_count": 7,
   "outputs": [
    {
     "name": "stderr",
     "output_type": "stream",
     "text": [
      "More samples per pixel than can be decoded: 8\n"
     ]
    },
    {
     "ename": "UnidentifiedImageError",
     "evalue": "cannot identify image file '../data/images/20230318_075512_29_249d_3B_AnalyticMS_SR_8b.tif'",
     "output_type": "error",
     "traceback": [
      "\u001B[1;31m---------------------------------------------------------------------------\u001B[0m",
      "\u001B[1;31mUnidentifiedImageError\u001B[0m                    Traceback (most recent call last)",
      "Cell \u001B[1;32mIn[7], line 5\u001B[0m\n\u001B[0;32m      1\u001B[0m \u001B[38;5;28;01mfrom\u001B[39;00m \u001B[38;5;21;01mpathlib\u001B[39;00m \u001B[38;5;28;01mimport\u001B[39;00m Path\n\u001B[0;32m      3\u001B[0m path \u001B[38;5;241m=\u001B[39m \u001B[38;5;124m'\u001B[39m\u001B[38;5;124m../data/images/20230318_075512_29_249d_3B_AnalyticMS_SR_8b.tif\u001B[39m\u001B[38;5;124m'\u001B[39m\n\u001B[1;32m----> 5\u001B[0m \u001B[38;5;28;01mwith\u001B[39;00m \u001B[43mImage\u001B[49m\u001B[38;5;241;43m.\u001B[39;49m\u001B[43mopen\u001B[49m\u001B[43m(\u001B[49m\u001B[43mpath\u001B[49m\u001B[43m)\u001B[49m \u001B[38;5;28;01mas\u001B[39;00m im:\n\u001B[0;32m      6\u001B[0m     \u001B[38;5;28mprint\u001B[39m(\u001B[38;5;124m'\u001B[39m\u001B[38;5;124mHIGH\u001B[39m\u001B[38;5;124m'\u001B[39m)\n\u001B[0;32m      7\u001B[0m     \u001B[38;5;66;03m# Error here happens because pillow does not seem to support multichannel:\u001B[39;00m\n\u001B[0;32m      8\u001B[0m     \u001B[38;5;66;03m# https://github.com/python-pillow/Pillow/issues/1888\u001B[39;00m\n",
      "File \u001B[1;32m~\\AppData\\Local\\pypoetry\\Cache\\virtualenvs\\measuring-quality-of-life-OxfVlamN-py3.10\\lib\\site-packages\\PIL\\Image.py:3298\u001B[0m, in \u001B[0;36mopen\u001B[1;34m(fp, mode, formats)\u001B[0m\n\u001B[0;32m   3296\u001B[0m     warnings\u001B[38;5;241m.\u001B[39mwarn(message)\n\u001B[0;32m   3297\u001B[0m msg \u001B[38;5;241m=\u001B[39m \u001B[38;5;124m\"\u001B[39m\u001B[38;5;124mcannot identify image file \u001B[39m\u001B[38;5;132;01m%r\u001B[39;00m\u001B[38;5;124m\"\u001B[39m \u001B[38;5;241m%\u001B[39m (filename \u001B[38;5;28;01mif\u001B[39;00m filename \u001B[38;5;28;01melse\u001B[39;00m fp)\n\u001B[1;32m-> 3298\u001B[0m \u001B[38;5;28;01mraise\u001B[39;00m UnidentifiedImageError(msg)\n",
      "\u001B[1;31mUnidentifiedImageError\u001B[0m: cannot identify image file '../data/images/20230318_075512_29_249d_3B_AnalyticMS_SR_8b.tif'"
     ]
    }
   ],
   "source": [
    "from pathlib import Path\n",
    "\n",
    "path = '../data/images/20230318_075512_29_249d_3B_AnalyticMS_SR_8b.tif'\n",
    "\n",
    "with Image.open(path) as im:\n",
    "    print('HIGH')\n",
    "    # Error here happens because pillow does not seem to support multichannel:\n",
    "    # https://github.com/python-pillow/Pillow/issues/1888"
   ],
   "metadata": {
    "collapsed": false,
    "ExecuteTime": {
     "end_time": "2023-06-19T17:36:31.126789100Z",
     "start_time": "2023-06-19T17:36:30.738295200Z"
    }
   }
  },
  {
   "cell_type": "code",
   "execution_count": null,
   "outputs": [],
   "source": [],
   "metadata": {
    "collapsed": false
   }
  }
 ],
 "metadata": {
  "kernelspec": {
   "display_name": "Python 3",
   "language": "python",
   "name": "python3"
  },
  "language_info": {
   "codemirror_mode": {
    "name": "ipython",
    "version": 2
   },
   "file_extension": ".py",
   "mimetype": "text/x-python",
   "name": "python",
   "nbconvert_exporter": "python",
   "pygments_lexer": "ipython2",
   "version": "2.7.6"
  }
 },
 "nbformat": 4,
 "nbformat_minor": 0
}
