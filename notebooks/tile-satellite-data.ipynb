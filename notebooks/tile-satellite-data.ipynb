{
 "cells": [
  {
   "cell_type": "markdown",
   "source": [
    "# Tiling\n",
    "Tile an image into 256 x 256 chunks"
   ],
   "metadata": {
    "collapsed": false
   }
  },
  {
   "cell_type": "code",
   "execution_count": 6,
   "outputs": [],
   "source": [
    "import matplotlib.pyplot as plt\n",
    "# Imports\n",
    "from tqdm import tqdm\n",
    "import numpy as np\n",
    "import rasterio as rio\n",
    "import earthpy.spatial as es"
   ],
   "metadata": {
    "collapsed": false,
    "ExecuteTime": {
     "end_time": "2023-06-27T04:51:03.934631500Z",
     "start_time": "2023-06-27T04:51:03.901602300Z"
    }
   }
  },
  {
   "cell_type": "code",
   "execution_count": 7,
   "outputs": [],
   "source": [
    "\n",
    "\n",
    "def read_image(file_name) -> np.ndarray:\n",
    "    \"\"\"\n",
    "    Read image from file_name\n",
    "    Args: file_name: image file name\n",
    "    Returns: image array\n",
    "    \"\"\"\n",
    "    try:\n",
    "        if not Path(file_name).is_file():\n",
    "            print(file_name + \"Cannot open file!\")\n",
    "            return None\n",
    "        with rio.open(file_name) as img :\n",
    "            img = img.read()\n",
    "            return img\n",
    "    except Exception as e:\n",
    "        print(\"Error in read_image: \" + str(e))\n",
    "        return None\n",
    "\n",
    "\n",
    "def save_image(img_arr, file_name, crs) -> str:\n",
    "    \"\"\"\n",
    "    Save image to file_name\n",
    "    Args: img_arr: image array\n",
    "    Output: file_name: image file name\n",
    "    \"\"\"\n",
    "    if Path(file_name).is_file():\n",
    "        print(f\"Overwrite existing file: {file_name}\")\n",
    "    with rio.open(file_name,\n",
    "                    'w',\n",
    "                  driver='GTiff',\n",
    "                  count=img_arr.shape[0],\n",
    "                  height=img_arr.shape[1],\n",
    "                  width=img_arr.shape[2],\n",
    "                  dtype=img_arr.dtype,\n",
    "                  crs=crs) as dest:\n",
    "        dest.write(img_arr)\n",
    "    return file_name\n",
    "\n",
    "\n",
    "def save_png_image(file_name) -> str:\n",
    "    \"\"\"\n",
    "    Save geotiff image to png\n",
    "    Args: file_name: geotiff file_name\n",
    "    Output: file_name: image file name\n",
    "    \"\"\"\n",
    "    with rio.open(file_name) as infile:\n",
    "        profile=infile.profile\n",
    "        png_filename=file_name.with_suffix('.png')\n",
    "        raster=infile.read([6,4,2])\n",
    "        with rio.open(png_filename, 'w',\n",
    "                  driver='PNG',\n",
    "                  count=raster.shape[0],\n",
    "                  height=raster.shape[1],\n",
    "                  width=raster.shape[2],\n",
    "                  dtype=raster.dtype,\n",
    "                  crs=profile['crs']) as dst:\n",
    "            dst.write(raster)\n",
    "    return file_name\n",
    "\n",
    "\n",
    "def count_files(folder_path):\n",
    "    \"\"\"\n",
    "    Count the number of files in the folder\n",
    "    Args: folder_path: folder path\n",
    "    Returns: number of files\n",
    "    \"\"\"\n",
    "    count = 0\n",
    "    for path in Path(folder_path).iterdir():\n",
    "        if path.is_file():\n",
    "            count += 1\n",
    "    return count\n",
    "\n",
    "\n",
    "# DEPRECATED\n",
    "def padding_image(img, stride) -> np.ndarray:\n",
    "    \"\"\"\n",
    "    Padding image to the size of multiple of stride\n",
    "    Args:\n",
    "        img: image array\n",
    "        stride: stride\n",
    "    Returns:\n",
    "        padded image array\n",
    "    \"\"\"\n",
    "\n",
    "    if len(img.shape) == 2:\n",
    "        img = img[:, :, np.newaxis]\n",
    "    height = img.shape[0]\n",
    "    width = img.shape[1]\n",
    "    D = img.shape[2]  # this one is for (H, W, C) format\n",
    "    # get the minial padding image size\n",
    "    H = int(np.ceil(height / stride) * stride)\n",
    "    W = int(np.ceil(width / stride) * stride)\n",
    "\n",
    "    padded_img = np.zeros([H, W, D], dtype=img.dtype)\n",
    "    for d in range(D):  # padding every layer\n",
    "        onelayer = img[:, :, d]\n",
    "        padded_img[:, :, d] = np.pad(\n",
    "            onelayer, ((0, H - height), (0, W - width)), \"reflect\"\n",
    "        )\n",
    "    padded_img = np.squeeze(padded_img)  # Remove axes of length one\n",
    "    return padded_img"
   ],
   "metadata": {
    "collapsed": false,
    "ExecuteTime": {
     "end_time": "2023-06-27T04:51:05.600517900Z",
     "start_time": "2023-06-27T04:51:05.586459300Z"
    }
   }
  },
  {
   "cell_type": "code",
   "execution_count": 8,
   "metadata": {
    "collapsed": true,
    "ExecuteTime": {
     "end_time": "2023-06-27T04:51:10.871201600Z",
     "start_time": "2023-06-27T04:51:10.868151800Z"
    }
   },
   "outputs": [],
   "source": [
    "\n",
    "\n",
    "def tile_image(image_path, save_path, crop_size = 256, repetition_rate=0, overwrite=True) -> int:\n",
    "    \"\"\"\n",
    "    Tile large image\n",
    "\n",
    "    # Arguments\n",
    "        image_path: image path\n",
    "        save_path: save path\n",
    "        crop_size: crop size\n",
    "        repetition_rate: repetition rate\n",
    "        overwrite: overwrite existing files\n",
    "\n",
    "    Returns:\n",
    "        number of tiles\n",
    "    \"\"\"\n",
    "\n",
    "    # check crs\n",
    "    crs = es.crs_check(image_path)\n",
    "\n",
    "    # check input image\n",
    "    img = read_image(image_path)\n",
    "    if img is None:\n",
    "        return 0\n",
    "    # get image suffix\n",
    "    ext = Path(image_path).suffix\n",
    "    print(ext)\n",
    "    # check output folder, if not exists, creat it.\n",
    "    Path(save_path).mkdir(parents=True, exist_ok=True)\n",
    "\n",
    "    print(f\"Input Image File Shape (D, H, W):{ img.shape}\")\n",
    "\n",
    "    stride = int(crop_size * (1 - repetition_rate))\n",
    "    print(f\"crop_size = {crop_size}, stride = {stride}\")\n",
    "\n",
    "    # Ignoring pixels outside \"nice\" shape\n",
    "    H = img.shape[1] - (img.shape[1]%stride)\n",
    "    W = img.shape[2] - (img.shape[2]%stride)\n",
    "    print(f\"Selected Image File Shape (D, H, W): {img.shape[0]}, { H }, { W }\")\n",
    "\n",
    "    if overwrite:\n",
    "        new_name = 1\n",
    "    else:\n",
    "        cnt = count_files(save_path)\n",
    "        new_name = cnt + 1\n",
    "        print(f\"There are {cnt} files in the {save_path}\")\n",
    "        print(f\"New image name will start with {new_name}\")\n",
    "\n",
    "    n_rows = int((H - crop_size) / stride + 1)\n",
    "    n_cols = int((W - crop_size) / stride + 1)\n",
    "    print(n_rows)\n",
    "    print(n_cols)\n",
    "\n",
    "    def tile_generator():\n",
    "        for idh in range(n_rows):\n",
    "            h = idh * stride\n",
    "            for idw in range(n_cols):\n",
    "                w = idw * stride\n",
    "                yield h, w\n",
    "\n",
    "    with tqdm(\n",
    "        total=n_rows * n_cols, desc=\"Generating\", colour=\"green\", leave=True, unit=\"img\"\n",
    "    ) as pbar:\n",
    "        for n, (h, w) in enumerate(tile_generator()):\n",
    "            crop_img = img[:, h : h + crop_size, w : w + crop_size]\n",
    "            crop_image_name = f\"{new_name:04d}{ext}\"\n",
    "            crop_image_path = Path(save_path) / crop_image_name\n",
    "            file_name = save_image(crop_img, crop_image_path, crs)\n",
    "            # save_png_image(file_name)\n",
    "            new_name += 1\n",
    "            pbar.update(1)\n",
    "\n",
    "    return n + 1\n",
    "\n"
   ]
  },
  {
   "cell_type": "code",
   "execution_count": 9,
   "outputs": [],
   "source": [
    "from pathlib import Path\n",
    "\n",
    "path = '../data/images/20230318_075512_29_249d_3B_AnalyticMS_SR_8b.tif'\n",
    "output = '../outputs/tiled-satellite-images'\n"
   ],
   "metadata": {
    "collapsed": false,
    "ExecuteTime": {
     "end_time": "2023-06-27T04:51:14.515879100Z",
     "start_time": "2023-06-27T04:51:14.496881Z"
    }
   }
  },
  {
   "cell_type": "code",
   "execution_count": 10,
   "outputs": [
    {
     "name": "stdout",
     "output_type": "stream",
     "text": [
      ".tif\n",
      "Input Image File Shape (D, H, W):(8, 8909, 12371)\n",
      "crop_size = 256, stride = 256\n",
      "Selected Image File Shape (D, H, W): 8, 8704, 12288\n",
      "34\n",
      "48\n"
     ]
    },
    {
     "name": "stderr",
     "output_type": "stream",
     "text": [
      "Generating:   1%|\u001B[32m          \u001B[0m| 11/1632 [00:00<00:15, 106.74img/s]"
     ]
    },
    {
     "name": "stdout",
     "output_type": "stream",
     "text": [
      "Overwrite existing file: ..\\outputs\\tiled-satellite-images\\0001.tif\n",
      "Overwrite existing file: ..\\outputs\\tiled-satellite-images\\0002.tif\n",
      "Overwrite existing file: ..\\outputs\\tiled-satellite-images\\0003.tif\n",
      "Overwrite existing file: ..\\outputs\\tiled-satellite-images\\0004.tif\n",
      "Overwrite existing file: ..\\outputs\\tiled-satellite-images\\0005.tif\n",
      "Overwrite existing file: ..\\outputs\\tiled-satellite-images\\0006.tif\n",
      "Overwrite existing file: ..\\outputs\\tiled-satellite-images\\0007.tif\n",
      "Overwrite existing file: ..\\outputs\\tiled-satellite-images\\0008.tif\n",
      "Overwrite existing file: ..\\outputs\\tiled-satellite-images\\0009.tif\n",
      "Overwrite existing file: ..\\outputs\\tiled-satellite-images\\0010.tif\n",
      "Overwrite existing file: ..\\outputs\\tiled-satellite-images\\0011.tif\n",
      "Overwrite existing file: ..\\outputs\\tiled-satellite-images\\0012.tif\n",
      "Overwrite existing file: ..\\outputs\\tiled-satellite-images\\0013.tif\n",
      "Overwrite existing file: ..\\outputs\\tiled-satellite-images\\0014.tif\n",
      "Overwrite existing file: ..\\outputs\\tiled-satellite-images\\0015.tif\n",
      "Overwrite existing file: ..\\outputs\\tiled-satellite-images\\0016.tif\n",
      "Overwrite existing file: ..\\outputs\\tiled-satellite-images\\0017.tif\n",
      "Overwrite existing file: ..\\outputs\\tiled-satellite-images\\0018.tif\n",
      "Overwrite existing file: ..\\outputs\\tiled-satellite-images\\0019.tif\n",
      "Overwrite existing file: ..\\outputs\\tiled-satellite-images\\0020.tif\n",
      "Overwrite existing file: ..\\outputs\\tiled-satellite-images\\0021.tif\n",
      "Overwrite existing file: ..\\outputs\\tiled-satellite-images\\0022.tif\n",
      "Overwrite existing file: ..\\outputs\\tiled-satellite-images\\0023.tif\n",
      "Overwrite existing file: ..\\outputs\\tiled-satellite-images\\0024.tif\n",
      "Overwrite existing file: ..\\outputs\\tiled-satellite-images\\0025.tif\n",
      "Overwrite existing file: ..\\outputs\\tiled-satellite-images\\0026.tif\n",
      "Overwrite existing file: ..\\outputs\\tiled-satellite-images\\0027.tif\n"
     ]
    },
    {
     "name": "stderr",
     "output_type": "stream",
     "text": [
      "Generating:   3%|\u001B[32m▎         \u001B[0m| 56/1632 [00:00<00:11, 141.60img/s]"
     ]
    },
    {
     "name": "stdout",
     "output_type": "stream",
     "text": [
      "Overwrite existing file: ..\\outputs\\tiled-satellite-images\\0028.tif\n",
      "Overwrite existing file: ..\\outputs\\tiled-satellite-images\\0029.tif\n",
      "Overwrite existing file: ..\\outputs\\tiled-satellite-images\\0030.tif\n",
      "Overwrite existing file: ..\\outputs\\tiled-satellite-images\\0031.tif\n",
      "Overwrite existing file: ..\\outputs\\tiled-satellite-images\\0032.tif\n",
      "Overwrite existing file: ..\\outputs\\tiled-satellite-images\\0033.tif\n",
      "Overwrite existing file: ..\\outputs\\tiled-satellite-images\\0034.tif\n",
      "Overwrite existing file: ..\\outputs\\tiled-satellite-images\\0035.tif\n",
      "Overwrite existing file: ..\\outputs\\tiled-satellite-images\\0036.tif\n",
      "Overwrite existing file: ..\\outputs\\tiled-satellite-images\\0037.tif\n",
      "Overwrite existing file: ..\\outputs\\tiled-satellite-images\\0038.tif\n",
      "Overwrite existing file: ..\\outputs\\tiled-satellite-images\\0039.tif\n",
      "Overwrite existing file: ..\\outputs\\tiled-satellite-images\\0040.tif\n",
      "Overwrite existing file: ..\\outputs\\tiled-satellite-images\\0041.tif\n",
      "Overwrite existing file: ..\\outputs\\tiled-satellite-images\\0042.tif\n",
      "Overwrite existing file: ..\\outputs\\tiled-satellite-images\\0043.tif\n",
      "Overwrite existing file: ..\\outputs\\tiled-satellite-images\\0044.tif\n",
      "Overwrite existing file: ..\\outputs\\tiled-satellite-images\\0045.tif\n",
      "Overwrite existing file: ..\\outputs\\tiled-satellite-images\\0046.tif\n",
      "Overwrite existing file: ..\\outputs\\tiled-satellite-images\\0047.tif\n",
      "Overwrite existing file: ..\\outputs\\tiled-satellite-images\\0048.tif\n",
      "Overwrite existing file: ..\\outputs\\tiled-satellite-images\\0049.tif\n",
      "Overwrite existing file: ..\\outputs\\tiled-satellite-images\\0050.tif\n",
      "Overwrite existing file: ..\\outputs\\tiled-satellite-images\\0051.tif\n",
      "Overwrite existing file: ..\\outputs\\tiled-satellite-images\\0052.tif\n",
      "Overwrite existing file: ..\\outputs\\tiled-satellite-images\\0053.tif\n",
      "Overwrite existing file: ..\\outputs\\tiled-satellite-images\\0054.tif\n",
      "Overwrite existing file: ..\\outputs\\tiled-satellite-images\\0055.tif\n",
      "Overwrite existing file: ..\\outputs\\tiled-satellite-images\\0056.tif\n"
     ]
    },
    {
     "name": "stderr",
     "output_type": "stream",
     "text": [
      "Generating:   4%|\u001B[32m▍         \u001B[0m| 71/1632 [00:00<00:11, 141.13img/s]"
     ]
    },
    {
     "name": "stdout",
     "output_type": "stream",
     "text": [
      "Overwrite existing file: ..\\outputs\\tiled-satellite-images\\0057.tif\n",
      "Overwrite existing file: ..\\outputs\\tiled-satellite-images\\0058.tif\n",
      "Overwrite existing file: ..\\outputs\\tiled-satellite-images\\0059.tif\n",
      "Overwrite existing file: ..\\outputs\\tiled-satellite-images\\0060.tif\n",
      "Overwrite existing file: ..\\outputs\\tiled-satellite-images\\0061.tif\n",
      "Overwrite existing file: ..\\outputs\\tiled-satellite-images\\0062.tif\n",
      "Overwrite existing file: ..\\outputs\\tiled-satellite-images\\0063.tif\n",
      "Overwrite existing file: ..\\outputs\\tiled-satellite-images\\0064.tif\n",
      "Overwrite existing file: ..\\outputs\\tiled-satellite-images\\0065.tif\n",
      "Overwrite existing file: ..\\outputs\\tiled-satellite-images\\0066.tif\n",
      "Overwrite existing file: ..\\outputs\\tiled-satellite-images\\0067.tif\n",
      "Overwrite existing file: ..\\outputs\\tiled-satellite-images\\0068.tif\n",
      "Overwrite existing file: ..\\outputs\\tiled-satellite-images\\0069.tif\n",
      "Overwrite existing file: ..\\outputs\\tiled-satellite-images\\0070.tif\n",
      "Overwrite existing file: ..\\outputs\\tiled-satellite-images\\0071.tif\n",
      "Overwrite existing file: ..\\outputs\\tiled-satellite-images\\0072.tif\n",
      "Overwrite existing file: ..\\outputs\\tiled-satellite-images\\0073.tif\n",
      "Overwrite existing file: ..\\outputs\\tiled-satellite-images\\0074.tif\n",
      "Overwrite existing file: ..\\outputs\\tiled-satellite-images\\0075.tif\n",
      "Overwrite existing file: ..\\outputs\\tiled-satellite-images\\0076.tif\n",
      "Overwrite existing file: ..\\outputs\\tiled-satellite-images\\0077.tif\n",
      "Overwrite existing file: ..\\outputs\\tiled-satellite-images\\0078.tif\n",
      "Overwrite existing file: ..\\outputs\\tiled-satellite-images\\0079.tif\n",
      "Overwrite existing file: ..\\outputs\\tiled-satellite-images\\0080.tif\n",
      "Overwrite existing file: ..\\outputs\\tiled-satellite-images\\0081.tif\n",
      "Overwrite existing file: ..\\outputs\\tiled-satellite-images\\0082.tif\n",
      "Overwrite existing file: ..\\outputs\\tiled-satellite-images\\0083.tif\n",
      "Overwrite existing file: ..\\outputs\\tiled-satellite-images\\0084.tif\n",
      "Overwrite existing file: ..\\outputs\\tiled-satellite-images\\0085.tif\n"
     ]
    },
    {
     "name": "stderr",
     "output_type": "stream",
     "text": [
      "Generating:   6%|\u001B[32m▌         \u001B[0m| 101/1632 [00:00<00:10, 144.80img/s]"
     ]
    },
    {
     "name": "stdout",
     "output_type": "stream",
     "text": [
      "Overwrite existing file: ..\\outputs\\tiled-satellite-images\\0086.tif\n",
      "Overwrite existing file: ..\\outputs\\tiled-satellite-images\\0087.tif\n",
      "Overwrite existing file: ..\\outputs\\tiled-satellite-images\\0088.tif\n",
      "Overwrite existing file: ..\\outputs\\tiled-satellite-images\\0089.tif\n",
      "Overwrite existing file: ..\\outputs\\tiled-satellite-images\\0090.tif\n",
      "Overwrite existing file: ..\\outputs\\tiled-satellite-images\\0091.tif\n",
      "Overwrite existing file: ..\\outputs\\tiled-satellite-images\\0092.tif\n",
      "Overwrite existing file: ..\\outputs\\tiled-satellite-images\\0093.tif\n",
      "Overwrite existing file: ..\\outputs\\tiled-satellite-images\\0094.tif\n",
      "Overwrite existing file: ..\\outputs\\tiled-satellite-images\\0095.tif\n",
      "Overwrite existing file: ..\\outputs\\tiled-satellite-images\\0096.tif\n",
      "Overwrite existing file: ..\\outputs\\tiled-satellite-images\\0097.tif\n",
      "Overwrite existing file: ..\\outputs\\tiled-satellite-images\\0098.tif\n",
      "Overwrite existing file: ..\\outputs\\tiled-satellite-images\\0099.tif\n",
      "Overwrite existing file: ..\\outputs\\tiled-satellite-images\\0100.tif\n",
      "Overwrite existing file: ..\\outputs\\tiled-satellite-images\\0101.tif\n",
      "Overwrite existing file: ..\\outputs\\tiled-satellite-images\\0102.tif\n",
      "Overwrite existing file: ..\\outputs\\tiled-satellite-images\\0103.tif\n",
      "Overwrite existing file: ..\\outputs\\tiled-satellite-images\\0104.tif\n",
      "Overwrite existing file: ..\\outputs\\tiled-satellite-images\\0105.tif\n",
      "Overwrite existing file: ..\\outputs\\tiled-satellite-images\\0106.tif\n",
      "Overwrite existing file: ..\\outputs\\tiled-satellite-images\\0107.tif\n",
      "Overwrite existing file: ..\\outputs\\tiled-satellite-images\\0108.tif\n",
      "Overwrite existing file: ..\\outputs\\tiled-satellite-images\\0109.tif\n",
      "Overwrite existing file: ..\\outputs\\tiled-satellite-images\\0110.tif\n",
      "Overwrite existing file: ..\\outputs\\tiled-satellite-images\\0111.tif\n",
      "Overwrite existing file: ..\\outputs\\tiled-satellite-images\\0112.tif\n"
     ]
    },
    {
     "name": "stderr",
     "output_type": "stream",
     "text": [
      "Generating: 100%|\u001B[32m██████████\u001B[0m| 1632/1632 [00:07<00:00, 209.15img/s]\n"
     ]
    },
    {
     "data": {
      "text/plain": "1632"
     },
     "execution_count": 10,
     "metadata": {},
     "output_type": "execute_result"
    }
   ],
   "source": [
    "tile_image(path, output)"
   ],
   "metadata": {
    "collapsed": false,
    "ExecuteTime": {
     "end_time": "2023-06-27T04:51:29.938492200Z",
     "start_time": "2023-06-27T04:51:16.623001700Z"
    }
   }
  },
  {
   "cell_type": "code",
   "execution_count": null,
   "outputs": [],
   "source": [],
   "metadata": {
    "collapsed": false
   }
  }
 ],
 "metadata": {
  "kernelspec": {
   "display_name": "Python 3",
   "language": "python",
   "name": "python3"
  },
  "language_info": {
   "codemirror_mode": {
    "name": "ipython",
    "version": 2
   },
   "file_extension": ".py",
   "mimetype": "text/x-python",
   "name": "python",
   "nbconvert_exporter": "python",
   "pygments_lexer": "ipython2",
   "version": "2.7.6"
  }
 },
 "nbformat": 4,
 "nbformat_minor": 0
}
