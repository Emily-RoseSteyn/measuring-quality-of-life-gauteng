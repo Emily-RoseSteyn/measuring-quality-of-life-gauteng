{
 "cells": [
  {
   "cell_type": "markdown",
   "source": [
    "# Tiling\n",
    "Tile an image into 256 x 256 chunks"
   ],
   "metadata": {
    "collapsed": false
   }
  },
  {
   "cell_type": "code",
   "execution_count": 1,
   "outputs": [],
   "source": [
    "import matplotlib.pyplot as plt\n",
    "# Imports\n",
    "from tqdm import tqdm\n",
    "import numpy as np\n",
    "import rasterio as rio\n",
    "import earthpy.spatial as es"
   ],
   "metadata": {
    "collapsed": false,
    "ExecuteTime": {
     "end_time": "2023-07-11T19:11:58.368699700Z",
     "start_time": "2023-07-11T19:11:55.534308800Z"
    }
   }
  },
  {
   "cell_type": "code",
   "execution_count": 15,
   "outputs": [],
   "source": [
    "\n",
    "\n",
    "def read_image(file_name) -> np.ndarray:\n",
    "    \"\"\"\n",
    "    Read image from file_name\n",
    "    Args: file_name: image file name\n",
    "    Returns: image array\n",
    "    \"\"\"\n",
    "    try:\n",
    "        if not Path(file_name).is_file():\n",
    "            print(file_name + \"Cannot open file!\")\n",
    "            return None\n",
    "        with rio.open(file_name) as img :\n",
    "            img = img.read()\n",
    "            return img\n",
    "    except Exception as e:\n",
    "        print(\"Error in read_image: \" + str(e))\n",
    "        return None\n",
    "\n",
    "\n",
    "def save_image(img_arr, file_name, crs) -> str:\n",
    "    \"\"\"\n",
    "    Save image to file_name\n",
    "    Args: img_arr: image array\n",
    "    Output: file_name: image file name\n",
    "    \"\"\"\n",
    "    if Path(file_name).is_file():\n",
    "        print(f\"Overwrite existing file: {file_name}\")\n",
    "    with rio.open(file_name,\n",
    "                    'w',\n",
    "                  driver='GTiff',\n",
    "                  count=img_arr.shape[0],\n",
    "                  height=img_arr.shape[1],\n",
    "                  width=img_arr.shape[2],\n",
    "                  dtype=img_arr.dtype,\n",
    "                  crs=crs) as dest:\n",
    "        dest.write(img_arr)\n",
    "    return file_name\n",
    "\n",
    "\n",
    "def save_png_image(file_name, bands=None) -> str:\n",
    "    \"\"\"\n",
    "    Save geotiff image to png\n",
    "    Args: file_name: geotiff file_name\n",
    "    Output: file_name: image file name\n",
    "    \"\"\"\n",
    "    if bands is None:\n",
    "        bands = [1, 2, 3]\n",
    "    with rio.open(file_name) as infile:\n",
    "        profile=infile.profile\n",
    "        png_filename=file_name.with_suffix('.png')\n",
    "        raster=infile.read(bands)\n",
    "        print(raster.dtype)\n",
    "        with rio.open(png_filename, 'w',\n",
    "                  driver='PNG',\n",
    "                  count=raster.shape[0],\n",
    "                  height=raster.shape[1],\n",
    "                  width=raster.shape[2],\n",
    "                  dtype=raster.dtype,\n",
    "                  crs=profile['crs']) as dst:\n",
    "            dst.write(raster)\n",
    "    return file_name\n",
    "\n",
    "\n",
    "def count_files(folder_path):\n",
    "    \"\"\"\n",
    "    Count the number of files in the folder\n",
    "    Args: folder_path: folder path\n",
    "    Returns: number of files\n",
    "    \"\"\"\n",
    "    count = 0\n",
    "    for path in Path(folder_path).iterdir():\n",
    "        if path.is_file():\n",
    "            count += 1\n",
    "    return count\n",
    "\n",
    "\n",
    "# DEPRECATED\n",
    "def padding_image(img, stride) -> np.ndarray:\n",
    "    \"\"\"\n",
    "    Padding image to the size of multiple of stride\n",
    "    Args:\n",
    "        img: image array\n",
    "        stride: stride\n",
    "    Returns:\n",
    "        padded image array\n",
    "    \"\"\"\n",
    "\n",
    "    if len(img.shape) == 2:\n",
    "        img = img[:, :, np.newaxis]\n",
    "    height = img.shape[0]\n",
    "    width = img.shape[1]\n",
    "    D = img.shape[2]  # this one is for (H, W, C) format\n",
    "    # get the minial padding image size\n",
    "    H = int(np.ceil(height / stride) * stride)\n",
    "    W = int(np.ceil(width / stride) * stride)\n",
    "\n",
    "    padded_img = np.zeros([H, W, D], dtype=img.dtype)\n",
    "    for d in range(D):  # padding every layer\n",
    "        onelayer = img[:, :, d]\n",
    "        padded_img[:, :, d] = np.pad(\n",
    "            onelayer, ((0, H - height), (0, W - width)), \"reflect\"\n",
    "        )\n",
    "    padded_img = np.squeeze(padded_img)  # Remove axes of length one\n",
    "    return padded_img"
   ],
   "metadata": {
    "collapsed": false,
    "ExecuteTime": {
     "end_time": "2023-07-11T20:12:15.947780300Z",
     "start_time": "2023-07-11T20:12:15.936769100Z"
    }
   }
  },
  {
   "cell_type": "code",
   "execution_count": 12,
   "metadata": {
    "collapsed": true,
    "ExecuteTime": {
     "end_time": "2023-07-11T19:19:26.746468700Z",
     "start_time": "2023-07-11T19:19:26.728936900Z"
    }
   },
   "outputs": [],
   "source": [
    "\n",
    "\n",
    "def tile_image(image_path, save_path, bands=(1,2,3), crop_size = 256, repetition_rate=0, overwrite=True) -> int:\n",
    "    \"\"\"\n",
    "    Tile large image\n",
    "\n",
    "    # Arguments\n",
    "        image_path: image path\n",
    "        save_path: save path\n",
    "        crop_size: crop size\n",
    "        repetition_rate: repetition rate\n",
    "        overwrite: overwrite existing files\n",
    "\n",
    "    Returns:\n",
    "        number of tiles\n",
    "    \"\"\"\n",
    "\n",
    "    # check crs\n",
    "    crs = es.crs_check(image_path)\n",
    "\n",
    "    # check input image\n",
    "    img = read_image(image_path)\n",
    "    if img is None:\n",
    "        return 0\n",
    "    # get image suffix\n",
    "    ext = Path(image_path).suffix\n",
    "    print(ext)\n",
    "    # check output folder, if not exists, creat it.\n",
    "    Path(save_path).mkdir(parents=True, exist_ok=True)\n",
    "\n",
    "    print(f\"Input Image File Shape (D, H, W):{ img.shape}\")\n",
    "\n",
    "    stride = int(crop_size * (1 - repetition_rate))\n",
    "    print(f\"crop_size = {crop_size}, stride = {stride}\")\n",
    "\n",
    "    # Ignoring pixels outside \"nice\" shape\n",
    "    H = img.shape[1] - (img.shape[1]%stride)\n",
    "    W = img.shape[2] - (img.shape[2]%stride)\n",
    "    print(f\"Selected Image File Shape (D, H, W): {img.shape[0]}, { H }, { W }\")\n",
    "\n",
    "    if overwrite:\n",
    "        new_name = 1\n",
    "    else:\n",
    "        cnt = count_files(save_path)\n",
    "        new_name = cnt + 1\n",
    "        print(f\"There are {cnt} files in the {save_path}\")\n",
    "        print(f\"New image name will start with {new_name}\")\n",
    "\n",
    "    n_rows = int((H - crop_size) / stride + 1)\n",
    "    n_cols = int((W - crop_size) / stride + 1)\n",
    "    print(n_rows)\n",
    "    print(n_cols)\n",
    "\n",
    "    def tile_generator():\n",
    "        for idh in range(n_rows):\n",
    "            h = idh * stride\n",
    "            for idw in range(n_cols):\n",
    "                w = idw * stride\n",
    "                yield h, w\n",
    "\n",
    "    with tqdm(\n",
    "        total=n_rows * n_cols, desc=\"Generating\", colour=\"green\", leave=True, unit=\"img\"\n",
    "    ) as pbar:\n",
    "        for n, (h, w) in enumerate(tile_generator()):\n",
    "            crop_img = img[:, h : h + crop_size, w : w + crop_size]\n",
    "            crop_image_name = f\"{new_name:04d}{ext}\"\n",
    "            crop_image_path = Path(save_path) / crop_image_name\n",
    "            file_name = save_image(crop_img, crop_image_path, crs)\n",
    "            save_png_image(file_name, bands)\n",
    "            new_name += 1\n",
    "            pbar.update(1)\n",
    "\n",
    "    return n + 1\n",
    "\n"
   ]
  },
  {
   "cell_type": "code",
   "execution_count": 13,
   "outputs": [],
   "source": [
    "from pathlib import Path"
   ],
   "metadata": {
    "collapsed": false,
    "ExecuteTime": {
     "end_time": "2023-07-11T19:19:27.639782800Z",
     "start_time": "2023-07-11T19:19:27.620726Z"
    }
   }
  },
  {
   "cell_type": "code",
   "execution_count": 9,
   "outputs": [],
   "source": [
    "path = '../data/images/20230318_075512_29_249d_3B_AnalyticMS_SR_8b.tif'\n",
    "output = '../outputs/tiled-satellite-images'\n",
    "tile_image(path, output, (2,4,6))\n"
   ],
   "metadata": {
    "collapsed": false,
    "ExecuteTime": {
     "end_time": "2023-06-27T04:51:14.515879100Z",
     "start_time": "2023-06-27T04:51:14.496881Z"
    }
   }
  },
  {
   "cell_type": "code",
   "execution_count": 16,
   "outputs": [
    {
     "name": "stdout",
     "output_type": "stream",
     "text": [
      ".tif\n",
      "Input Image File Shape (D, H, W):(4, 914, 1033)\n",
      "crop_size = 256, stride = 256\n",
      "Selected Image File Shape (D, H, W): 4, 768, 1024\n",
      "3\n",
      "4\n"
     ]
    },
    {
     "name": "stderr",
     "output_type": "stream",
     "text": [
      "Generating:   0%|\u001B[32m          \u001B[0m| 0/12 [00:00<?, ?img/s]C:\\Users\\emily\\AppData\\Local\\pypoetry\\Cache\\virtualenvs\\measuring-quality-of-life-OxfVlamN-py3.10\\lib\\site-packages\\rasterio\\__init__.py:330: NotGeoreferencedWarning: Dataset has no geotransform, gcps, or rpcs. The identity matrix will be returned.\n",
      "  dataset = writer(\n",
      "C:\\Users\\emily\\AppData\\Local\\pypoetry\\Cache\\virtualenvs\\measuring-quality-of-life-OxfVlamN-py3.10\\lib\\site-packages\\rasterio\\__init__.py:320: NotGeoreferencedWarning: Dataset has no geotransform, gcps, or rpcs. The identity matrix will be returned.\n",
      "  dataset = DatasetReader(path, driver=driver, sharing=sharing, **kwargs)\n",
      "Generating:  50%|\u001B[32m█████     \u001B[0m| 6/12 [00:00<00:00, 59.29img/s]"
     ]
    },
    {
     "name": "stdout",
     "output_type": "stream",
     "text": [
      "Overwrite existing file: ..\\outputs\\tiled-satellite-images-rgb\\0001.tif\n",
      "uint8\n",
      "Overwrite existing file: ..\\outputs\\tiled-satellite-images-rgb\\0002.tif\n",
      "uint8\n",
      "Overwrite existing file: ..\\outputs\\tiled-satellite-images-rgb\\0003.tif\n",
      "uint8\n",
      "Overwrite existing file: ..\\outputs\\tiled-satellite-images-rgb\\0004.tif\n",
      "uint8\n",
      "Overwrite existing file: ..\\outputs\\tiled-satellite-images-rgb\\0005.tif\n",
      "uint8\n",
      "Overwrite existing file: ..\\outputs\\tiled-satellite-images-rgb\\0006.tif\n",
      "uint8\n",
      "Overwrite existing file: ..\\outputs\\tiled-satellite-images-rgb\\0007.tif\n",
      "uint8\n",
      "Overwrite existing file: ..\\outputs\\tiled-satellite-images-rgb\\0008.tif\n",
      "uint8\n",
      "Overwrite existing file: ..\\outputs\\tiled-satellite-images-rgb\\0009.tif\n",
      "uint8\n",
      "Overwrite existing file: ..\\outputs\\tiled-satellite-images-rgb\\0010.tif\n",
      "uint8\n",
      "Overwrite existing file: ..\\outputs\\tiled-satellite-images-rgb\\0011.tif\n",
      "uint8\n",
      "Overwrite existing file: ..\\outputs\\tiled-satellite-images-rgb\\0012.tif\n",
      "uint8\n"
     ]
    },
    {
     "name": "stderr",
     "output_type": "stream",
     "text": [
      "Generating: 100%|\u001B[32m██████████\u001B[0m| 12/12 [00:00<00:00, 60.93img/s]\n"
     ]
    },
    {
     "data": {
      "text/plain": "12"
     },
     "execution_count": 16,
     "metadata": {},
     "output_type": "execute_result"
    }
   ],
   "source": [
    "path2 = '../data/images/trial-image-rgb/composite.tif'\n",
    "output2 = '../outputs/tiled-satellite-images-rgb'\n",
    "tile_image(path2, output2)"
   ],
   "metadata": {
    "collapsed": false,
    "ExecuteTime": {
     "end_time": "2023-07-11T20:12:19.807315Z",
     "start_time": "2023-07-11T20:12:19.579258800Z"
    }
   }
  },
  {
   "cell_type": "code",
   "execution_count": 28,
   "outputs": [
    {
     "ename": "TypeError",
     "evalue": "Invalid shape (3, 256, 256) for image data",
     "output_type": "error",
     "traceback": [
      "\u001B[1;31m---------------------------------------------------------------------------\u001B[0m",
      "\u001B[1;31mTypeError\u001B[0m                                 Traceback (most recent call last)",
      "Cell \u001B[1;32mIn[28], line 5\u001B[0m\n\u001B[0;32m      3\u001B[0m \u001B[38;5;28;01mwith\u001B[39;00m rio\u001B[38;5;241m.\u001B[39mopen(\u001B[38;5;124mf\u001B[39m\u001B[38;5;124m'\u001B[39m\u001B[38;5;132;01m{\u001B[39;00moutput2\u001B[38;5;132;01m}\u001B[39;00m\u001B[38;5;124m/0001.png\u001B[39m\u001B[38;5;124m'\u001B[39m) \u001B[38;5;28;01mas\u001B[39;00m src :\n\u001B[0;32m      4\u001B[0m     img \u001B[38;5;241m=\u001B[39m src\u001B[38;5;241m.\u001B[39mread((\u001B[38;5;241m1\u001B[39m,\u001B[38;5;241m2\u001B[39m,\u001B[38;5;241m3\u001B[39m))\n\u001B[1;32m----> 5\u001B[0m     \u001B[43mplt\u001B[49m\u001B[38;5;241;43m.\u001B[39;49m\u001B[43mimshow\u001B[49m\u001B[43m(\u001B[49m\u001B[43mimg\u001B[49m\u001B[43m)\u001B[49m\n",
      "File \u001B[1;32m~\\AppData\\Local\\pypoetry\\Cache\\virtualenvs\\measuring-quality-of-life-OxfVlamN-py3.10\\lib\\site-packages\\matplotlib\\pyplot.py:2695\u001B[0m, in \u001B[0;36mimshow\u001B[1;34m(X, cmap, norm, aspect, interpolation, alpha, vmin, vmax, origin, extent, interpolation_stage, filternorm, filterrad, resample, url, data, **kwargs)\u001B[0m\n\u001B[0;32m   2689\u001B[0m \u001B[38;5;129m@_copy_docstring_and_deprecators\u001B[39m(Axes\u001B[38;5;241m.\u001B[39mimshow)\n\u001B[0;32m   2690\u001B[0m \u001B[38;5;28;01mdef\u001B[39;00m \u001B[38;5;21mimshow\u001B[39m(\n\u001B[0;32m   2691\u001B[0m         X, cmap\u001B[38;5;241m=\u001B[39m\u001B[38;5;28;01mNone\u001B[39;00m, norm\u001B[38;5;241m=\u001B[39m\u001B[38;5;28;01mNone\u001B[39;00m, \u001B[38;5;241m*\u001B[39m, aspect\u001B[38;5;241m=\u001B[39m\u001B[38;5;28;01mNone\u001B[39;00m, interpolation\u001B[38;5;241m=\u001B[39m\u001B[38;5;28;01mNone\u001B[39;00m,\n\u001B[0;32m   2692\u001B[0m         alpha\u001B[38;5;241m=\u001B[39m\u001B[38;5;28;01mNone\u001B[39;00m, vmin\u001B[38;5;241m=\u001B[39m\u001B[38;5;28;01mNone\u001B[39;00m, vmax\u001B[38;5;241m=\u001B[39m\u001B[38;5;28;01mNone\u001B[39;00m, origin\u001B[38;5;241m=\u001B[39m\u001B[38;5;28;01mNone\u001B[39;00m, extent\u001B[38;5;241m=\u001B[39m\u001B[38;5;28;01mNone\u001B[39;00m,\n\u001B[0;32m   2693\u001B[0m         interpolation_stage\u001B[38;5;241m=\u001B[39m\u001B[38;5;28;01mNone\u001B[39;00m, filternorm\u001B[38;5;241m=\u001B[39m\u001B[38;5;28;01mTrue\u001B[39;00m, filterrad\u001B[38;5;241m=\u001B[39m\u001B[38;5;241m4.0\u001B[39m,\n\u001B[0;32m   2694\u001B[0m         resample\u001B[38;5;241m=\u001B[39m\u001B[38;5;28;01mNone\u001B[39;00m, url\u001B[38;5;241m=\u001B[39m\u001B[38;5;28;01mNone\u001B[39;00m, data\u001B[38;5;241m=\u001B[39m\u001B[38;5;28;01mNone\u001B[39;00m, \u001B[38;5;241m*\u001B[39m\u001B[38;5;241m*\u001B[39mkwargs):\n\u001B[1;32m-> 2695\u001B[0m     __ret \u001B[38;5;241m=\u001B[39m gca()\u001B[38;5;241m.\u001B[39mimshow(\n\u001B[0;32m   2696\u001B[0m         X, cmap\u001B[38;5;241m=\u001B[39mcmap, norm\u001B[38;5;241m=\u001B[39mnorm, aspect\u001B[38;5;241m=\u001B[39maspect,\n\u001B[0;32m   2697\u001B[0m         interpolation\u001B[38;5;241m=\u001B[39minterpolation, alpha\u001B[38;5;241m=\u001B[39malpha, vmin\u001B[38;5;241m=\u001B[39mvmin,\n\u001B[0;32m   2698\u001B[0m         vmax\u001B[38;5;241m=\u001B[39mvmax, origin\u001B[38;5;241m=\u001B[39morigin, extent\u001B[38;5;241m=\u001B[39mextent,\n\u001B[0;32m   2699\u001B[0m         interpolation_stage\u001B[38;5;241m=\u001B[39minterpolation_stage,\n\u001B[0;32m   2700\u001B[0m         filternorm\u001B[38;5;241m=\u001B[39mfilternorm, filterrad\u001B[38;5;241m=\u001B[39mfilterrad, resample\u001B[38;5;241m=\u001B[39mresample,\n\u001B[0;32m   2701\u001B[0m         url\u001B[38;5;241m=\u001B[39murl, \u001B[38;5;241m*\u001B[39m\u001B[38;5;241m*\u001B[39m({\u001B[38;5;124m\"\u001B[39m\u001B[38;5;124mdata\u001B[39m\u001B[38;5;124m\"\u001B[39m: data} \u001B[38;5;28;01mif\u001B[39;00m data \u001B[38;5;129;01mis\u001B[39;00m \u001B[38;5;129;01mnot\u001B[39;00m \u001B[38;5;28;01mNone\u001B[39;00m \u001B[38;5;28;01melse\u001B[39;00m {}),\n\u001B[0;32m   2702\u001B[0m         \u001B[38;5;241m*\u001B[39m\u001B[38;5;241m*\u001B[39mkwargs)\n\u001B[0;32m   2703\u001B[0m     sci(__ret)\n\u001B[0;32m   2704\u001B[0m     \u001B[38;5;28;01mreturn\u001B[39;00m __ret\n",
      "File \u001B[1;32m~\\AppData\\Local\\pypoetry\\Cache\\virtualenvs\\measuring-quality-of-life-OxfVlamN-py3.10\\lib\\site-packages\\matplotlib\\__init__.py:1459\u001B[0m, in \u001B[0;36m_preprocess_data.<locals>.inner\u001B[1;34m(ax, data, *args, **kwargs)\u001B[0m\n\u001B[0;32m   1456\u001B[0m \u001B[38;5;129m@functools\u001B[39m\u001B[38;5;241m.\u001B[39mwraps(func)\n\u001B[0;32m   1457\u001B[0m \u001B[38;5;28;01mdef\u001B[39;00m \u001B[38;5;21minner\u001B[39m(ax, \u001B[38;5;241m*\u001B[39margs, data\u001B[38;5;241m=\u001B[39m\u001B[38;5;28;01mNone\u001B[39;00m, \u001B[38;5;241m*\u001B[39m\u001B[38;5;241m*\u001B[39mkwargs):\n\u001B[0;32m   1458\u001B[0m     \u001B[38;5;28;01mif\u001B[39;00m data \u001B[38;5;129;01mis\u001B[39;00m \u001B[38;5;28;01mNone\u001B[39;00m:\n\u001B[1;32m-> 1459\u001B[0m         \u001B[38;5;28;01mreturn\u001B[39;00m func(ax, \u001B[38;5;241m*\u001B[39m\u001B[38;5;28mmap\u001B[39m(sanitize_sequence, args), \u001B[38;5;241m*\u001B[39m\u001B[38;5;241m*\u001B[39mkwargs)\n\u001B[0;32m   1461\u001B[0m     bound \u001B[38;5;241m=\u001B[39m new_sig\u001B[38;5;241m.\u001B[39mbind(ax, \u001B[38;5;241m*\u001B[39margs, \u001B[38;5;241m*\u001B[39m\u001B[38;5;241m*\u001B[39mkwargs)\n\u001B[0;32m   1462\u001B[0m     auto_label \u001B[38;5;241m=\u001B[39m (bound\u001B[38;5;241m.\u001B[39marguments\u001B[38;5;241m.\u001B[39mget(label_namer)\n\u001B[0;32m   1463\u001B[0m                   \u001B[38;5;129;01mor\u001B[39;00m bound\u001B[38;5;241m.\u001B[39mkwargs\u001B[38;5;241m.\u001B[39mget(label_namer))\n",
      "File \u001B[1;32m~\\AppData\\Local\\pypoetry\\Cache\\virtualenvs\\measuring-quality-of-life-OxfVlamN-py3.10\\lib\\site-packages\\matplotlib\\axes\\_axes.py:5665\u001B[0m, in \u001B[0;36mAxes.imshow\u001B[1;34m(self, X, cmap, norm, aspect, interpolation, alpha, vmin, vmax, origin, extent, interpolation_stage, filternorm, filterrad, resample, url, **kwargs)\u001B[0m\n\u001B[0;32m   5657\u001B[0m \u001B[38;5;28mself\u001B[39m\u001B[38;5;241m.\u001B[39mset_aspect(aspect)\n\u001B[0;32m   5658\u001B[0m im \u001B[38;5;241m=\u001B[39m mimage\u001B[38;5;241m.\u001B[39mAxesImage(\u001B[38;5;28mself\u001B[39m, cmap\u001B[38;5;241m=\u001B[39mcmap, norm\u001B[38;5;241m=\u001B[39mnorm,\n\u001B[0;32m   5659\u001B[0m                       interpolation\u001B[38;5;241m=\u001B[39minterpolation, origin\u001B[38;5;241m=\u001B[39morigin,\n\u001B[0;32m   5660\u001B[0m                       extent\u001B[38;5;241m=\u001B[39mextent, filternorm\u001B[38;5;241m=\u001B[39mfilternorm,\n\u001B[0;32m   5661\u001B[0m                       filterrad\u001B[38;5;241m=\u001B[39mfilterrad, resample\u001B[38;5;241m=\u001B[39mresample,\n\u001B[0;32m   5662\u001B[0m                       interpolation_stage\u001B[38;5;241m=\u001B[39minterpolation_stage,\n\u001B[0;32m   5663\u001B[0m                       \u001B[38;5;241m*\u001B[39m\u001B[38;5;241m*\u001B[39mkwargs)\n\u001B[1;32m-> 5665\u001B[0m \u001B[43mim\u001B[49m\u001B[38;5;241;43m.\u001B[39;49m\u001B[43mset_data\u001B[49m\u001B[43m(\u001B[49m\u001B[43mX\u001B[49m\u001B[43m)\u001B[49m\n\u001B[0;32m   5666\u001B[0m im\u001B[38;5;241m.\u001B[39mset_alpha(alpha)\n\u001B[0;32m   5667\u001B[0m \u001B[38;5;28;01mif\u001B[39;00m im\u001B[38;5;241m.\u001B[39mget_clip_path() \u001B[38;5;129;01mis\u001B[39;00m \u001B[38;5;28;01mNone\u001B[39;00m:\n\u001B[0;32m   5668\u001B[0m     \u001B[38;5;66;03m# image does not already have clipping set, clip to axes patch\u001B[39;00m\n",
      "File \u001B[1;32m~\\AppData\\Local\\pypoetry\\Cache\\virtualenvs\\measuring-quality-of-life-OxfVlamN-py3.10\\lib\\site-packages\\matplotlib\\image.py:710\u001B[0m, in \u001B[0;36m_ImageBase.set_data\u001B[1;34m(self, A)\u001B[0m\n\u001B[0;32m    706\u001B[0m     \u001B[38;5;28mself\u001B[39m\u001B[38;5;241m.\u001B[39m_A \u001B[38;5;241m=\u001B[39m \u001B[38;5;28mself\u001B[39m\u001B[38;5;241m.\u001B[39m_A[:, :, \u001B[38;5;241m0\u001B[39m]\n\u001B[0;32m    708\u001B[0m \u001B[38;5;28;01mif\u001B[39;00m \u001B[38;5;129;01mnot\u001B[39;00m (\u001B[38;5;28mself\u001B[39m\u001B[38;5;241m.\u001B[39m_A\u001B[38;5;241m.\u001B[39mndim \u001B[38;5;241m==\u001B[39m \u001B[38;5;241m2\u001B[39m\n\u001B[0;32m    709\u001B[0m         \u001B[38;5;129;01mor\u001B[39;00m \u001B[38;5;28mself\u001B[39m\u001B[38;5;241m.\u001B[39m_A\u001B[38;5;241m.\u001B[39mndim \u001B[38;5;241m==\u001B[39m \u001B[38;5;241m3\u001B[39m \u001B[38;5;129;01mand\u001B[39;00m \u001B[38;5;28mself\u001B[39m\u001B[38;5;241m.\u001B[39m_A\u001B[38;5;241m.\u001B[39mshape[\u001B[38;5;241m-\u001B[39m\u001B[38;5;241m1\u001B[39m] \u001B[38;5;129;01min\u001B[39;00m [\u001B[38;5;241m3\u001B[39m, \u001B[38;5;241m4\u001B[39m]):\n\u001B[1;32m--> 710\u001B[0m     \u001B[38;5;28;01mraise\u001B[39;00m \u001B[38;5;167;01mTypeError\u001B[39;00m(\u001B[38;5;124m\"\u001B[39m\u001B[38;5;124mInvalid shape \u001B[39m\u001B[38;5;132;01m{}\u001B[39;00m\u001B[38;5;124m for image data\u001B[39m\u001B[38;5;124m\"\u001B[39m\n\u001B[0;32m    711\u001B[0m                     \u001B[38;5;241m.\u001B[39mformat(\u001B[38;5;28mself\u001B[39m\u001B[38;5;241m.\u001B[39m_A\u001B[38;5;241m.\u001B[39mshape))\n\u001B[0;32m    713\u001B[0m \u001B[38;5;28;01mif\u001B[39;00m \u001B[38;5;28mself\u001B[39m\u001B[38;5;241m.\u001B[39m_A\u001B[38;5;241m.\u001B[39mndim \u001B[38;5;241m==\u001B[39m \u001B[38;5;241m3\u001B[39m:\n\u001B[0;32m    714\u001B[0m     \u001B[38;5;66;03m# If the input data has values outside the valid range (after\u001B[39;00m\n\u001B[0;32m    715\u001B[0m     \u001B[38;5;66;03m# normalisation), we issue a warning and then clip X to the bounds\u001B[39;00m\n\u001B[0;32m    716\u001B[0m     \u001B[38;5;66;03m# - otherwise casting wraps extreme values, hiding outliers and\u001B[39;00m\n\u001B[0;32m    717\u001B[0m     \u001B[38;5;66;03m# making reliable interpretation impossible.\u001B[39;00m\n\u001B[0;32m    718\u001B[0m     high \u001B[38;5;241m=\u001B[39m \u001B[38;5;241m255\u001B[39m \u001B[38;5;28;01mif\u001B[39;00m np\u001B[38;5;241m.\u001B[39missubdtype(\u001B[38;5;28mself\u001B[39m\u001B[38;5;241m.\u001B[39m_A\u001B[38;5;241m.\u001B[39mdtype, np\u001B[38;5;241m.\u001B[39minteger) \u001B[38;5;28;01melse\u001B[39;00m \u001B[38;5;241m1\u001B[39m\n",
      "\u001B[1;31mTypeError\u001B[0m: Invalid shape (3, 256, 256) for image data"
     ]
    },
    {
     "data": {
      "text/plain": "<Figure size 640x480 with 1 Axes>",
      "image/png": "[encoded data removed]"
     },
     "metadata": {},
     "output_type": "display_data"
    }
   ],
   "source": [
    "import matplotlib.pyplot as plt\n",
    "\n",
    "with rio.open(f'{output2}/0001.png') as src :\n",
    "    img = src.read((1,2,3))\n",
    "    plt.imshow(img)\n"
   ],
   "metadata": {
    "collapsed": false,
    "ExecuteTime": {
     "end_time": "2023-07-11T20:17:40.203843Z",
     "start_time": "2023-07-11T20:17:40.099337Z"
    }
   }
  }
 ],
 "metadata": {
  "kernelspec": {
   "display_name": "Python 3",
   "language": "python",
   "name": "python3"
  },
  "language_info": {
   "codemirror_mode": {
    "name": "ipython",
    "version": 2
   },
   "file_extension": ".py",
   "mimetype": "text/x-python",
   "name": "python",
   "nbconvert_exporter": "python",
   "pygments_lexer": "ipython2",
   "version": "2.7.6"
  }
 },
 "nbformat": 4,
 "nbformat_minor": 0
}
