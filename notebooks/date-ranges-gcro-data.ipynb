{
 "cells": [
  {
   "cell_type": "markdown",
   "source": [
    "# GCRO data\n",
    "Trying to get min max dates in QOL data."
   ],
   "metadata": {
    "collapsed": false
   },
   "id": "c69960230d0670b7"
  },
  {
   "cell_type": "code",
   "execution_count": 1,
   "id": "initial_id",
   "metadata": {
    "collapsed": true,
    "ExecuteTime": {
     "end_time": "2024-01-03T09:21:22.221004500Z",
     "start_time": "2024-01-03T09:21:21.656955400Z"
    }
   },
   "outputs": [],
   "source": [
    "# Imports\n",
    "import pandas as pd\n",
    "import matplotlib as mpl\n",
    "import matplotlib.pyplot as plt\n",
    "import numpy as np"
   ]
  },
  {
   "cell_type": "code",
   "execution_count": 2,
   "outputs": [],
   "source": [
    "# Data file paths\n",
    "GCRO_2021 = '../data/surveys/gcro-2021.dta'\n",
    "GCRO_2018 = '../data/surveys/gcro-2018.dta'\n",
    "GCRO_2016 = '../data/surveys/gcro-2016.dta'\n",
    "df_gcro_2021 = pd.read_stata(GCRO_2021, convert_categoricals=False)\n",
    "df_gcro_2018 = pd.read_stata(GCRO_2018, convert_categoricals=False)\n",
    "df_gcro_2016 = pd.read_stata(GCRO_2016, convert_categoricals=False)\n"
   ],
   "metadata": {
    "collapsed": false,
    "ExecuteTime": {
     "end_time": "2024-01-03T09:21:23.218591300Z",
     "start_time": "2024-01-03T09:21:22.222004600Z"
    }
   },
   "id": "87b31ab01c84a11c"
  },
  {
   "cell_type": "code",
   "execution_count": 3,
   "outputs": [
    {
     "data": {
      "text/plain": "     SbjNum  S2  S2_2  S3_1  S3_2       Date  Duration  WardNumber  \\\n0  21757821   2     2     1     2 2015-07-17        74    79800033   \n1  21839101   1     1     1     1 2015-07-20        79    79800043   \n2  21841544   2     1     1     3 2015-07-20      1442    79700057   \n3  21841617   1     2     2     1 2015-07-20        81    79700057   \n4  21848907   3     1     0     1 2015-07-20        61    79700058   \n\n   Municipality  S7  ...  Q12_13  Q12_14 Q12_15  Q12_16  Q12_17  Q12_18  \\\n0             1   1  ...       1       1      1       0       1       1   \n1             1   1  ...       0       0      0       1       1       1   \n2             3   1  ...       1       0      0       0       0       0   \n3             3   1  ...       0       0      0       0       0       0   \n4             3   1  ...       1       0      0       0       0       1   \n\n    HH_Weight  Design_wgt   Bench_wgt Bench_wgt_30002  \n0  118.200000  335.366667  295.114845        1.000562  \n1  115.327869  309.147541  252.507961        0.856107  \n2  184.100000  399.783333  467.334037        1.584457  \n3  184.100000  399.783333  467.334037        1.584457  \n4  132.907216  304.927835  290.372075        0.984482  \n\n[5 rows x 374 columns]",
      "text/html": "<div>\n<style scoped>\n    .dataframe tbody tr th:only-of-type {\n        vertical-align: middle;\n    }\n\n    .dataframe tbody tr th {\n        vertical-align: top;\n    }\n\n    .dataframe thead th {\n        text-align: right;\n    }\n</style>\n<table border=\"1\" class=\"dataframe\">\n  <thead>\n    <tr style=\"text-align: right;\">\n      <th></th>\n      <th>SbjNum</th>\n      <th>S2</th>\n      <th>S2_2</th>\n      <th>S3_1</th>\n      <th>S3_2</th>\n      <th>Date</th>\n      <th>Duration</th>\n      <th>WardNumber</th>\n      <th>Municipality</th>\n      <th>S7</th>\n      <th>...</th>\n      <th>Q12_13</th>\n      <th>Q12_14</th>\n      <th>Q12_15</th>\n      <th>Q12_16</th>\n      <th>Q12_17</th>\n      <th>Q12_18</th>\n      <th>HH_Weight</th>\n      <th>Design_wgt</th>\n      <th>Bench_wgt</th>\n      <th>Bench_wgt_30002</th>\n    </tr>\n  </thead>\n  <tbody>\n    <tr>\n      <th>0</th>\n      <td>21757821</td>\n      <td>2</td>\n      <td>2</td>\n      <td>1</td>\n      <td>2</td>\n      <td>2015-07-17</td>\n      <td>74</td>\n      <td>79800033</td>\n      <td>1</td>\n      <td>1</td>\n      <td>...</td>\n      <td>1</td>\n      <td>1</td>\n      <td>1</td>\n      <td>0</td>\n      <td>1</td>\n      <td>1</td>\n      <td>118.200000</td>\n      <td>335.366667</td>\n      <td>295.114845</td>\n      <td>1.000562</td>\n    </tr>\n    <tr>\n      <th>1</th>\n      <td>21839101</td>\n      <td>1</td>\n      <td>1</td>\n      <td>1</td>\n      <td>1</td>\n      <td>2015-07-20</td>\n      <td>79</td>\n      <td>79800043</td>\n      <td>1</td>\n      <td>1</td>\n      <td>...</td>\n      <td>0</td>\n      <td>0</td>\n      <td>0</td>\n      <td>1</td>\n      <td>1</td>\n      <td>1</td>\n      <td>115.327869</td>\n      <td>309.147541</td>\n      <td>252.507961</td>\n      <td>0.856107</td>\n    </tr>\n    <tr>\n      <th>2</th>\n      <td>21841544</td>\n      <td>2</td>\n      <td>1</td>\n      <td>1</td>\n      <td>3</td>\n      <td>2015-07-20</td>\n      <td>1442</td>\n      <td>79700057</td>\n      <td>3</td>\n      <td>1</td>\n      <td>...</td>\n      <td>1</td>\n      <td>0</td>\n      <td>0</td>\n      <td>0</td>\n      <td>0</td>\n      <td>0</td>\n      <td>184.100000</td>\n      <td>399.783333</td>\n      <td>467.334037</td>\n      <td>1.584457</td>\n    </tr>\n    <tr>\n      <th>3</th>\n      <td>21841617</td>\n      <td>1</td>\n      <td>2</td>\n      <td>2</td>\n      <td>1</td>\n      <td>2015-07-20</td>\n      <td>81</td>\n      <td>79700057</td>\n      <td>3</td>\n      <td>1</td>\n      <td>...</td>\n      <td>0</td>\n      <td>0</td>\n      <td>0</td>\n      <td>0</td>\n      <td>0</td>\n      <td>0</td>\n      <td>184.100000</td>\n      <td>399.783333</td>\n      <td>467.334037</td>\n      <td>1.584457</td>\n    </tr>\n    <tr>\n      <th>4</th>\n      <td>21848907</td>\n      <td>3</td>\n      <td>1</td>\n      <td>0</td>\n      <td>1</td>\n      <td>2015-07-20</td>\n      <td>61</td>\n      <td>79700058</td>\n      <td>3</td>\n      <td>1</td>\n      <td>...</td>\n      <td>1</td>\n      <td>0</td>\n      <td>0</td>\n      <td>0</td>\n      <td>0</td>\n      <td>1</td>\n      <td>132.907216</td>\n      <td>304.927835</td>\n      <td>290.372075</td>\n      <td>0.984482</td>\n    </tr>\n  </tbody>\n</table>\n<p>5 rows × 374 columns</p>\n</div>"
     },
     "execution_count": 3,
     "metadata": {},
     "output_type": "execute_result"
    }
   ],
   "source": [
    "df_gcro_2016.head()"
   ],
   "metadata": {
    "collapsed": false,
    "ExecuteTime": {
     "end_time": "2024-01-03T09:21:25.300721400Z",
     "start_time": "2024-01-03T09:21:25.260220800Z"
    }
   },
   "id": "d11b8d8d8ffcc"
  },
  {
   "cell_type": "code",
   "execution_count": 9,
   "outputs": [
    {
     "name": "stdout",
     "output_type": "stream",
     "text": [
      "Min:  2015-07-17 00:00:00\n",
      "Max:  2016-05-17 00:00:00\n",
      "Mean:  2015-10-19T03:02:49\n",
      "Interview Count:  30002\n"
     ]
    }
   ],
   "source": [
    "# 2016\n",
    "print('Min: ', np.min(df_gcro_2016['Date']))\n",
    "print('Max: ', np.max(df_gcro_2016['Date']))\n",
    "mean2016 = np.array(df_gcro_2016['Date'], dtype='datetime64[s]').view('i8').mean().astype('datetime64[s]')\n",
    "print('Mean: ',mean2016)\n",
    "\n",
    "totalInterviews2016 = len(df_gcro_2016)\n",
    "print('Interview Count: ', totalInterviews2016)"
   ],
   "metadata": {
    "collapsed": false,
    "ExecuteTime": {
     "end_time": "2024-01-03T09:22:35.942512Z",
     "start_time": "2024-01-03T09:22:35.907804200Z"
    }
   },
   "id": "f003fc24059aa511"
  },
  {
   "cell_type": "code",
   "execution_count": 5,
   "outputs": [
    {
     "data": {
      "text/plain": "       resp_id      ward                 munic  munic_recode  \\\n0         7391  74201002              Emfuleni             4   \n1         7392  74201017              Emfuleni             4   \n2         7417  74201017              Emfuleni             4   \n3         7418  74201017              Emfuleni             4   \n4         7421  79800037  City of Johannesburg             2   \n\n                 region   ea_code    sp_code           sp_name  mp_code  \\\n0              Sedibeng  76010738  760004018  Sebokeng Hostels   760004   \n1              Sedibeng  76010859  760004018  Sebokeng Hostels   760004   \n2              Sedibeng  76010859  760004018  Sebokeng Hostels   760004   \n3              Sedibeng  76010859  760004018  Sebokeng Hostels   760004   \n4  City of Johannesburg  79810806  798030045        Klipspruit   798030   \n\n    mp_name  ...   RESDU_WGT DOWNSCALE_ResDU_wgt  F1servic  F2soclas  \\\n0  Sebokeng  ...  142.405405            0.875060  8.603019  6.561684   \n1  Sebokeng  ...  136.574468            0.839230  6.916862  1.769811   \n2  Sebokeng  ...  136.574468            0.839230  6.916862  2.154136   \n3  Sebokeng  ...  136.574468            0.839230  8.313842  0.768650   \n4    Soweto  ...  140.443038            0.863002  6.844567  1.152975   \n\n   F3govsat  F4lifsat   F5health  F6safety   F7partic  QoLIndex_Data_Driven  \n0  3.472711  2.500000   5.981129  2.480409  10.000000             58.634769  \n1  1.622653  2.921062   5.341294  0.000000  10.000000             40.361269  \n2  0.000000  6.249121   7.307976  5.097104   4.585840             45.534463  \n3  2.614437  4.045359  10.000000  6.303237  10.000000             57.659429  \n4  1.157570  7.597574   7.352204  4.715503   7.875983             49.460237  \n\n[5 rows x 415 columns]",
      "text/html": "<div>\n<style scoped>\n    .dataframe tbody tr th:only-of-type {\n        vertical-align: middle;\n    }\n\n    .dataframe tbody tr th {\n        vertical-align: top;\n    }\n\n    .dataframe thead th {\n        text-align: right;\n    }\n</style>\n<table border=\"1\" class=\"dataframe\">\n  <thead>\n    <tr style=\"text-align: right;\">\n      <th></th>\n      <th>resp_id</th>\n      <th>ward</th>\n      <th>munic</th>\n      <th>munic_recode</th>\n      <th>region</th>\n      <th>ea_code</th>\n      <th>sp_code</th>\n      <th>sp_name</th>\n      <th>mp_code</th>\n      <th>mp_name</th>\n      <th>...</th>\n      <th>RESDU_WGT</th>\n      <th>DOWNSCALE_ResDU_wgt</th>\n      <th>F1servic</th>\n      <th>F2soclas</th>\n      <th>F3govsat</th>\n      <th>F4lifsat</th>\n      <th>F5health</th>\n      <th>F6safety</th>\n      <th>F7partic</th>\n      <th>QoLIndex_Data_Driven</th>\n    </tr>\n  </thead>\n  <tbody>\n    <tr>\n      <th>0</th>\n      <td>7391</td>\n      <td>74201002</td>\n      <td>Emfuleni</td>\n      <td>4</td>\n      <td>Sedibeng</td>\n      <td>76010738</td>\n      <td>760004018</td>\n      <td>Sebokeng Hostels</td>\n      <td>760004</td>\n      <td>Sebokeng</td>\n      <td>...</td>\n      <td>142.405405</td>\n      <td>0.875060</td>\n      <td>8.603019</td>\n      <td>6.561684</td>\n      <td>3.472711</td>\n      <td>2.500000</td>\n      <td>5.981129</td>\n      <td>2.480409</td>\n      <td>10.000000</td>\n      <td>58.634769</td>\n    </tr>\n    <tr>\n      <th>1</th>\n      <td>7392</td>\n      <td>74201017</td>\n      <td>Emfuleni</td>\n      <td>4</td>\n      <td>Sedibeng</td>\n      <td>76010859</td>\n      <td>760004018</td>\n      <td>Sebokeng Hostels</td>\n      <td>760004</td>\n      <td>Sebokeng</td>\n      <td>...</td>\n      <td>136.574468</td>\n      <td>0.839230</td>\n      <td>6.916862</td>\n      <td>1.769811</td>\n      <td>1.622653</td>\n      <td>2.921062</td>\n      <td>5.341294</td>\n      <td>0.000000</td>\n      <td>10.000000</td>\n      <td>40.361269</td>\n    </tr>\n    <tr>\n      <th>2</th>\n      <td>7417</td>\n      <td>74201017</td>\n      <td>Emfuleni</td>\n      <td>4</td>\n      <td>Sedibeng</td>\n      <td>76010859</td>\n      <td>760004018</td>\n      <td>Sebokeng Hostels</td>\n      <td>760004</td>\n      <td>Sebokeng</td>\n      <td>...</td>\n      <td>136.574468</td>\n      <td>0.839230</td>\n      <td>6.916862</td>\n      <td>2.154136</td>\n      <td>0.000000</td>\n      <td>6.249121</td>\n      <td>7.307976</td>\n      <td>5.097104</td>\n      <td>4.585840</td>\n      <td>45.534463</td>\n    </tr>\n    <tr>\n      <th>3</th>\n      <td>7418</td>\n      <td>74201017</td>\n      <td>Emfuleni</td>\n      <td>4</td>\n      <td>Sedibeng</td>\n      <td>76010859</td>\n      <td>760004018</td>\n      <td>Sebokeng Hostels</td>\n      <td>760004</td>\n      <td>Sebokeng</td>\n      <td>...</td>\n      <td>136.574468</td>\n      <td>0.839230</td>\n      <td>8.313842</td>\n      <td>0.768650</td>\n      <td>2.614437</td>\n      <td>4.045359</td>\n      <td>10.000000</td>\n      <td>6.303237</td>\n      <td>10.000000</td>\n      <td>57.659429</td>\n    </tr>\n    <tr>\n      <th>4</th>\n      <td>7421</td>\n      <td>79800037</td>\n      <td>City of Johannesburg</td>\n      <td>2</td>\n      <td>City of Johannesburg</td>\n      <td>79810806</td>\n      <td>798030045</td>\n      <td>Klipspruit</td>\n      <td>798030</td>\n      <td>Soweto</td>\n      <td>...</td>\n      <td>140.443038</td>\n      <td>0.863002</td>\n      <td>6.844567</td>\n      <td>1.152975</td>\n      <td>1.157570</td>\n      <td>7.597574</td>\n      <td>7.352204</td>\n      <td>4.715503</td>\n      <td>7.875983</td>\n      <td>49.460237</td>\n    </tr>\n  </tbody>\n</table>\n<p>5 rows × 415 columns</p>\n</div>"
     },
     "execution_count": 5,
     "metadata": {},
     "output_type": "execute_result"
    }
   ],
   "source": [
    "df_gcro_2018.head()\n"
   ],
   "metadata": {
    "collapsed": false,
    "ExecuteTime": {
     "end_time": "2024-01-03T09:21:32.385907100Z",
     "start_time": "2024-01-03T09:21:32.366862100Z"
    }
   },
   "id": "3ce8c7583eeb9006"
  },
  {
   "cell_type": "code",
   "execution_count": 10,
   "outputs": [
    {
     "name": "stdout",
     "output_type": "stream",
     "text": [
      "Min:  2017-10-31 00:00:00\n",
      "Max:  2018-09-07 00:00:00\n",
      "Mean:  2018-04-10T11:52:44\n",
      "Interview Count:  24889\n"
     ]
    }
   ],
   "source": [
    "# 2018\n",
    "print('Min: ', np.min(df_gcro_2018['date']))\n",
    "print('Max: ', np.max(df_gcro_2018['date']))\n",
    "mean2018 = np.array(df_gcro_2018['date'], dtype='datetime64[s]').view('i8').mean().astype('datetime64[s]')\n",
    "print('Mean: ',mean2018)\n",
    "\n",
    "totalInterviews2018 = len(df_gcro_2018)\n",
    "print('Interview Count: ', totalInterviews2018)"
   ],
   "metadata": {
    "collapsed": false,
    "ExecuteTime": {
     "end_time": "2024-01-03T09:22:54.625029300Z",
     "start_time": "2024-01-03T09:22:54.617992800Z"
    }
   },
   "id": "fadd04a284eef72c"
  },
  {
   "cell_type": "code",
   "execution_count": 7,
   "outputs": [
    {
     "data": {
      "text/plain": "                              unique_id interview_date  Date_month  \\\n0  0002c645-1eda-4740-a065-0f40a24c0eaa     2021-02-20           5   \n1  0006144d-bc67-479e-8482-37bd84c42233     2021-01-15           4   \n2  00151a00-e290-4ed7-ad05-9159e200ba48     2020-11-20           2   \n3  00166da5-86bd-4628-bb60-2c1d6a6e66bd     2020-11-10           2   \n4  001ae7eb-a39b-4268-9f63-0588fa71b6e9     2020-11-05           2   \n\n   District_municipality  municipality_coded Planning_region  \\\n0                      1                   1    Ekurhuleni_A   \n1                      5                   7   Merafong City   \n2                      2                   2  Johannesburg_D   \n3                      5                   8     Mogale City   \n4                      2                   2  Johannesburg_D   \n\n  Planning_region_code  ward_code   ea_code  adult_count  ...   F1servic  \\\n0                EKU_A   79700036  79710758            4  ...  10.000000   \n1                GT484   74804018  76610311            3  ...  10.000000   \n2                JHB_D   79800043  79813663            3  ...   8.564746   \n3                GT481   74801012  76310192            1  ...  10.000000   \n4                JHB_D   79800037  79810807            1  ...   0.000000   \n\n   F2soclas  F3govsat  F4lifsat   F5health  F6safety   F7partic  \\\n0  7.795356  6.465669  7.500000   7.350730  5.580920  10.000000   \n1  7.765167  4.024354  3.667370  10.000000  4.064736   6.709857   \n2  2.962554  4.851819  3.181259  10.000000  3.795571   2.535863   \n3  3.195065  3.559272  5.840366  10.000000  8.143101   2.535863   \n4  2.578229  2.244718  0.000000   6.025358  1.652470   2.535863   \n\n   QoLIndex_Data_Driven   HH_WEIGHT  DOWNSCALE_MUN_PP_BENCHWGT  \n0             79.555756  516.784167                   1.228062  \n1             70.034147   71.698750                   0.208980  \n2             55.429275  475.072713                   1.529085  \n3             64.974098  104.777569                   0.235093  \n4             19.383139  798.882790                   1.250373  \n\n[5 rows x 330 columns]",
      "text/html": "<div>\n<style scoped>\n    .dataframe tbody tr th:only-of-type {\n        vertical-align: middle;\n    }\n\n    .dataframe tbody tr th {\n        vertical-align: top;\n    }\n\n    .dataframe thead th {\n        text-align: right;\n    }\n</style>\n<table border=\"1\" class=\"dataframe\">\n  <thead>\n    <tr style=\"text-align: right;\">\n      <th></th>\n      <th>unique_id</th>\n      <th>interview_date</th>\n      <th>Date_month</th>\n      <th>District_municipality</th>\n      <th>municipality_coded</th>\n      <th>Planning_region</th>\n      <th>Planning_region_code</th>\n      <th>ward_code</th>\n      <th>ea_code</th>\n      <th>adult_count</th>\n      <th>...</th>\n      <th>F1servic</th>\n      <th>F2soclas</th>\n      <th>F3govsat</th>\n      <th>F4lifsat</th>\n      <th>F5health</th>\n      <th>F6safety</th>\n      <th>F7partic</th>\n      <th>QoLIndex_Data_Driven</th>\n      <th>HH_WEIGHT</th>\n      <th>DOWNSCALE_MUN_PP_BENCHWGT</th>\n    </tr>\n  </thead>\n  <tbody>\n    <tr>\n      <th>0</th>\n      <td>0002c645-1eda-4740-a065-0f40a24c0eaa</td>\n      <td>2021-02-20</td>\n      <td>5</td>\n      <td>1</td>\n      <td>1</td>\n      <td>Ekurhuleni_A</td>\n      <td>EKU_A</td>\n      <td>79700036</td>\n      <td>79710758</td>\n      <td>4</td>\n      <td>...</td>\n      <td>10.000000</td>\n      <td>7.795356</td>\n      <td>6.465669</td>\n      <td>7.500000</td>\n      <td>7.350730</td>\n      <td>5.580920</td>\n      <td>10.000000</td>\n      <td>79.555756</td>\n      <td>516.784167</td>\n      <td>1.228062</td>\n    </tr>\n    <tr>\n      <th>1</th>\n      <td>0006144d-bc67-479e-8482-37bd84c42233</td>\n      <td>2021-01-15</td>\n      <td>4</td>\n      <td>5</td>\n      <td>7</td>\n      <td>Merafong City</td>\n      <td>GT484</td>\n      <td>74804018</td>\n      <td>76610311</td>\n      <td>3</td>\n      <td>...</td>\n      <td>10.000000</td>\n      <td>7.765167</td>\n      <td>4.024354</td>\n      <td>3.667370</td>\n      <td>10.000000</td>\n      <td>4.064736</td>\n      <td>6.709857</td>\n      <td>70.034147</td>\n      <td>71.698750</td>\n      <td>0.208980</td>\n    </tr>\n    <tr>\n      <th>2</th>\n      <td>00151a00-e290-4ed7-ad05-9159e200ba48</td>\n      <td>2020-11-20</td>\n      <td>2</td>\n      <td>2</td>\n      <td>2</td>\n      <td>Johannesburg_D</td>\n      <td>JHB_D</td>\n      <td>79800043</td>\n      <td>79813663</td>\n      <td>3</td>\n      <td>...</td>\n      <td>8.564746</td>\n      <td>2.962554</td>\n      <td>4.851819</td>\n      <td>3.181259</td>\n      <td>10.000000</td>\n      <td>3.795571</td>\n      <td>2.535863</td>\n      <td>55.429275</td>\n      <td>475.072713</td>\n      <td>1.529085</td>\n    </tr>\n    <tr>\n      <th>3</th>\n      <td>00166da5-86bd-4628-bb60-2c1d6a6e66bd</td>\n      <td>2020-11-10</td>\n      <td>2</td>\n      <td>5</td>\n      <td>8</td>\n      <td>Mogale City</td>\n      <td>GT481</td>\n      <td>74801012</td>\n      <td>76310192</td>\n      <td>1</td>\n      <td>...</td>\n      <td>10.000000</td>\n      <td>3.195065</td>\n      <td>3.559272</td>\n      <td>5.840366</td>\n      <td>10.000000</td>\n      <td>8.143101</td>\n      <td>2.535863</td>\n      <td>64.974098</td>\n      <td>104.777569</td>\n      <td>0.235093</td>\n    </tr>\n    <tr>\n      <th>4</th>\n      <td>001ae7eb-a39b-4268-9f63-0588fa71b6e9</td>\n      <td>2020-11-05</td>\n      <td>2</td>\n      <td>2</td>\n      <td>2</td>\n      <td>Johannesburg_D</td>\n      <td>JHB_D</td>\n      <td>79800037</td>\n      <td>79810807</td>\n      <td>1</td>\n      <td>...</td>\n      <td>0.000000</td>\n      <td>2.578229</td>\n      <td>2.244718</td>\n      <td>0.000000</td>\n      <td>6.025358</td>\n      <td>1.652470</td>\n      <td>2.535863</td>\n      <td>19.383139</td>\n      <td>798.882790</td>\n      <td>1.250373</td>\n    </tr>\n  </tbody>\n</table>\n<p>5 rows × 330 columns</p>\n</div>"
     },
     "execution_count": 7,
     "metadata": {},
     "output_type": "execute_result"
    }
   ],
   "source": [
    "df_gcro_2021.head()\n"
   ],
   "metadata": {
    "collapsed": false,
    "ExecuteTime": {
     "end_time": "2024-01-03T09:21:42.853860900Z",
     "start_time": "2024-01-03T09:21:42.835666700Z"
    }
   },
   "id": "95cfb800bcccbda2"
  },
  {
   "cell_type": "code",
   "execution_count": 11,
   "outputs": [
    {
     "name": "stdout",
     "output_type": "stream",
     "text": [
      "Min:  2020-10-06 00:00:00\n",
      "Max:  2021-05-27 00:00:00\n",
      "Mean:  2021-01-12T16:56:00\n",
      "Interview Count:  13616\n"
     ]
    }
   ],
   "source": [
    "# 2021\n",
    "print('Min: ', np.min(df_gcro_2021['interview_date']))\n",
    "print('Max: ', np.max(df_gcro_2021['interview_date']))\n",
    "mean2021 = np.array(df_gcro_2021['interview_date'], dtype='datetime64[s]').view('i8').mean().astype('datetime64[s]')\n",
    "print('Mean: ',mean2021)\n",
    "\n",
    "totalInterviews2021 = len(df_gcro_2021)\n",
    "print('Interview Count: ', totalInterviews2021)"
   ],
   "metadata": {
    "collapsed": false,
    "ExecuteTime": {
     "end_time": "2024-01-03T09:23:02.874436200Z",
     "start_time": "2024-01-03T09:23:02.864317900Z"
    }
   },
   "id": "13fbd4196d614a28"
  },
  {
   "cell_type": "code",
   "outputs": [],
   "source": [],
   "metadata": {
    "collapsed": false
   },
   "id": "3510f838f3794e39"
  }
 ],
 "metadata": {
  "kernelspec": {
   "display_name": "Python 3",
   "language": "python",
   "name": "python3"
  },
  "language_info": {
   "codemirror_mode": {
    "name": "ipython",
    "version": 2
   },
   "file_extension": ".py",
   "mimetype": "text/x-python",
   "name": "python",
   "nbconvert_exporter": "python",
   "pygments_lexer": "ipython2",
   "version": "2.7.6"
  }
 },
 "nbformat": 4,
 "nbformat_minor": 5
}
