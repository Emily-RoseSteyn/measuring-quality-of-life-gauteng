{
 "cells": [
  {
   "cell_type": "markdown",
   "source": [
    "# Setup"
   ],
   "metadata": {
    "collapsed": false
   },
   "id": "ceaa658e08af9c1"
  },
  {
   "cell_type": "code",
   "outputs": [
    {
     "name": "stdout",
     "output_type": "stream",
     "text": [
      "C:\\Users\\emily\\Documents\\repos\\measuring-quality-of-life-gauteng\n"
     ]
    }
   ],
   "source": [
    "# NB! Only run this once\n",
    "%cd ..\n",
    "%load_ext autoreload\n",
    "%autoreload 2"
   ],
   "metadata": {
    "collapsed": false,
    "ExecuteTime": {
     "end_time": "2024-03-05T15:59:09.120215Z",
     "start_time": "2024-03-05T15:59:09.070661Z"
    }
   },
   "id": "f537171041b17be6",
   "execution_count": 1
  },
  {
   "cell_type": "markdown",
   "source": [
    "# 05/03/2024\n",
    "Trying to match tiles to clusters"
   ],
   "metadata": {
    "collapsed": false
   },
   "id": "2f240ee30b62b6f8"
  },
  {
   "cell_type": "code",
   "execution_count": 2,
   "id": "initial_id",
   "metadata": {
    "collapsed": true,
    "ExecuteTime": {
     "end_time": "2024-03-05T15:59:09.854193Z",
     "start_time": "2024-03-05T15:59:09.123215Z"
    }
   },
   "outputs": [],
   "source": [
    "import geopandas as gpd"
   ]
  },
  {
   "cell_type": "code",
   "outputs": [],
   "source": [
    "# Load clustered data\n",
    "qol_data = gpd.read_file(\"outputs/merged/gauteng-qol.geojson\")\n",
    "\n",
    "# Get tile transforms\n",
    "tile_transforms = gpd.read_file(f\"outputs/tiles/tile-transforms.geojson\")"
   ],
   "metadata": {
    "collapsed": false,
    "ExecuteTime": {
     "end_time": "2024-03-05T17:31:12.103017Z",
     "start_time": "2024-03-05T17:31:06.454502Z"
    }
   },
   "id": "5c9628439355f217",
   "execution_count": 10
  },
  {
   "cell_type": "code",
   "outputs": [
    {
     "data": {
      "text/plain": "                      tile                                           geometry\n0        1178-866_0_0.tiff  POLYGON ((27.08130 -26.59835, 27.08130 -26.588...\n1        1178-866_0_1.tiff  POLYGON ((27.08130 -26.61800, 27.08130 -26.608...\n2        1178-866_0_2.tiff  POLYGON ((27.08130 -26.63764, 27.08130 -26.627...\n3        1178-866_0_3.tiff  POLYGON ((27.08130 -26.65728, 27.08130 -26.647...\n4        1178-866_0_4.tiff  POLYGON ((27.08130 -26.67691, 27.08130 -26.667...\n...                    ...                                                ...\n23291  1189-873_15_11.tiff  POLYGON ((29.34448 -25.71084, 29.34448 -25.700...\n23292  1189-873_15_12.tiff  POLYGON ((29.34448 -25.73063, 29.34448 -25.720...\n23293  1189-873_15_13.tiff  POLYGON ((29.34448 -25.75042, 29.34448 -25.740...\n23294  1189-873_15_14.tiff  POLYGON ((29.34448 -25.77021, 29.34448 -25.760...\n23295  1189-873_15_15.tiff  POLYGON ((29.34448 -25.79000, 29.34448 -25.780...\n\n[23296 rows x 2 columns]",
      "text/html": "<div>\n<style scoped>\n    .dataframe tbody tr th:only-of-type {\n        vertical-align: middle;\n    }\n\n    .dataframe tbody tr th {\n        vertical-align: top;\n    }\n\n    .dataframe thead th {\n        text-align: right;\n    }\n</style>\n<table border=\"1\" class=\"dataframe\">\n  <thead>\n    <tr style=\"text-align: right;\">\n      <th></th>\n      <th>tile</th>\n      <th>geometry</th>\n    </tr>\n  </thead>\n  <tbody>\n    <tr>\n      <th>0</th>\n      <td>1178-866_0_0.tiff</td>\n      <td>POLYGON ((27.08130 -26.59835, 27.08130 -26.588...</td>\n    </tr>\n    <tr>\n      <th>1</th>\n      <td>1178-866_0_1.tiff</td>\n      <td>POLYGON ((27.08130 -26.61800, 27.08130 -26.608...</td>\n    </tr>\n    <tr>\n      <th>2</th>\n      <td>1178-866_0_2.tiff</td>\n      <td>POLYGON ((27.08130 -26.63764, 27.08130 -26.627...</td>\n    </tr>\n    <tr>\n      <th>3</th>\n      <td>1178-866_0_3.tiff</td>\n      <td>POLYGON ((27.08130 -26.65728, 27.08130 -26.647...</td>\n    </tr>\n    <tr>\n      <th>4</th>\n      <td>1178-866_0_4.tiff</td>\n      <td>POLYGON ((27.08130 -26.67691, 27.08130 -26.667...</td>\n    </tr>\n    <tr>\n      <th>...</th>\n      <td>...</td>\n      <td>...</td>\n    </tr>\n    <tr>\n      <th>23291</th>\n      <td>1189-873_15_11.tiff</td>\n      <td>POLYGON ((29.34448 -25.71084, 29.34448 -25.700...</td>\n    </tr>\n    <tr>\n      <th>23292</th>\n      <td>1189-873_15_12.tiff</td>\n      <td>POLYGON ((29.34448 -25.73063, 29.34448 -25.720...</td>\n    </tr>\n    <tr>\n      <th>23293</th>\n      <td>1189-873_15_13.tiff</td>\n      <td>POLYGON ((29.34448 -25.75042, 29.34448 -25.740...</td>\n    </tr>\n    <tr>\n      <th>23294</th>\n      <td>1189-873_15_14.tiff</td>\n      <td>POLYGON ((29.34448 -25.77021, 29.34448 -25.760...</td>\n    </tr>\n    <tr>\n      <th>23295</th>\n      <td>1189-873_15_15.tiff</td>\n      <td>POLYGON ((29.34448 -25.79000, 29.34448 -25.780...</td>\n    </tr>\n  </tbody>\n</table>\n<p>23296 rows × 2 columns</p>\n</div>"
     },
     "execution_count": 11,
     "metadata": {},
     "output_type": "execute_result"
    }
   ],
   "source": [
    "tile_transforms = tile_transforms.to_crs(qol_data.crs)\n",
    "tile_transforms"
   ],
   "metadata": {
    "collapsed": false,
    "ExecuteTime": {
     "end_time": "2024-03-05T17:31:27.359056Z",
     "start_time": "2024-03-05T17:31:27.227832Z"
    }
   },
   "id": "44b04010941f3b33",
   "execution_count": 11
  },
  {
   "cell_type": "code",
   "outputs": [
    {
     "data": {
      "text/plain": "    ward_code  counts  services  socioeconomic_status  \\\n0    79700060      26  7.832562              2.043017   \n1    79700061      26  7.358151              2.445138   \n2    79700062      27  8.600657              2.621179   \n3    79700063      27  9.419362              2.978702   \n4    79700064      26  9.768969              2.616646   \n..        ...     ...       ...                   ...   \n524  79700108      26  8.913868              1.955186   \n525  79700109      27  8.662950              2.723829   \n526  79700110      26  8.464646              3.029552   \n527  79700111      26  8.750225              3.876990   \n528  79700112      26  9.580791              2.837568   \n\n     government_satisfaction  life_satisfaction    health    safety  \\\n0                   2.573526           5.392358  7.049694  5.475822   \n1                   2.679837           5.446047  7.689019  5.175600   \n2                   3.761791           5.576685  6.101692  5.297621   \n3                   3.372348           6.540833  6.275875  5.922771   \n4                   3.333164           6.200368  6.691276  4.197091   \n..                       ...                ...       ...       ...   \n524                 3.450253           6.231101  6.357693  5.165378   \n525                 4.970331           7.263407  8.344390  5.357562   \n526                 4.134108           7.275979  7.846880  4.351723   \n527                 3.888927           6.469423  7.787512  5.397458   \n528                 2.957239           6.597324  7.181245  5.822173   \n\n     participation  qol_index  \\\n0         8.179974  53.983750   \n1         8.279821  54.284857   \n2         9.038511  58.310289   \n3         7.498757  60.885624   \n4         7.739828  59.423020   \n..             ...        ...   \n524       7.627345  57.088258   \n525       6.963340  63.451802   \n526       5.964831  59.545301   \n527       6.164525  61.668982   \n528       7.192005  61.140043   \n\n                                              geometry  \n0    POLYGON ((28.16493 -26.35885, 28.16632 -26.358...  \n1    POLYGON ((28.13552 -26.40783, 28.13665 -26.408...  \n2    POLYGON ((28.24732 -26.38152, 28.25052 -26.386...  \n3    POLYGON ((28.16205 -26.37103, 28.16219 -26.371...  \n4    POLYGON ((28.22547 -26.35844, 28.22591 -26.358...  \n..                                                 ...  \n524  POLYGON ((28.19092 -26.37677, 28.19174 -26.377...  \n525  POLYGON ((28.43689 -26.10593, 28.43703 -26.106...  \n526  POLYGON ((28.39511 -26.14457, 28.39570 -26.145...  \n527  POLYGON ((28.43582 -26.31314, 28.43659 -26.313...  \n528  POLYGON ((28.35914 -26.35703, 28.35931 -26.358...  \n\n[529 rows x 11 columns]",
      "text/html": "<div>\n<style scoped>\n    .dataframe tbody tr th:only-of-type {\n        vertical-align: middle;\n    }\n\n    .dataframe tbody tr th {\n        vertical-align: top;\n    }\n\n    .dataframe thead th {\n        text-align: right;\n    }\n</style>\n<table border=\"1\" class=\"dataframe\">\n  <thead>\n    <tr style=\"text-align: right;\">\n      <th></th>\n      <th>ward_code</th>\n      <th>counts</th>\n      <th>services</th>\n      <th>socioeconomic_status</th>\n      <th>government_satisfaction</th>\n      <th>life_satisfaction</th>\n      <th>health</th>\n      <th>safety</th>\n      <th>participation</th>\n      <th>qol_index</th>\n      <th>geometry</th>\n    </tr>\n  </thead>\n  <tbody>\n    <tr>\n      <th>0</th>\n      <td>79700060</td>\n      <td>26</td>\n      <td>7.832562</td>\n      <td>2.043017</td>\n      <td>2.573526</td>\n      <td>5.392358</td>\n      <td>7.049694</td>\n      <td>5.475822</td>\n      <td>8.179974</td>\n      <td>53.983750</td>\n      <td>POLYGON ((28.16493 -26.35885, 28.16632 -26.358...</td>\n    </tr>\n    <tr>\n      <th>1</th>\n      <td>79700061</td>\n      <td>26</td>\n      <td>7.358151</td>\n      <td>2.445138</td>\n      <td>2.679837</td>\n      <td>5.446047</td>\n      <td>7.689019</td>\n      <td>5.175600</td>\n      <td>8.279821</td>\n      <td>54.284857</td>\n      <td>POLYGON ((28.13552 -26.40783, 28.13665 -26.408...</td>\n    </tr>\n    <tr>\n      <th>2</th>\n      <td>79700062</td>\n      <td>27</td>\n      <td>8.600657</td>\n      <td>2.621179</td>\n      <td>3.761791</td>\n      <td>5.576685</td>\n      <td>6.101692</td>\n      <td>5.297621</td>\n      <td>9.038511</td>\n      <td>58.310289</td>\n      <td>POLYGON ((28.24732 -26.38152, 28.25052 -26.386...</td>\n    </tr>\n    <tr>\n      <th>3</th>\n      <td>79700063</td>\n      <td>27</td>\n      <td>9.419362</td>\n      <td>2.978702</td>\n      <td>3.372348</td>\n      <td>6.540833</td>\n      <td>6.275875</td>\n      <td>5.922771</td>\n      <td>7.498757</td>\n      <td>60.885624</td>\n      <td>POLYGON ((28.16205 -26.37103, 28.16219 -26.371...</td>\n    </tr>\n    <tr>\n      <th>4</th>\n      <td>79700064</td>\n      <td>26</td>\n      <td>9.768969</td>\n      <td>2.616646</td>\n      <td>3.333164</td>\n      <td>6.200368</td>\n      <td>6.691276</td>\n      <td>4.197091</td>\n      <td>7.739828</td>\n      <td>59.423020</td>\n      <td>POLYGON ((28.22547 -26.35844, 28.22591 -26.358...</td>\n    </tr>\n    <tr>\n      <th>...</th>\n      <td>...</td>\n      <td>...</td>\n      <td>...</td>\n      <td>...</td>\n      <td>...</td>\n      <td>...</td>\n      <td>...</td>\n      <td>...</td>\n      <td>...</td>\n      <td>...</td>\n      <td>...</td>\n    </tr>\n    <tr>\n      <th>524</th>\n      <td>79700108</td>\n      <td>26</td>\n      <td>8.913868</td>\n      <td>1.955186</td>\n      <td>3.450253</td>\n      <td>6.231101</td>\n      <td>6.357693</td>\n      <td>5.165378</td>\n      <td>7.627345</td>\n      <td>57.088258</td>\n      <td>POLYGON ((28.19092 -26.37677, 28.19174 -26.377...</td>\n    </tr>\n    <tr>\n      <th>525</th>\n      <td>79700109</td>\n      <td>27</td>\n      <td>8.662950</td>\n      <td>2.723829</td>\n      <td>4.970331</td>\n      <td>7.263407</td>\n      <td>8.344390</td>\n      <td>5.357562</td>\n      <td>6.963340</td>\n      <td>63.451802</td>\n      <td>POLYGON ((28.43689 -26.10593, 28.43703 -26.106...</td>\n    </tr>\n    <tr>\n      <th>526</th>\n      <td>79700110</td>\n      <td>26</td>\n      <td>8.464646</td>\n      <td>3.029552</td>\n      <td>4.134108</td>\n      <td>7.275979</td>\n      <td>7.846880</td>\n      <td>4.351723</td>\n      <td>5.964831</td>\n      <td>59.545301</td>\n      <td>POLYGON ((28.39511 -26.14457, 28.39570 -26.145...</td>\n    </tr>\n    <tr>\n      <th>527</th>\n      <td>79700111</td>\n      <td>26</td>\n      <td>8.750225</td>\n      <td>3.876990</td>\n      <td>3.888927</td>\n      <td>6.469423</td>\n      <td>7.787512</td>\n      <td>5.397458</td>\n      <td>6.164525</td>\n      <td>61.668982</td>\n      <td>POLYGON ((28.43582 -26.31314, 28.43659 -26.313...</td>\n    </tr>\n    <tr>\n      <th>528</th>\n      <td>79700112</td>\n      <td>26</td>\n      <td>9.580791</td>\n      <td>2.837568</td>\n      <td>2.957239</td>\n      <td>6.597324</td>\n      <td>7.181245</td>\n      <td>5.822173</td>\n      <td>7.192005</td>\n      <td>61.140043</td>\n      <td>POLYGON ((28.35914 -26.35703, 28.35931 -26.358...</td>\n    </tr>\n  </tbody>\n</table>\n<p>529 rows × 11 columns</p>\n</div>"
     },
     "execution_count": 14,
     "metadata": {},
     "output_type": "execute_result"
    }
   ],
   "source": [
    "qol_data"
   ],
   "metadata": {
    "collapsed": false,
    "ExecuteTime": {
     "end_time": "2024-03-05T15:57:33.120877Z",
     "start_time": "2024-03-05T15:57:33.033350Z"
    }
   },
   "id": "1c0286e853e11871",
   "execution_count": 14
  },
  {
   "cell_type": "code",
   "outputs": [
    {
     "ename": "NameError",
     "evalue": "name 'qol_data' is not defined",
     "output_type": "error",
     "traceback": [
      "\u001B[1;31m---------------------------------------------------------------------------\u001B[0m",
      "\u001B[1;31mNameError\u001B[0m                                 Traceback (most recent call last)",
      "Cell \u001B[1;32mIn[8], line 1\u001B[0m\n\u001B[1;32m----> 1\u001B[0m \u001B[43mqol_data\u001B[49m\u001B[38;5;241m.\u001B[39mplot()\n",
      "\u001B[1;31mNameError\u001B[0m: name 'qol_data' is not defined"
     ]
    }
   ],
   "source": [
    "qol_data.plot()"
   ],
   "metadata": {
    "collapsed": false,
    "ExecuteTime": {
     "end_time": "2024-03-05T17:29:16.437663Z",
     "start_time": "2024-03-05T17:29:16.369018Z"
    }
   },
   "id": "63b0228090e5dd8e",
   "execution_count": 8
  },
  {
   "cell_type": "code",
   "outputs": [
    {
     "data": {
      "text/plain": "<Axes: >"
     },
     "execution_count": 9,
     "metadata": {},
     "output_type": "execute_result"
    },
    {
     "data": {
      "text/plain": "<Figure size 640x480 with 1 Axes>",
      "image/png": "[encoded data removed]"
     },
     "metadata": {},
     "output_type": "display_data"
    }
   ],
   "source": [
    "tile_transforms.plot()"
   ],
   "metadata": {
    "collapsed": false,
    "ExecuteTime": {
     "end_time": "2024-03-05T17:29:22.123708Z",
     "start_time": "2024-03-05T17:29:18.074690Z"
    }
   },
   "id": "785e08f26b42755e",
   "execution_count": 9
  },
  {
   "cell_type": "code",
   "outputs": [],
   "source": [],
   "metadata": {
    "collapsed": false
   },
   "id": "fb857d02b7f37ae5"
  }
 ],
 "metadata": {
  "kernelspec": {
   "display_name": "Python 3",
   "language": "python",
   "name": "python3"
  },
  "language_info": {
   "codemirror_mode": {
    "name": "ipython",
    "version": 2
   },
   "file_extension": ".py",
   "mimetype": "text/x-python",
   "name": "python",
   "nbconvert_exporter": "python",
   "pygments_lexer": "ipython2",
   "version": "2.7.6"
  }
 },
 "nbformat": 4,
 "nbformat_minor": 5
}
