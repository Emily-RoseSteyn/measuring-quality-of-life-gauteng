{
 "cells": [
  {
   "cell_type": "markdown",
   "source": [
    "# Setup"
   ],
   "metadata": {
    "collapsed": false
   },
   "id": "ceaa658e08af9c1"
  },
  {
   "cell_type": "code",
   "source": [
    "# NB! Only run this once\n",
    "%cd ..\n",
    "%load_ext autoreload\n",
    "%autoreload 2"
   ],
   "metadata": {
    "collapsed": false,
    "ExecuteTime": {
     "end_time": "2024-03-05T18:19:04.796957Z",
     "start_time": "2024-03-05T18:19:04.734569Z"
    }
   },
   "id": "f537171041b17be6",
   "execution_count": 1,
   "outputs": []
  },
  {
   "cell_type": "markdown",
   "source": [
    "# 05/03/2024\n",
    "Trying to match tiles to clusters"
   ],
   "metadata": {
    "collapsed": false
   },
   "id": "2f240ee30b62b6f8"
  },
  {
   "cell_type": "code",
   "execution_count": 34,
   "id": "initial_id",
   "metadata": {
    "collapsed": true,
    "ExecuteTime": {
     "end_time": "2024-03-05T21:19:33.640797Z",
     "start_time": "2024-03-05T21:19:33.505639Z"
    }
   },
   "source": [
    "import geopandas as gpd"
   ],
   "outputs": []
  },
  {
   "cell_type": "code",
   "source": [
    "# Load clustered data\n",
    "qol_data = gpd.read_file(\"outputs/merged/gauteng-qol.geojson\")\n",
    "\n",
    "# Get tile transforms\n",
    "tile_transforms = gpd.read_file(f\"outputs/tiles/tile-transforms.geojson\")"
   ],
   "metadata": {
    "collapsed": false,
    "ExecuteTime": {
     "end_time": "2024-03-05T21:19:40.553721Z",
     "start_time": "2024-03-05T21:19:34.478144Z"
    }
   },
   "id": "5c9628439355f217",
   "execution_count": 35,
   "outputs": []
  },
  {
   "cell_type": "code",
   "source": [
    "tile_transforms = tile_transforms.to_crs(qol_data.crs)\n",
    "tile_transforms"
   ],
   "metadata": {
    "collapsed": false,
    "ExecuteTime": {
     "end_time": "2024-03-05T21:19:40.724056Z",
     "start_time": "2024-03-05T21:19:40.558712Z"
    }
   },
   "id": "44b04010941f3b33",
   "execution_count": 36,
   "outputs": []
  },
  {
   "cell_type": "code",
   "source": [
    "qol_data"
   ],
   "metadata": {
    "collapsed": false,
    "ExecuteTime": {
     "end_time": "2024-03-05T21:19:40.802595Z",
     "start_time": "2024-03-05T21:19:40.726068Z"
    }
   },
   "id": "1c0286e853e11871",
   "execution_count": 37,
   "outputs": []
  },
  {
   "cell_type": "code",
   "source": [
    "tile_transforms.plot()"
   ],
   "metadata": {
    "collapsed": false,
    "ExecuteTime": {
     "end_time": "2024-03-05T21:19:46.878752Z",
     "start_time": "2024-03-05T21:19:43.662366Z"
    }
   },
   "id": "785e08f26b42755e",
   "execution_count": 38,
   "outputs": []
  },
  {
   "cell_type": "code",
   "source": [
    "kensington = qol_data[qol_data[\"ward_code\"]==\"79800118\"]\n",
    "kensington.plot()\n",
    "kensington.to_file(\"temp.geojson\", driver=\"GeoJSON\")\n",
    "# Verified by uploading this geojson to Planet"
   ],
   "metadata": {
    "collapsed": false,
    "ExecuteTime": {
     "end_time": "2024-03-05T21:19:47.769491Z",
     "start_time": "2024-03-05T21:19:47.566361Z"
    }
   },
   "id": "63b0228090e5dd8e",
   "execution_count": 39,
   "outputs": []
  },
  {
   "cell_type": "code",
   "source": [
    "# Matching kensington to tiles\n",
    "join_left_df = tile_transforms.sjoin(kensington, how=\"inner\")\n",
    "join_left_df"
   ],
   "metadata": {
    "collapsed": false,
    "ExecuteTime": {
     "end_time": "2024-03-05T21:19:53.364829Z",
     "start_time": "2024-03-05T21:19:53.261283Z"
    }
   },
   "id": "fb857d02b7f37ae5",
   "execution_count": 40,
   "outputs": []
  },
  {
   "cell_type": "code",
   "source": [
    "join_left_df.plot()"
   ],
   "metadata": {
    "collapsed": false,
    "ExecuteTime": {
     "end_time": "2024-03-05T21:20:13.391040Z",
     "start_time": "2024-03-05T21:20:13.212838Z"
    }
   },
   "id": "65a16ba1c4c920b2",
   "execution_count": 41,
   "outputs": []
  },
  {
   "cell_type": "code",
   "source": [
    "# Verified that 1183-869 is the right basemap"
   ],
   "metadata": {
    "collapsed": false
   },
   "id": "552e09b0b0b4beba",
   "execution_count": null,
   "outputs": []
  },
  {
   "cell_type": "code",
   "source": [
    "# Something is wrong with the tiles in tile transform (but not the actual tiff tiles). I verified this in QGIS under the project \"tiling-validation\""
   ],
   "metadata": {
    "collapsed": false
   },
   "id": "28a123b84f454e2e",
   "execution_count": null,
   "outputs": []
  },
  {
   "cell_type": "code",
   "source": [
    "# Ok, figured out that the tile transforms were not saving as expected but I can instead retrieve the bounds from the destination dataset writer (from rasterio)"
   ],
   "metadata": {
    "collapsed": false
   },
   "id": "4164e3e27e36a977",
   "execution_count": null,
   "outputs": []
  },
  {
   "cell_type": "code",
   "source": [
    "# Verified that the correct tiles are now being retrieved for Kensington based on QGIS"
   ],
   "metadata": {
    "collapsed": false
   },
   "id": "d29bdc62f21a9685",
   "execution_count": null,
   "outputs": []
  },
  {
   "cell_type": "markdown",
   "source": [
    "### Final verification of matched tiles output"
   ],
   "metadata": {
    "collapsed": false
   },
   "id": "dfd71de6477b1afb"
  },
  {
   "cell_type": "code",
   "source": [
    "full_output = gpd.read_file(\"outputs/matched/gauteng-qol-cluster-tiles.geojson\")\n",
    "full_output"
   ],
   "metadata": {
    "collapsed": false,
    "ExecuteTime": {
     "end_time": "2024-03-05T21:33:53.688799Z",
     "start_time": "2024-03-05T21:33:46.379557Z"
    }
   },
   "id": "542471be8b3c51ae",
   "execution_count": 42,
   "outputs": []
  },
  {
   "cell_type": "code",
   "source": [
    "kensington_matched = full_output[full_output[\"ward_code\"]==\"79800118\"]\n",
    "kensington_matched"
   ],
   "metadata": {
    "collapsed": false,
    "ExecuteTime": {
     "end_time": "2024-03-05T21:34:27.456864Z",
     "start_time": "2024-03-05T21:34:27.381292Z"
    }
   },
   "id": "ec2100fa2272dc50",
   "execution_count": 44,
   "outputs": []
  },
  {
   "cell_type": "code",
   "source": [
    "kensington_matched.plot()"
   ],
   "metadata": {
    "collapsed": false,
    "ExecuteTime": {
     "end_time": "2024-03-05T21:34:32.377482Z",
     "start_time": "2024-03-05T21:34:32.197406Z"
    }
   },
   "id": "ec1f988db56198a9",
   "execution_count": 45,
   "outputs": []
  },
  {
   "cell_type": "code",
   "source": [
    "len(full_output)"
   ],
   "metadata": {
    "collapsed": false,
    "ExecuteTime": {
     "end_time": "2024-03-05T21:35:56.909926Z",
     "start_time": "2024-03-05T21:35:56.854396Z"
    }
   },
   "id": "3b92ee7be406ba53",
   "execution_count": 46,
   "outputs": []
  }
 ],
 "metadata": {
  "kernelspec": {
   "display_name": "Python 3",
   "language": "python",
   "name": "python3"
  },
  "language_info": {
   "codemirror_mode": {
    "name": "ipython",
    "version": 2
   },
   "file_extension": ".py",
   "mimetype": "text/x-python",
   "name": "python",
   "nbconvert_exporter": "python",
   "pygments_lexer": "ipython2",
   "version": "2.7.6"
  }
 },
 "nbformat": 4,
 "nbformat_minor": 5
}
