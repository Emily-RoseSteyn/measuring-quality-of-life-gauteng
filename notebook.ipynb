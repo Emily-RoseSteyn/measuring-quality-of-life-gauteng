{
 "cells": [
  {
   "cell_type": "markdown",
   "source": [
    "# My Notebook\n",
    "This is a Jupyter Notebook for in progress work that I am doing that I have not extracted into the right places yet or made permanent in my repo."
   ],
   "metadata": {
    "collapsed": false
   }
  },
  {
   "cell_type": "markdown",
   "source": [
    "## Analysing GHS Data"
   ],
   "metadata": {
    "collapsed": false
   }
  },
  {
   "cell_type": "code",
   "execution_count": 17,
   "outputs": [],
   "source": [
    "# CONSTANTS\n",
    "\n",
    "# Data file paths\n",
    "GHS_2021_DATA = './02-extension/data/ghs-2021.dta'\n",
    "GHS_2020_DATA = './02-extension/data/ghs-2020.dta'\n",
    "GHS_2019_DATA = './02-extension/data/ghs-2019.dta'\n",
    "GHS_2018_DATA = './02-extension/data/ghs-2018.dta'\n",
    "GHS_2017_DATA = './02-extension/data/ghs-2017.dta'\n"
   ],
   "metadata": {
    "collapsed": false
   }
  },
  {
   "cell_type": "code",
   "execution_count": 18,
   "outputs": [],
   "source": [
    "# Imports\n",
    "import pandas as pd"
   ],
   "metadata": {
    "collapsed": false
   }
  },
  {
   "cell_type": "code",
   "execution_count": 28,
   "outputs": [],
   "source": [
    "df_2021 = pd.read_stata(GHS_2021_DATA)\n",
    "df_2020 = pd.read_stata(GHS_2020_DATA, convert_categoricals=False)\n",
    "df_2019 = pd.read_stata(GHS_2019_DATA, convert_categoricals=False)\n",
    "df_2018 = pd.read_stata(GHS_2018_DATA, convert_categoricals=False)\n",
    "df_2017 = pd.read_stata(GHS_2017_DATA, convert_categoricals=False)\n"
   ],
   "metadata": {
    "collapsed": false
   }
  },
  {
   "cell_type": "code",
   "execution_count": 30,
   "outputs": [
    {
     "data": {
      "text/plain": "                 uqnr personnr           psu          prov head_popgrp  \\\n0  160100090000003901       01  1.601001e+10  Western Cape       White   \n1  160100630000010801       01  1.601006e+10  Western Cape    Coloured   \n2  160100630000018001       01  1.601006e+10  Western Cape    Coloured   \n3  160100630000021601       01  1.601006e+10  Western Cape       White   \n4  160100920000004701       01  1.601009e+10  Western Cape       White   \n\n  head_sex head_age                                          hsg_maind  \\\n0     Male       78  Dwelling/house or brick/concrete block structu...   \n1   Female       28  Dwelling/house or brick/concrete block structu...   \n2   Female       54  Dwelling/house or brick/concrete block structu...   \n3     Male       68  Dwelling/house or brick/concrete block structu...   \n4     Male       52  Dwelling/house or brick/concrete block structu...   \n\n               hsg_roof              hsg_walls  ... disab_hh sevdisab_hh  \\\n0  Corrugated iron/zinc                 Bricks  ...        1           1   \n1  Corrugated iron/zinc  Cement block/concrete  ...        0           0   \n2  Corrugated iron/zinc  Cement block/concrete  ...        1           0   \n3              Asbestos                 Bricks  ...        0           0   \n4              Asbestos                 Bricks  ...        0           0   \n\n      totmhinc econact_hh stratum geotype      metro      metro_code  \\\n0  Unspecified          1   10301       3  Non-metro  WC - Non-metro   \n1         6946          2   10106       1  Non-metro  WC - Non-metro   \n2         3720          0   10106       1  Non-metro  WC - Non-metro   \n3            0          0   10106       1  Non-metro  WC - Non-metro   \n4  Unspecified          2   10301       3  Non-metro  WC - Non-metro   \n\n    rotation    house_wgt  \n0  Quarter 3  2180.634716  \n1  Quarter 3  4205.095932  \n2  Quarter 3  1556.247309  \n3  Quarter 3  1279.962017  \n4  Quarter 3  2247.748693  \n\n[5 rows x 117 columns]",
      "text/html": "<div>\n<style scoped>\n    .dataframe tbody tr th:only-of-type {\n        vertical-align: middle;\n    }\n\n    .dataframe tbody tr th {\n        vertical-align: top;\n    }\n\n    .dataframe thead th {\n        text-align: right;\n    }\n</style>\n<table border=\"1\" class=\"dataframe\">\n  <thead>\n    <tr style=\"text-align: right;\">\n      <th></th>\n      <th>uqnr</th>\n      <th>personnr</th>\n      <th>psu</th>\n      <th>prov</th>\n      <th>head_popgrp</th>\n      <th>head_sex</th>\n      <th>head_age</th>\n      <th>hsg_maind</th>\n      <th>hsg_roof</th>\n      <th>hsg_walls</th>\n      <th>...</th>\n      <th>disab_hh</th>\n      <th>sevdisab_hh</th>\n      <th>totmhinc</th>\n      <th>econact_hh</th>\n      <th>stratum</th>\n      <th>geotype</th>\n      <th>metro</th>\n      <th>metro_code</th>\n      <th>rotation</th>\n      <th>house_wgt</th>\n    </tr>\n  </thead>\n  <tbody>\n    <tr>\n      <th>0</th>\n      <td>160100090000003901</td>\n      <td>01</td>\n      <td>1.601001e+10</td>\n      <td>Western Cape</td>\n      <td>White</td>\n      <td>Male</td>\n      <td>78</td>\n      <td>Dwelling/house or brick/concrete block structu...</td>\n      <td>Corrugated iron/zinc</td>\n      <td>Bricks</td>\n      <td>...</td>\n      <td>1</td>\n      <td>1</td>\n      <td>Unspecified</td>\n      <td>1</td>\n      <td>10301</td>\n      <td>3</td>\n      <td>Non-metro</td>\n      <td>WC - Non-metro</td>\n      <td>Quarter 3</td>\n      <td>2180.634716</td>\n    </tr>\n    <tr>\n      <th>1</th>\n      <td>160100630000010801</td>\n      <td>01</td>\n      <td>1.601006e+10</td>\n      <td>Western Cape</td>\n      <td>Coloured</td>\n      <td>Female</td>\n      <td>28</td>\n      <td>Dwelling/house or brick/concrete block structu...</td>\n      <td>Corrugated iron/zinc</td>\n      <td>Cement block/concrete</td>\n      <td>...</td>\n      <td>0</td>\n      <td>0</td>\n      <td>6946</td>\n      <td>2</td>\n      <td>10106</td>\n      <td>1</td>\n      <td>Non-metro</td>\n      <td>WC - Non-metro</td>\n      <td>Quarter 3</td>\n      <td>4205.095932</td>\n    </tr>\n    <tr>\n      <th>2</th>\n      <td>160100630000018001</td>\n      <td>01</td>\n      <td>1.601006e+10</td>\n      <td>Western Cape</td>\n      <td>Coloured</td>\n      <td>Female</td>\n      <td>54</td>\n      <td>Dwelling/house or brick/concrete block structu...</td>\n      <td>Corrugated iron/zinc</td>\n      <td>Cement block/concrete</td>\n      <td>...</td>\n      <td>1</td>\n      <td>0</td>\n      <td>3720</td>\n      <td>0</td>\n      <td>10106</td>\n      <td>1</td>\n      <td>Non-metro</td>\n      <td>WC - Non-metro</td>\n      <td>Quarter 3</td>\n      <td>1556.247309</td>\n    </tr>\n    <tr>\n      <th>3</th>\n      <td>160100630000021601</td>\n      <td>01</td>\n      <td>1.601006e+10</td>\n      <td>Western Cape</td>\n      <td>White</td>\n      <td>Male</td>\n      <td>68</td>\n      <td>Dwelling/house or brick/concrete block structu...</td>\n      <td>Asbestos</td>\n      <td>Bricks</td>\n      <td>...</td>\n      <td>0</td>\n      <td>0</td>\n      <td>0</td>\n      <td>0</td>\n      <td>10106</td>\n      <td>1</td>\n      <td>Non-metro</td>\n      <td>WC - Non-metro</td>\n      <td>Quarter 3</td>\n      <td>1279.962017</td>\n    </tr>\n    <tr>\n      <th>4</th>\n      <td>160100920000004701</td>\n      <td>01</td>\n      <td>1.601009e+10</td>\n      <td>Western Cape</td>\n      <td>White</td>\n      <td>Male</td>\n      <td>52</td>\n      <td>Dwelling/house or brick/concrete block structu...</td>\n      <td>Asbestos</td>\n      <td>Bricks</td>\n      <td>...</td>\n      <td>0</td>\n      <td>0</td>\n      <td>Unspecified</td>\n      <td>2</td>\n      <td>10301</td>\n      <td>3</td>\n      <td>Non-metro</td>\n      <td>WC - Non-metro</td>\n      <td>Quarter 3</td>\n      <td>2247.748693</td>\n    </tr>\n  </tbody>\n</table>\n<p>5 rows × 117 columns</p>\n</div>"
     },
     "execution_count": 30,
     "metadata": {},
     "output_type": "execute_result"
    }
   ],
   "source": [
    "df_2021.head()"
   ],
   "metadata": {
    "collapsed": false
   }
  },
  {
   "cell_type": "code",
   "execution_count": 32,
   "outputs": [
    {
     "name": "stdout",
     "output_type": "stream",
     "text": [
      "Household count 2021 = 9629\n",
      "Household count 2020 = 8896\n",
      "Household count 2019 = 68986\n",
      "Household count 2018 = 20908\n",
      "Household count 2017 = 21225\n"
     ]
    }
   ],
   "source": [
    "# Households\n",
    "print(f'Household count 2021 = {len(df_2021)}')\n",
    "print(f'Household count 2020 = {len(df_2020)}')\n",
    "print(f'Household count 2019 = {len(df_2019)}')\n",
    "print(f'Household count 2018 = {len(df_2018)}')\n",
    "print(f'Household count 2017 = {len(df_2017)}')\n"
   ],
   "metadata": {
    "collapsed": false
   }
  },
  {
   "cell_type": "code",
   "execution_count": null,
   "outputs": [],
   "source": [
    "# Clusters\n"
   ],
   "metadata": {
    "collapsed": false
   }
  }
 ],
 "metadata": {
  "kernelspec": {
   "display_name": "Python 3",
   "language": "python",
   "name": "python3"
  },
  "language_info": {
   "codemirror_mode": {
    "name": "ipython",
    "version": 2
   },
   "file_extension": ".py",
   "mimetype": "text/x-python",
   "name": "python",
   "nbconvert_exporter": "python",
   "pygments_lexer": "ipython2",
   "version": "2.7.6"
  }
 },
 "nbformat": 4,
 "nbformat_minor": 0
}
