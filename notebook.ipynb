{
 "cells": [
  {
   "cell_type": "markdown",
   "source": [
    "# My Notebook\n",
    "This is a Jupyter Notebook for in progress work that I am doing that I have not extracted into the right places yet or made permanent in my repo."
   ],
   "metadata": {
    "collapsed": false
   }
  },
  {
   "cell_type": "code",
   "execution_count": 13,
   "outputs": [],
   "source": [
    "# Imports\n",
    "import pandas as pd"
   ],
   "metadata": {
    "collapsed": false
   }
  },
  {
   "cell_type": "markdown",
   "source": [
    "## Analysing DHS Data"
   ],
   "metadata": {
    "collapsed": false
   }
  },
  {
   "cell_type": "code",
   "execution_count": 14,
   "outputs": [
    {
     "data": {
      "text/plain": "           hhid hv000  hv001  hv002 hv003  hv004    hv005  hv006  hv007  \\\n0         1  11   ZA7      1     11     1      1  1269316      8   2016   \n1         1  13   ZA7      1     13     2      1  1269316      8   2016   \n2         1  19   ZA7      1     19     1      1  1269316      8   2016   \n3         1  27   ZA7      1     27     1      1  1269316     10   2016   \n4         1  28   ZA7      1     28     2      1  1269316      8   2016   \n\n   hv008  ...  shmhba1c_15  shmhba1c_16  shmhba1c_17  shmhba1c_18  \\\n0   1400  ...          NaN          NaN          NaN          NaN   \n1   1400  ...          NaN          NaN          NaN          NaN   \n2   1400  ...          NaN          NaN          NaN          NaN   \n3   1402  ...          NaN          NaN          NaN          NaN   \n4   1400  ...          NaN          NaN          NaN          NaN   \n\n   shmhba1c_19  shmhba1c_20  shmhba1c_21 shmhba1c_22  shmhba1c_23  shmhba1c_24  \n0          NaN          NaN          NaN         NaN          NaN          NaN  \n1          NaN          NaN          NaN         NaN          NaN          NaN  \n2          NaN          NaN          NaN         NaN          NaN          NaN  \n3          NaN          NaN          NaN         NaN          NaN          NaN  \n4          NaN          NaN          NaN         NaN          NaN          NaN  \n\n[5 rows x 6148 columns]",
      "text/html": "<div>\n<style scoped>\n    .dataframe tbody tr th:only-of-type {\n        vertical-align: middle;\n    }\n\n    .dataframe tbody tr th {\n        vertical-align: top;\n    }\n\n    .dataframe thead th {\n        text-align: right;\n    }\n</style>\n<table border=\"1\" class=\"dataframe\">\n  <thead>\n    <tr style=\"text-align: right;\">\n      <th></th>\n      <th>hhid</th>\n      <th>hv000</th>\n      <th>hv001</th>\n      <th>hv002</th>\n      <th>hv003</th>\n      <th>hv004</th>\n      <th>hv005</th>\n      <th>hv006</th>\n      <th>hv007</th>\n      <th>hv008</th>\n      <th>...</th>\n      <th>shmhba1c_15</th>\n      <th>shmhba1c_16</th>\n      <th>shmhba1c_17</th>\n      <th>shmhba1c_18</th>\n      <th>shmhba1c_19</th>\n      <th>shmhba1c_20</th>\n      <th>shmhba1c_21</th>\n      <th>shmhba1c_22</th>\n      <th>shmhba1c_23</th>\n      <th>shmhba1c_24</th>\n    </tr>\n  </thead>\n  <tbody>\n    <tr>\n      <th>0</th>\n      <td>1  11</td>\n      <td>ZA7</td>\n      <td>1</td>\n      <td>11</td>\n      <td>1</td>\n      <td>1</td>\n      <td>1269316</td>\n      <td>8</td>\n      <td>2016</td>\n      <td>1400</td>\n      <td>...</td>\n      <td>NaN</td>\n      <td>NaN</td>\n      <td>NaN</td>\n      <td>NaN</td>\n      <td>NaN</td>\n      <td>NaN</td>\n      <td>NaN</td>\n      <td>NaN</td>\n      <td>NaN</td>\n      <td>NaN</td>\n    </tr>\n    <tr>\n      <th>1</th>\n      <td>1  13</td>\n      <td>ZA7</td>\n      <td>1</td>\n      <td>13</td>\n      <td>2</td>\n      <td>1</td>\n      <td>1269316</td>\n      <td>8</td>\n      <td>2016</td>\n      <td>1400</td>\n      <td>...</td>\n      <td>NaN</td>\n      <td>NaN</td>\n      <td>NaN</td>\n      <td>NaN</td>\n      <td>NaN</td>\n      <td>NaN</td>\n      <td>NaN</td>\n      <td>NaN</td>\n      <td>NaN</td>\n      <td>NaN</td>\n    </tr>\n    <tr>\n      <th>2</th>\n      <td>1  19</td>\n      <td>ZA7</td>\n      <td>1</td>\n      <td>19</td>\n      <td>1</td>\n      <td>1</td>\n      <td>1269316</td>\n      <td>8</td>\n      <td>2016</td>\n      <td>1400</td>\n      <td>...</td>\n      <td>NaN</td>\n      <td>NaN</td>\n      <td>NaN</td>\n      <td>NaN</td>\n      <td>NaN</td>\n      <td>NaN</td>\n      <td>NaN</td>\n      <td>NaN</td>\n      <td>NaN</td>\n      <td>NaN</td>\n    </tr>\n    <tr>\n      <th>3</th>\n      <td>1  27</td>\n      <td>ZA7</td>\n      <td>1</td>\n      <td>27</td>\n      <td>1</td>\n      <td>1</td>\n      <td>1269316</td>\n      <td>10</td>\n      <td>2016</td>\n      <td>1402</td>\n      <td>...</td>\n      <td>NaN</td>\n      <td>NaN</td>\n      <td>NaN</td>\n      <td>NaN</td>\n      <td>NaN</td>\n      <td>NaN</td>\n      <td>NaN</td>\n      <td>NaN</td>\n      <td>NaN</td>\n      <td>NaN</td>\n    </tr>\n    <tr>\n      <th>4</th>\n      <td>1  28</td>\n      <td>ZA7</td>\n      <td>1</td>\n      <td>28</td>\n      <td>2</td>\n      <td>1</td>\n      <td>1269316</td>\n      <td>8</td>\n      <td>2016</td>\n      <td>1400</td>\n      <td>...</td>\n      <td>NaN</td>\n      <td>NaN</td>\n      <td>NaN</td>\n      <td>NaN</td>\n      <td>NaN</td>\n      <td>NaN</td>\n      <td>NaN</td>\n      <td>NaN</td>\n      <td>NaN</td>\n      <td>NaN</td>\n    </tr>\n  </tbody>\n</table>\n<p>5 rows × 6148 columns</p>\n</div>"
     },
     "execution_count": 14,
     "metadata": {},
     "output_type": "execute_result"
    }
   ],
   "source": [
    "# CONSTANTS\n",
    "\n",
    "# Data file paths\n",
    "DHS_2016_DATA = './01-reproduction/data/dhs-south-africa-2016.dta'\n",
    "df_dhs = pd.read_stata(DHS_2016_DATA)\n",
    "df_dhs.head()\n"
   ],
   "metadata": {
    "collapsed": false
   }
  },
  {
   "cell_type": "code",
   "execution_count": 15,
   "outputs": [
    {
     "name": "stdout",
     "output_type": "stream",
     "text": [
      "Household count DHS 2016 = 11083\n"
     ]
    }
   ],
   "source": [
    "print(f'Household count DHS 2016 = {len(df_dhs)}')"
   ],
   "metadata": {
    "collapsed": false
   }
  },
  {
   "cell_type": "code",
   "execution_count": 16,
   "outputs": [
    {
     "name": "stdout",
     "output_type": "stream",
     "text": [
      "Clusters DHS 2016 = 746\n"
     ]
    }
   ],
   "source": [
    "# Clusters\n",
    "clusters = df_dhs.groupby(['hv001']).count()\n",
    "\n",
    "print(f'Clusters DHS 2016 = {len(clusters)}')"
   ],
   "metadata": {
    "collapsed": false
   }
  },
  {
   "cell_type": "code",
   "execution_count": 17,
   "outputs": [
    {
     "name": "stdout",
     "output_type": "stream",
     "text": [
      "Households per cluster DHS 2016 = 14.85656836461126\n"
     ]
    }
   ],
   "source": [
    "# Households per cluster\n",
    "a = len(df_dhs)/len(clusters)\n",
    "\n",
    "print(f'Households per cluster DHS 2016 = {a}')\n"
   ],
   "metadata": {
    "collapsed": false
   }
  },
  {
   "cell_type": "markdown",
   "source": [
    "## Analysing GHS Data"
   ],
   "metadata": {
    "collapsed": false
   }
  },
  {
   "cell_type": "code",
   "execution_count": 18,
   "outputs": [],
   "source": [
    "# CONSTANTS\n",
    "\n",
    "# Data file paths\n",
    "GHS_2021_DATA = './02-extension/data/ghs-2021.dta'\n",
    "GHS_2020_DATA = './02-extension/data/ghs-2020.dta'\n",
    "GHS_2019_DATA = './02-extension/data/ghs-2019.dta'\n",
    "GHS_2018_DATA = './02-extension/data/ghs-2018.dta'\n",
    "GHS_2017_DATA = './02-extension/data/ghs-2017.dta'\n"
   ],
   "metadata": {
    "collapsed": false
   }
  },
  {
   "cell_type": "code",
   "execution_count": 19,
   "outputs": [],
   "source": [
    "df_2021 = pd.read_stata(GHS_2021_DATA)\n",
    "df_2020 = pd.read_stata(GHS_2020_DATA, convert_categoricals=False)\n",
    "df_2019 = pd.read_stata(GHS_2019_DATA, convert_categoricals=False)\n",
    "df_2018 = pd.read_stata(GHS_2018_DATA, convert_categoricals=False)\n",
    "df_2017 = pd.read_stata(GHS_2017_DATA, convert_categoricals=False)\n"
   ],
   "metadata": {
    "collapsed": false
   }
  },
  {
   "cell_type": "code",
   "execution_count": 20,
   "outputs": [
    {
     "data": {
      "text/plain": "                 uqnr personnr           psu          prov head_popgrp  \\\n0  160100090000003901       01  1.601001e+10  Western Cape       White   \n1  160100630000010801       01  1.601006e+10  Western Cape    Coloured   \n2  160100630000018001       01  1.601006e+10  Western Cape    Coloured   \n3  160100630000021601       01  1.601006e+10  Western Cape       White   \n4  160100920000004701       01  1.601009e+10  Western Cape       White   \n\n  head_sex head_age                                          hsg_maind  \\\n0     Male       78  Dwelling/house or brick/concrete block structu...   \n1   Female       28  Dwelling/house or brick/concrete block structu...   \n2   Female       54  Dwelling/house or brick/concrete block structu...   \n3     Male       68  Dwelling/house or brick/concrete block structu...   \n4     Male       52  Dwelling/house or brick/concrete block structu...   \n\n               hsg_roof              hsg_walls  ... disab_hh sevdisab_hh  \\\n0  Corrugated iron/zinc                 Bricks  ...        1           1   \n1  Corrugated iron/zinc  Cement block/concrete  ...        0           0   \n2  Corrugated iron/zinc  Cement block/concrete  ...        1           0   \n3              Asbestos                 Bricks  ...        0           0   \n4              Asbestos                 Bricks  ...        0           0   \n\n      totmhinc econact_hh stratum geotype      metro      metro_code  \\\n0  Unspecified          1   10301       3  Non-metro  WC - Non-metro   \n1         6946          2   10106       1  Non-metro  WC - Non-metro   \n2         3720          0   10106       1  Non-metro  WC - Non-metro   \n3            0          0   10106       1  Non-metro  WC - Non-metro   \n4  Unspecified          2   10301       3  Non-metro  WC - Non-metro   \n\n    rotation    house_wgt  \n0  Quarter 3  2180.634716  \n1  Quarter 3  4205.095932  \n2  Quarter 3  1556.247309  \n3  Quarter 3  1279.962017  \n4  Quarter 3  2247.748693  \n\n[5 rows x 117 columns]",
      "text/html": "<div>\n<style scoped>\n    .dataframe tbody tr th:only-of-type {\n        vertical-align: middle;\n    }\n\n    .dataframe tbody tr th {\n        vertical-align: top;\n    }\n\n    .dataframe thead th {\n        text-align: right;\n    }\n</style>\n<table border=\"1\" class=\"dataframe\">\n  <thead>\n    <tr style=\"text-align: right;\">\n      <th></th>\n      <th>uqnr</th>\n      <th>personnr</th>\n      <th>psu</th>\n      <th>prov</th>\n      <th>head_popgrp</th>\n      <th>head_sex</th>\n      <th>head_age</th>\n      <th>hsg_maind</th>\n      <th>hsg_roof</th>\n      <th>hsg_walls</th>\n      <th>...</th>\n      <th>disab_hh</th>\n      <th>sevdisab_hh</th>\n      <th>totmhinc</th>\n      <th>econact_hh</th>\n      <th>stratum</th>\n      <th>geotype</th>\n      <th>metro</th>\n      <th>metro_code</th>\n      <th>rotation</th>\n      <th>house_wgt</th>\n    </tr>\n  </thead>\n  <tbody>\n    <tr>\n      <th>0</th>\n      <td>160100090000003901</td>\n      <td>01</td>\n      <td>1.601001e+10</td>\n      <td>Western Cape</td>\n      <td>White</td>\n      <td>Male</td>\n      <td>78</td>\n      <td>Dwelling/house or brick/concrete block structu...</td>\n      <td>Corrugated iron/zinc</td>\n      <td>Bricks</td>\n      <td>...</td>\n      <td>1</td>\n      <td>1</td>\n      <td>Unspecified</td>\n      <td>1</td>\n      <td>10301</td>\n      <td>3</td>\n      <td>Non-metro</td>\n      <td>WC - Non-metro</td>\n      <td>Quarter 3</td>\n      <td>2180.634716</td>\n    </tr>\n    <tr>\n      <th>1</th>\n      <td>160100630000010801</td>\n      <td>01</td>\n      <td>1.601006e+10</td>\n      <td>Western Cape</td>\n      <td>Coloured</td>\n      <td>Female</td>\n      <td>28</td>\n      <td>Dwelling/house or brick/concrete block structu...</td>\n      <td>Corrugated iron/zinc</td>\n      <td>Cement block/concrete</td>\n      <td>...</td>\n      <td>0</td>\n      <td>0</td>\n      <td>6946</td>\n      <td>2</td>\n      <td>10106</td>\n      <td>1</td>\n      <td>Non-metro</td>\n      <td>WC - Non-metro</td>\n      <td>Quarter 3</td>\n      <td>4205.095932</td>\n    </tr>\n    <tr>\n      <th>2</th>\n      <td>160100630000018001</td>\n      <td>01</td>\n      <td>1.601006e+10</td>\n      <td>Western Cape</td>\n      <td>Coloured</td>\n      <td>Female</td>\n      <td>54</td>\n      <td>Dwelling/house or brick/concrete block structu...</td>\n      <td>Corrugated iron/zinc</td>\n      <td>Cement block/concrete</td>\n      <td>...</td>\n      <td>1</td>\n      <td>0</td>\n      <td>3720</td>\n      <td>0</td>\n      <td>10106</td>\n      <td>1</td>\n      <td>Non-metro</td>\n      <td>WC - Non-metro</td>\n      <td>Quarter 3</td>\n      <td>1556.247309</td>\n    </tr>\n    <tr>\n      <th>3</th>\n      <td>160100630000021601</td>\n      <td>01</td>\n      <td>1.601006e+10</td>\n      <td>Western Cape</td>\n      <td>White</td>\n      <td>Male</td>\n      <td>68</td>\n      <td>Dwelling/house or brick/concrete block structu...</td>\n      <td>Asbestos</td>\n      <td>Bricks</td>\n      <td>...</td>\n      <td>0</td>\n      <td>0</td>\n      <td>0</td>\n      <td>0</td>\n      <td>10106</td>\n      <td>1</td>\n      <td>Non-metro</td>\n      <td>WC - Non-metro</td>\n      <td>Quarter 3</td>\n      <td>1279.962017</td>\n    </tr>\n    <tr>\n      <th>4</th>\n      <td>160100920000004701</td>\n      <td>01</td>\n      <td>1.601009e+10</td>\n      <td>Western Cape</td>\n      <td>White</td>\n      <td>Male</td>\n      <td>52</td>\n      <td>Dwelling/house or brick/concrete block structu...</td>\n      <td>Asbestos</td>\n      <td>Bricks</td>\n      <td>...</td>\n      <td>0</td>\n      <td>0</td>\n      <td>Unspecified</td>\n      <td>2</td>\n      <td>10301</td>\n      <td>3</td>\n      <td>Non-metro</td>\n      <td>WC - Non-metro</td>\n      <td>Quarter 3</td>\n      <td>2247.748693</td>\n    </tr>\n  </tbody>\n</table>\n<p>5 rows × 117 columns</p>\n</div>"
     },
     "execution_count": 20,
     "metadata": {},
     "output_type": "execute_result"
    }
   ],
   "source": [
    "df_2021.head()"
   ],
   "metadata": {
    "collapsed": false
   }
  },
  {
   "cell_type": "code",
   "execution_count": 21,
   "outputs": [
    {
     "name": "stdout",
     "output_type": "stream",
     "text": [
      "Household count 2021 = 9629\n",
      "Household count 2020 = 8896\n",
      "Household count 2019 = 68986\n",
      "Household count 2018 = 20908\n",
      "Household count 2017 = 21225\n"
     ]
    }
   ],
   "source": [
    "# Households\n",
    "print(f'Household count 2021 = {len(df_2021)}')\n",
    "print(f'Household count 2020 = {len(df_2020)}')\n",
    "print(f'Household count 2019 = {len(df_2019)}')\n",
    "print(f'Household count 2018 = {len(df_2018)}')\n",
    "print(f'Household count 2017 = {len(df_2017)}')\n"
   ],
   "metadata": {
    "collapsed": false
   }
  },
  {
   "cell_type": "code",
   "execution_count": 22,
   "outputs": [
    {
     "name": "stdout",
     "output_type": "stream",
     "text": [
      "Household per province 2021\n",
      "prov\n",
      "Western Cape      812\n",
      "Eastern Cape     1499\n",
      "Northern Cape     405\n",
      "Free State        540\n",
      "KwaZulu-Natal    1831\n",
      "North West        626\n",
      "Gauteng          1799\n",
      "Mpumalanga        839\n",
      "Limpopo          1278\n",
      "Name: uqnr, dtype: int64\n",
      "------------------------------------------\n",
      "Household per province 2020\n",
      "prov\n",
      "1     652\n",
      "2    1190\n",
      "3     381\n",
      "4     519\n",
      "5    1532\n",
      "6     588\n",
      "7    1974\n",
      "8     790\n",
      "9    1270\n",
      "Name: uqnr, dtype: int64\n",
      "------------------------------------------\n",
      "Household per province 2019\n",
      "prov\n",
      "1     6051\n",
      "2     9279\n",
      "3     3156\n",
      "4     4070\n",
      "5    12462\n",
      "6     4420\n",
      "7    15455\n",
      "8     5901\n",
      "9     8192\n",
      "Name: uqnr, dtype: int64\n",
      "------------------------------------------\n",
      "Household per province 2018\n",
      "prov\n",
      "1    2091\n",
      "2    2775\n",
      "3     925\n",
      "4    1239\n",
      "5    3337\n",
      "6    1424\n",
      "7    4996\n",
      "8    1748\n",
      "9    2373\n",
      "Name: uqnr, dtype: int64\n",
      "------------------------------------------\n",
      "Household per province 2017\n",
      "prov\n",
      "1    2102\n",
      "2    2837\n",
      "3     921\n",
      "4    1323\n",
      "5    3379\n",
      "6    1453\n",
      "7    5089\n",
      "8    1780\n",
      "9    2341\n",
      "Name: uqnr, dtype: int64\n"
     ]
    }
   ],
   "source": [
    "# Households per province\n",
    "households_per_province_2021 = df_2021.groupby(['prov'])['uqnr'].count()\n",
    "households_per_province_2020 = df_2020.groupby(['prov'])['uqnr'].count()\n",
    "households_per_province_2019 = df_2019.groupby(['prov'])['uqnr'].count()\n",
    "households_per_province_2018 = df_2018.groupby(['prov'])['uqnr'].count()\n",
    "households_per_province_2017 = df_2017.groupby(['prov'])['uqnr'].count()\n",
    "\n",
    "print(f'Household per province 2021')\n",
    "print(households_per_province_2021)\n",
    "print('------------------------------------------')\n",
    "print(f'Household per province 2020')\n",
    "print(households_per_province_2020)\n",
    "print('------------------------------------------')\n",
    "print(f'Household per province 2019')\n",
    "print(households_per_province_2019)\n",
    "print('------------------------------------------')\n",
    "print(f'Household per province 2018')\n",
    "print(households_per_province_2018)\n",
    "print('------------------------------------------')\n",
    "print(f'Household per province 2017')\n",
    "print(households_per_province_2017)"
   ],
   "metadata": {
    "collapsed": false
   }
  },
  {
   "cell_type": "code",
   "execution_count": 23,
   "outputs": [
    {
     "name": "stdout",
     "output_type": "stream",
     "text": [
      "Clusters 2021 = 2842\n",
      "Clusters 2020 = 2831\n",
      "Clusters 2019 = 3220\n"
     ]
    }
   ],
   "source": [
    "# Clusters\n",
    "psu_2021 = df_2021.groupby(['psu'])\n",
    "psu_2020 = df_2020.groupby(['psu'])\n",
    "psu_2019 = df_2019.groupby(['psu'])\n",
    "# psu_2018 = df_2018.groupby(['psu'])\n",
    "# psu_2017 = df_2017.groupby(['psu'])\n",
    "\n",
    "print(f'Clusters 2021 = {len(psu_2021)}')\n",
    "print(f'Clusters 2020 = {len(psu_2020)}')\n",
    "print(f'Clusters 2019 = {len(psu_2019)}')\n",
    "# print(f'Clusters 2018 = {len(psu_2018)}')\n",
    "# print(f'Clusters 2017 = {len(psu_2017)}')"
   ],
   "metadata": {
    "collapsed": false
   }
  },
  {
   "cell_type": "code",
   "execution_count": 25,
   "outputs": [
    {
     "name": "stdout",
     "output_type": "stream",
     "text": [
      "Clusters 2021 = 3.388106966924701\n",
      "Clusters 2020 = 3.142352525609325\n",
      "Clusters 2019 = 21.42422360248447\n"
     ]
    }
   ],
   "source": [
    "# Average households per cluster TODO: Return here\n",
    "# Households per cluster\n",
    "household_per_psu_2021 = len(df_2021)/len(psu_2021)\n",
    "household_per_psu_2020 = len(df_2020)/len(psu_2020)\n",
    "household_per_psu_2019 = len(df_2019)/len(psu_2019)\n",
    "# household_per_psu_2018 = df_2018.groupby(['psu'])\n",
    "# household_per_psu_2017 = df_2017.groupby(['psu'])\n",
    "\n",
    "print(f'Clusters 2021 = {household_per_psu_2021}')\n",
    "print(f'Clusters 2020 = {household_per_psu_2020}')\n",
    "print(f'Clusters 2019 = {household_per_psu_2019}')\n",
    "# print(f'Clusters 2018 = {len(household_per_psu_2018)}')\n",
    "# print(f'Clusters 2017 = {len(household_per_psu_2017)}')"
   ],
   "metadata": {
    "collapsed": false
   }
  }
 ],
 "metadata": {
  "kernelspec": {
   "display_name": "Python 3",
   "language": "python",
   "name": "python3"
  },
  "language_info": {
   "codemirror_mode": {
    "name": "ipython",
    "version": 2
   },
   "file_extension": ".py",
   "mimetype": "text/x-python",
   "name": "python",
   "nbconvert_exporter": "python",
   "pygments_lexer": "ipython2",
   "version": "2.7.6"
  }
 },
 "nbformat": 4,
 "nbformat_minor": 0
}
